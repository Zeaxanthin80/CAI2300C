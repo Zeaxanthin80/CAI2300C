{
 "cells": [
  {
   "cell_type": "markdown",
   "metadata": {
    "id": "6mxC9lBbuaVG"
   },
   "source": [
    "# Introduction Intro"
   ]
  },
  {
   "cell_type": "code",
   "execution_count": null,
   "metadata": {
    "colab": {
     "base_uri": "https://localhost:8080/"
    },
    "executionInfo": {
     "elapsed": 20507,
     "status": "ok",
     "timestamp": 1736905228319,
     "user": {
      "displayName": "Jose Marquez",
      "userId": "01676182282348531503"
     },
     "user_tz": 300
    },
    "id": "6fFxvdBno8Sm",
    "outputId": "488b2b0e-9d71-4f17-e9e4-e9b574fb1ce9"
   },
   "outputs": [
    {
     "name": "stderr",
     "output_type": "stream",
     "text": [
      "[nltk_data] Downloading package punkt to /root/nltk_data...\n",
      "[nltk_data]   Unzipping tokenizers/punkt.zip.\n",
      "[nltk_data] Downloading package stopwords to /root/nltk_data...\n",
      "[nltk_data]   Unzipping corpora/stopwords.zip.\n",
      "[nltk_data] Downloading package wordnet to /root/nltk_data...\n",
      "[nltk_data] Downloading package averaged_perceptron_tagger to\n",
      "[nltk_data]     /root/nltk_data...\n",
      "[nltk_data]   Unzipping taggers/averaged_perceptron_tagger.zip.\n",
      "[nltk_data] Downloading package maxent_ne_chunker to\n",
      "[nltk_data]     /root/nltk_data...\n",
      "[nltk_data]   Unzipping chunkers/maxent_ne_chunker.zip.\n",
      "[nltk_data] Downloading package words to /root/nltk_data...\n",
      "[nltk_data]   Unzipping corpora/words.zip.\n",
      "[nltk_data] Downloading package punkt_tab to /root/nltk_data...\n",
      "[nltk_data]   Unzipping tokenizers/punkt_tab.zip.\n",
      "[nltk_data] Downloading package averaged_perceptron_tagger_eng to\n",
      "[nltk_data]     /root/nltk_data...\n",
      "[nltk_data]   Unzipping taggers/averaged_perceptron_tagger_eng.zip.\n",
      "[nltk_data] Downloading package maxent_ne_chunker_tab to\n",
      "[nltk_data]     /root/nltk_data...\n",
      "[nltk_data]   Unzipping chunkers/maxent_ne_chunker_tab.zip.\n"
     ]
    },
    {
     "data": {
      "text/plain": [
       "True"
      ]
     },
     "execution_count": 2,
     "metadata": {},
     "output_type": "execute_result"
    }
   ],
   "source": [
    "import nltk\n",
    "nltk.download('punkt')\n",
    "nltk.download('stopwords')\n",
    "nltk.download('wordnet')\n",
    "nltk.download('averaged_perceptron_tagger')\n",
    "nltk.download('maxent_ne_chunker')\n",
    "nltk.download('words')\n",
    "nltk.download('punkt_tab')\n",
    "nltk.download('averaged_perceptron_tagger_eng')\n",
    "nltk.download('maxent_ne_chunker_tab')"
   ]
  },
  {
   "cell_type": "code",
   "execution_count": null,
   "metadata": {
    "id": "-cuAIwmcrkWg"
   },
   "outputs": [],
   "source": [
    "data = ''' Miami Dade College, known locally as MDC, is an institution of higher education in\n",
    "Southeast Florida. It is the largest college by enrollment in the United States,\n",
    "with the most diverse student body, and is recognized as a prominent educational\n",
    "establishment in the nation. '''"
   ]
  },
  {
   "cell_type": "markdown",
   "metadata": {
    "id": "vwxzJOvavpGb"
   },
   "source": [
    "# Tokenize"
   ]
  },
  {
   "cell_type": "code",
   "execution_count": null,
   "metadata": {
    "colab": {
     "base_uri": "https://localhost:8080/"
    },
    "executionInfo": {
     "elapsed": 162,
     "status": "ok",
     "timestamp": 1736905240207,
     "user": {
      "displayName": "Jose Marquez",
      "userId": "01676182282348531503"
     },
     "user_tz": 300
    },
    "id": "zHCk9J5RrpK4",
    "outputId": "a92bb8c9-6941-45a4-f79b-8f818acafcab"
   },
   "outputs": [
    {
     "data": {
      "text/plain": [
       "[' Miami Dade College, known locally as MDC, is an institution of higher education in\\nSoutheast Florida.',\n",
       " 'It is the largest college by enrollment in the United States,\\nwith the most diverse student body, and is recognized as a prominent educational\\nestablishment in the nation.']"
      ]
     },
     "execution_count": 4,
     "metadata": {},
     "output_type": "execute_result"
    }
   ],
   "source": [
    "nltk.sent_tokenize(data)"
   ]
  },
  {
   "cell_type": "code",
   "execution_count": null,
   "metadata": {
    "colab": {
     "base_uri": "https://localhost:8080/"
    },
    "executionInfo": {
     "elapsed": 168,
     "status": "ok",
     "timestamp": 1736905241767,
     "user": {
      "displayName": "Jose Marquez",
      "userId": "01676182282348531503"
     },
     "user_tz": 300
    },
    "id": "OU-BpoCgsDMj",
    "outputId": "1a0ff9cc-9b28-4cd5-d6a8-9ae696014bf1"
   },
   "outputs": [
    {
     "data": {
      "text/plain": [
       "['Miami',\n",
       " 'Dade',\n",
       " 'College',\n",
       " ',',\n",
       " 'known',\n",
       " 'locally',\n",
       " 'as',\n",
       " 'MDC',\n",
       " ',',\n",
       " 'is',\n",
       " 'an',\n",
       " 'institution',\n",
       " 'of',\n",
       " 'higher',\n",
       " 'education',\n",
       " 'in',\n",
       " 'Southeast',\n",
       " 'Florida',\n",
       " '.',\n",
       " 'It',\n",
       " 'is',\n",
       " 'the',\n",
       " 'largest',\n",
       " 'college',\n",
       " 'by',\n",
       " 'enrollment',\n",
       " 'in',\n",
       " 'the',\n",
       " 'United',\n",
       " 'States',\n",
       " ',',\n",
       " 'with',\n",
       " 'the',\n",
       " 'most',\n",
       " 'diverse',\n",
       " 'student',\n",
       " 'body',\n",
       " ',',\n",
       " 'and',\n",
       " 'is',\n",
       " 'recognized',\n",
       " 'as',\n",
       " 'a',\n",
       " 'prominent',\n",
       " 'educational',\n",
       " 'establishment',\n",
       " 'in',\n",
       " 'the',\n",
       " 'nation',\n",
       " '.']"
      ]
     },
     "execution_count": 5,
     "metadata": {},
     "output_type": "execute_result"
    }
   ],
   "source": [
    "nltk.word_tokenize(data)"
   ]
  },
  {
   "cell_type": "markdown",
   "metadata": {
    "id": "MPDgpG__vnJ6"
   },
   "source": [
    "# Stemmer"
   ]
  },
  {
   "cell_type": "code",
   "execution_count": null,
   "metadata": {
    "id": "2nKHdQyHsGE7"
   },
   "outputs": [],
   "source": [
    "from nltk.stem import PorterStemmer\n",
    "from nltk.stem import LancasterStemmer, SnowballStemmer\n",
    "from nltk.corpus import stopwords"
   ]
  },
  {
   "cell_type": "code",
   "execution_count": null,
   "metadata": {
    "colab": {
     "base_uri": "https://localhost:8080/"
    },
    "executionInfo": {
     "elapsed": 178,
     "status": "ok",
     "timestamp": 1736905246431,
     "user": {
      "displayName": "Jose Marquez",
      "userId": "01676182282348531503"
     },
     "user_tz": 300
    },
    "id": "f52MZ56CuTH6",
    "outputId": "72f215d7-95e9-42c4-806e-0ce572753d6d"
   },
   "outputs": [
    {
     "name": "stdout",
     "output_type": "stream",
     "text": [
      "Porter stemmer\n",
      "hobbi\n",
      "hobbi\n",
      "comput\n",
      "comput\n",
      "**************************\n",
      "lancaster stemmer\n",
      "hobby\n",
      "hobby\n",
      "comput\n",
      "comput\n",
      "**************************\n",
      "Snowball stemmer\n",
      "hobbi\n",
      "hobbi\n",
      "comput\n",
      "comput\n"
     ]
    }
   ],
   "source": [
    "lancaster = LancasterStemmer()\n",
    "porter = PorterStemmer()\n",
    "Snowball = SnowballStemmer(\"english\")\n",
    "print('Porter stemmer')\n",
    "print(porter.stem(\"hobby\"))\n",
    "print(porter.stem(\"hobbies\"))\n",
    "print(porter.stem(\"computer\"))\n",
    "print(porter.stem(\"computation\"))\n",
    "print(\"**************************\")\n",
    "print('lancaster stemmer')\n",
    "print(lancaster.stem(\"hobby\"))\n",
    "print(lancaster.stem(\"hobbies\"))\n",
    "print(lancaster.stem(\"computer\"))\n",
    "print(porter.stem(\"computation\"))\n",
    "print(\"**************************\")\n",
    "print('Snowball stemmer')\n",
    "print(Snowball.stem(\"hobby\"))\n",
    "print(Snowball.stem(\"hobbies\"))\n",
    "print(Snowball.stem(\"computer\"))\n",
    "print(Snowball.stem(\"computation\"))"
   ]
  },
  {
   "cell_type": "code",
   "execution_count": null,
   "metadata": {
    "colab": {
     "base_uri": "https://localhost:8080/"
    },
    "executionInfo": {
     "elapsed": 127,
     "status": "ok",
     "timestamp": 1736905271685,
     "user": {
      "displayName": "Jose Marquez",
      "userId": "01676182282348531503"
     },
     "user_tz": 300
    },
    "id": "BnF2IYkFunMt",
    "outputId": "4239dbe2-f1b6-4065-ffaa-7d5ae3596e10"
   },
   "outputs": [
    {
     "name": "stdout",
     "output_type": "stream",
     "text": [
      "i was go to the offic on my bike when i saw a car pass by hit the tree .\n",
      "i was going to the off on my bik when i saw a car pass by hit the tre .\n",
      "i wa go to the offic on my bike when i saw a car pass by hit the tree .\n"
     ]
    }
   ],
   "source": [
    "sent = \"I was going to the office on my bike when \\\n",
    "i saw a car passing by hit the tree.\"\n",
    "token = list(nltk.word_tokenize(sent))\n",
    "for stemmer in (Snowball, lancaster, porter):\n",
    "    stemm = [stemmer.stem(t) for t in token]\n",
    "    print(\" \".join(stemm))"
   ]
  },
  {
   "cell_type": "code",
   "execution_count": null,
   "metadata": {
    "id": "n3yHAW0tvI9e"
   },
   "outputs": [],
   "source": [
    "paragraph = \"\"\"Miami Dade College has evolved over decades, becoming a beacon of education in the diverse fabric of Miami. Throughout its existence, students from all corners of the globe have converged here, seeking knowledge and growth. Like India, MDC has seen the influx of various cultures, enriching its own identity without dominating any. This hasn't led MDC to impose its ethos elsewhere, but rather to build a unique educational culture that respects the freedom of thought and diversity. This is the cornerstone of my first vision for MDC - freedom in education.\n",
    "\n",
    "This freedom was envisaged at its founding, setting the stage for an academic revolution. It is this freedom that MDC must continue to cherish, fostering an environment where respect is earned through the empowerment of knowledge.\n",
    "\n",
    "My second vision is for MDC's advancement. For years, we have been an institution nurturing potential. Now, it's time we recognize ourselves as a leader in education, one of the most influential colleges nationwide. We've seen growth in student success, decreases in educational inequity, and our contributions are gaining recognition. Yet, we sometimes hesitate to see ourselves as a hub of advanced education, independent and confident. This must change.\n",
    "\n",
    "My third vision is for MDC to assert itself globally. Respect comes with recognition, and recognition is born of strength—not just in academic excellence but in our ability to impact the community and economy positively. Strength in education fosters respect globally.\n",
    "\n",
    "I have been fortunate to work alongside remarkable educators—innovators in teaching and administration. Their mentorship was an invaluable chapter in my life. At MDC, I see these interactions as key milestones in my career, guiding our collective journey towards these three visions.\"\"\""
   ]
  },
  {
   "cell_type": "code",
   "execution_count": null,
   "metadata": {
    "colab": {
     "base_uri": "https://localhost:8080/"
    },
    "executionInfo": {
     "elapsed": 179,
     "status": "ok",
     "timestamp": 1736905280745,
     "user": {
      "displayName": "Jose Marquez",
      "userId": "01676182282348531503"
     },
     "user_tz": 300
    },
    "id": "oZmlclcAvP73",
    "outputId": "a515ecba-8753-4287-90ef-47558c601a2b"
   },
   "outputs": [
    {
     "data": {
      "text/plain": [
       "['miami dade colleg evolv decad , becom beacon educ divers fabric miami .',\n",
       " 'throughout exist , student corner globe converg , seek knowledg growth .',\n",
       " 'like india , mdc seen influx variou cultur , enrich ident without domin .',\n",
       " \"thi n't led mdc impos etho elsewher , rather build uniqu educ cultur respect freedom thought divers .\",\n",
       " 'thi cornerston first vision mdc - freedom educ .',\n",
       " 'thi freedom envisag found , set stage academ revolut .',\n",
       " 'it freedom mdc must continu cherish , foster environ respect earn empower knowledg .',\n",
       " \"my second vision mdc 's advanc .\",\n",
       " 'for year , institut nurtur potenti .',\n",
       " \"now , 's time recogn leader educ , one influenti colleg nationwid .\",\n",
       " \"we 've seen growth student success , decreas educ inequ , contribut gain recognit .\",\n",
       " 'yet , sometim hesit see hub advanc educ , independ confid .',\n",
       " 'thi must chang .',\n",
       " 'my third vision mdc assert global .',\n",
       " 'respect come recognit , recognit born strength—not academ excel abil impact commun economi posit .',\n",
       " 'strength educ foster respect global .',\n",
       " 'i fortun work alongsid remark educators—innov teach administr .',\n",
       " 'their mentorship invalu chapter life .',\n",
       " 'at mdc , i see interact key mileston career , guid collect journey toward three vision .']"
      ]
     },
     "execution_count": 11,
     "metadata": {},
     "output_type": "execute_result"
    }
   ],
   "source": [
    "sentences = nltk.sent_tokenize(paragraph)\n",
    "stemmer = PorterStemmer()\n",
    "\n",
    "\n",
    "# Stemming\n",
    "for i in range(len(sentences)):\n",
    "    words = nltk.word_tokenize(sentences[i])\n",
    "    words = [stemmer.stem(word) for word in words if word not in set(stopwords.words('english'))]\n",
    "    sentences[i] = ' '.join(words)\n",
    "\n",
    "sentences"
   ]
  },
  {
   "cell_type": "markdown",
   "metadata": {
    "id": "fs5Q6DaFviDN"
   },
   "source": [
    "# Lemmatization\n"
   ]
  },
  {
   "cell_type": "code",
   "execution_count": null,
   "metadata": {
    "id": "lOWCl0q6vrmM"
   },
   "outputs": [],
   "source": [
    "from nltk.stem import WordNetLemmatizer"
   ]
  },
  {
   "cell_type": "code",
   "execution_count": null,
   "metadata": {
    "colab": {
     "base_uri": "https://localhost:8080/"
    },
    "executionInfo": {
     "elapsed": 3876,
     "status": "ok",
     "timestamp": 1736555514646,
     "user": {
      "displayName": "Immanuel Kant",
      "userId": "05198496277802312927"
     },
     "user_tz": 300
    },
    "id": "W9BHshqExi_u",
    "outputId": "96747c9c-7b7a-4300-ba0e-28b3ae76a7b1"
   },
   "outputs": [
    {
     "name": "stdout",
     "output_type": "stream",
     "text": [
      "running\n",
      "run\n",
      "ran\n"
     ]
    }
   ],
   "source": [
    "lemma = WordNetLemmatizer()\n",
    "\n",
    "print(lemma.lemmatize('running'))\n",
    "print(lemma.lemmatize('runs'))\n",
    "print(lemma.lemmatize('ran'))"
   ]
  },
  {
   "cell_type": "code",
   "execution_count": null,
   "metadata": {
    "colab": {
     "base_uri": "https://localhost:8080/"
    },
    "executionInfo": {
     "elapsed": 248,
     "status": "ok",
     "timestamp": 1736555540066,
     "user": {
      "displayName": "Immanuel Kant",
      "userId": "05198496277802312927"
     },
     "user_tz": 300
    },
    "id": "r52btoXixp5Q",
    "outputId": "208d906b-2383-4d63-d68d-30c31b860f37"
   },
   "outputs": [
    {
     "data": {
      "text/plain": [
       "['Miami Dade College evolved decade , becoming beacon education diverse fabric Miami .',\n",
       " 'Throughout existence , student corner globe converged , seeking knowledge growth .',\n",
       " 'Like India , MDC seen influx various culture , enriching identity without dominating .',\n",
       " \"This n't led MDC impose ethos elsewhere , rather build unique educational culture respect freedom thought diversity .\",\n",
       " 'This cornerstone first vision MDC - freedom education .',\n",
       " 'This freedom envisaged founding , setting stage academic revolution .',\n",
       " 'It freedom MDC must continue cherish , fostering environment respect earned empowerment knowledge .',\n",
       " \"My second vision MDC 's advancement .\",\n",
       " 'For year , institution nurturing potential .',\n",
       " \"Now , 's time recognize leader education , one influential college nationwide .\",\n",
       " \"We 've seen growth student success , decrease educational inequity , contribution gaining recognition .\",\n",
       " 'Yet , sometimes hesitate see hub advanced education , independent confident .',\n",
       " 'This must change .',\n",
       " 'My third vision MDC assert globally .',\n",
       " 'Respect come recognition , recognition born strength—not academic excellence ability impact community economy positively .',\n",
       " 'Strength education foster respect globally .',\n",
       " 'I fortunate work alongside remarkable educators—innovators teaching administration .',\n",
       " 'Their mentorship invaluable chapter life .',\n",
       " 'At MDC , I see interaction key milestone career , guiding collective journey towards three vision .']"
      ]
     },
     "execution_count": 15,
     "metadata": {},
     "output_type": "execute_result"
    }
   ],
   "source": [
    "sentences = nltk.sent_tokenize(paragraph)\n",
    "lemmatizer = WordNetLemmatizer()\n",
    "\n",
    "# Lemmatization\n",
    "for i in range(len(sentences)):\n",
    "    words = nltk.word_tokenize(sentences[i])\n",
    "    words = [lemmatizer.lemmatize(word) for word in words if word not in set(stopwords.words('english'))]\n",
    "    sentences[i] = ' '.join(words)\n",
    "\n",
    "sentences"
   ]
  },
  {
   "cell_type": "code",
   "execution_count": null,
   "metadata": {
    "colab": {
     "base_uri": "https://localhost:8080/"
    },
    "executionInfo": {
     "elapsed": 376,
     "status": "ok",
     "timestamp": 1736555773362,
     "user": {
      "displayName": "Immanuel Kant",
      "userId": "05198496277802312927"
     },
     "user_tz": 300
    },
    "id": "qEWN7PYEyYNn",
    "outputId": "c44ae8fc-a3dd-44c9-b3f5-704b223a1ddf"
   },
   "outputs": [
    {
     "name": "stdout",
     "output_type": "stream",
     "text": [
      "Word            POS Tag    Lemma          \n",
      "----------------------------------------\n",
      "The             DT         The            \n",
      "children        NNS        child          \n",
      "are             VBP        be             \n",
      "running         VBG        run            \n",
      "and             CC         and            \n",
      "they            PRP        they           \n",
      "ran             VBD        run            \n",
      "very            RB         very           \n",
      "fast            RB         fast           \n",
      "yesterday       NN         yesterday      \n",
      ".               .          .              \n",
      "Their           PRP$       Their          \n",
      "teacher         NN         teacher        \n",
      "is              VBZ        be             \n",
      "better          RBR        well           \n",
      "than            IN         than           \n",
      "the             DT         the            \n",
      "previous        JJ         previous       \n",
      "one             CD         one            \n",
      ".               .          .              \n"
     ]
    }
   ],
   "source": [
    "# Install NLTK and download necessary data if not already done\n",
    "# !pip install nltk\n",
    "# import nltk\n",
    "# nltk.download('wordnet')\n",
    "# nltk.download('omw-1.4')  # For word meanings\n",
    "# nltk.download('averaged_perceptron_tagger')  # For POS tagging\n",
    "\n",
    "from nltk.stem import WordNetLemmatizer\n",
    "from nltk.corpus import wordnet\n",
    "from nltk import pos_tag, word_tokenize\n",
    "\n",
    "# Initialize the lemmatizer\n",
    "lemmatizer = WordNetLemmatizer()\n",
    "\n",
    "# Function to get WordNet POS tag from NLTK's POS tag\n",
    "def get_wordnet_pos(nltk_tag):\n",
    "    if nltk_tag.startswith('J'):\n",
    "        return wordnet.ADJ\n",
    "    elif nltk_tag.startswith('V'):\n",
    "        return wordnet.VERB\n",
    "    elif nltk_tag.startswith('N'):\n",
    "        return wordnet.NOUN\n",
    "    elif nltk_tag.startswith('R'):\n",
    "        return wordnet.ADV\n",
    "    else:\n",
    "        return wordnet.NOUN  # Default to noun\n",
    "\n",
    "# Sample text\n",
    "text = \"The children are running and they ran very fast yesterday. Their teacher is better than the previous one.\"\n",
    "\n",
    "# Tokenize and get POS tags\n",
    "tokens = word_tokenize(text)\n",
    "pos_tags = pos_tag(tokens)\n",
    "\n",
    "# Lemmatize each word with the appropriate POS tag\n",
    "print(f\"{'Word':<15} {'POS Tag':<10} {'Lemma':<15}\")\n",
    "print(\"-\" * 40)\n",
    "for word, pos in pos_tags:\n",
    "    lemma = lemmatizer.lemmatize(word, get_wordnet_pos(pos))\n",
    "    print(f\"{word:<15} {pos:<10} {lemma:<15}\")\n"
   ]
  },
  {
   "cell_type": "markdown",
   "metadata": {
    "id": "0pUs-J9s1Pqt"
   },
   "source": [
    "# Stop Words"
   ]
  },
  {
   "cell_type": "code",
   "execution_count": null,
   "metadata": {
    "id": "7kOym36x0kXL"
   },
   "outputs": [],
   "source": [
    "from nltk.corpus import stopwords"
   ]
  },
  {
   "cell_type": "code",
   "execution_count": null,
   "metadata": {
    "colab": {
     "base_uri": "https://localhost:8080/"
    },
    "executionInfo": {
     "elapsed": 331,
     "status": "ok",
     "timestamp": 1736556500974,
     "user": {
      "displayName": "Immanuel Kant",
      "userId": "05198496277802312927"
     },
     "user_tz": 300
    },
    "id": "LkPubwWu1TQk",
    "outputId": "0d7aeddc-391d-4f91-8176-2f873c70706c"
   },
   "outputs": [
    {
     "data": {
      "text/plain": [
       "['i',\n",
       " 'me',\n",
       " 'my',\n",
       " 'myself',\n",
       " 'we',\n",
       " 'our',\n",
       " 'ours',\n",
       " 'ourselves',\n",
       " 'you',\n",
       " \"you're\",\n",
       " \"you've\",\n",
       " \"you'll\",\n",
       " \"you'd\",\n",
       " 'your',\n",
       " 'yours',\n",
       " 'yourself',\n",
       " 'yourselves',\n",
       " 'he',\n",
       " 'him',\n",
       " 'his',\n",
       " 'himself',\n",
       " 'she',\n",
       " \"she's\",\n",
       " 'her',\n",
       " 'hers',\n",
       " 'herself',\n",
       " 'it',\n",
       " \"it's\",\n",
       " 'its',\n",
       " 'itself',\n",
       " 'they',\n",
       " 'them',\n",
       " 'their',\n",
       " 'theirs',\n",
       " 'themselves',\n",
       " 'what',\n",
       " 'which',\n",
       " 'who',\n",
       " 'whom',\n",
       " 'this',\n",
       " 'that',\n",
       " \"that'll\",\n",
       " 'these',\n",
       " 'those',\n",
       " 'am',\n",
       " 'is',\n",
       " 'are',\n",
       " 'was',\n",
       " 'were',\n",
       " 'be',\n",
       " 'been',\n",
       " 'being',\n",
       " 'have',\n",
       " 'has',\n",
       " 'had',\n",
       " 'having',\n",
       " 'do',\n",
       " 'does',\n",
       " 'did',\n",
       " 'doing',\n",
       " 'a',\n",
       " 'an',\n",
       " 'the',\n",
       " 'and',\n",
       " 'but',\n",
       " 'if',\n",
       " 'or',\n",
       " 'because',\n",
       " 'as',\n",
       " 'until',\n",
       " 'while',\n",
       " 'of',\n",
       " 'at',\n",
       " 'by',\n",
       " 'for',\n",
       " 'with',\n",
       " 'about',\n",
       " 'against',\n",
       " 'between',\n",
       " 'into',\n",
       " 'through',\n",
       " 'during',\n",
       " 'before',\n",
       " 'after',\n",
       " 'above',\n",
       " 'below',\n",
       " 'to',\n",
       " 'from',\n",
       " 'up',\n",
       " 'down',\n",
       " 'in',\n",
       " 'out',\n",
       " 'on',\n",
       " 'off',\n",
       " 'over',\n",
       " 'under',\n",
       " 'again',\n",
       " 'further',\n",
       " 'then',\n",
       " 'once',\n",
       " 'here',\n",
       " 'there',\n",
       " 'when',\n",
       " 'where',\n",
       " 'why',\n",
       " 'how',\n",
       " 'all',\n",
       " 'any',\n",
       " 'both',\n",
       " 'each',\n",
       " 'few',\n",
       " 'more',\n",
       " 'most',\n",
       " 'other',\n",
       " 'some',\n",
       " 'such',\n",
       " 'no',\n",
       " 'nor',\n",
       " 'not',\n",
       " 'only',\n",
       " 'own',\n",
       " 'same',\n",
       " 'so',\n",
       " 'than',\n",
       " 'too',\n",
       " 'very',\n",
       " 's',\n",
       " 't',\n",
       " 'can',\n",
       " 'will',\n",
       " 'just',\n",
       " 'don',\n",
       " \"don't\",\n",
       " 'should',\n",
       " \"should've\",\n",
       " 'now',\n",
       " 'd',\n",
       " 'll',\n",
       " 'm',\n",
       " 'o',\n",
       " 're',\n",
       " 've',\n",
       " 'y',\n",
       " 'ain',\n",
       " 'aren',\n",
       " \"aren't\",\n",
       " 'couldn',\n",
       " \"couldn't\",\n",
       " 'didn',\n",
       " \"didn't\",\n",
       " 'doesn',\n",
       " \"doesn't\",\n",
       " 'hadn',\n",
       " \"hadn't\",\n",
       " 'hasn',\n",
       " \"hasn't\",\n",
       " 'haven',\n",
       " \"haven't\",\n",
       " 'isn',\n",
       " \"isn't\",\n",
       " 'ma',\n",
       " 'mightn',\n",
       " \"mightn't\",\n",
       " 'mustn',\n",
       " \"mustn't\",\n",
       " 'needn',\n",
       " \"needn't\",\n",
       " 'shan',\n",
       " \"shan't\",\n",
       " 'shouldn',\n",
       " \"shouldn't\",\n",
       " 'wasn',\n",
       " \"wasn't\",\n",
       " 'weren',\n",
       " \"weren't\",\n",
       " 'won',\n",
       " \"won't\",\n",
       " 'wouldn',\n",
       " \"wouldn't\"]"
      ]
     },
     "execution_count": 20,
     "metadata": {},
     "output_type": "execute_result"
    }
   ],
   "source": [
    "stop_words = stopwords.words('english')\n",
    "stop_words"
   ]
  },
  {
   "cell_type": "markdown",
   "metadata": {
    "id": "-JUIfNDX1pdj"
   },
   "source": [
    "# Parts of Speech"
   ]
  },
  {
   "cell_type": "code",
   "execution_count": null,
   "metadata": {
    "colab": {
     "base_uri": "https://localhost:8080/"
    },
    "executionInfo": {
     "elapsed": 357,
     "status": "ok",
     "timestamp": 1736556601417,
     "user": {
      "displayName": "Immanuel Kant",
      "userId": "05198496277802312927"
     },
     "user_tz": 300
    },
    "id": "sGeuAXb11nSp",
    "outputId": "eeac5383-31f4-4804-9fbd-d8ad991ef0eb"
   },
   "outputs": [
    {
     "data": {
      "text/plain": [
       "[('We', 'PRP'),\n",
       " ('will', 'MD'),\n",
       " ('see', 'VB'),\n",
       " ('an', 'DT'),\n",
       " ('example', 'NN'),\n",
       " ('of', 'IN'),\n",
       " ('POS', 'NNP'),\n",
       " ('tagging', 'NN'),\n",
       " ('.', '.')]"
      ]
     },
     "execution_count": 21,
     "metadata": {},
     "output_type": "execute_result"
    }
   ],
   "source": [
    "data =' We will see an example of POS tagging.'\n",
    "\n",
    "pos = nltk.pos_tag(nltk.word_tokenize(data))\n",
    "\n",
    "pos"
   ]
  },
  {
   "cell_type": "code",
   "execution_count": null,
   "metadata": {
    "colab": {
     "base_uri": "https://localhost:8080/"
    },
    "executionInfo": {
     "elapsed": 179,
     "status": "ok",
     "timestamp": 1736556656290,
     "user": {
      "displayName": "Immanuel Kant",
      "userId": "05198496277802312927"
     },
     "user_tz": 300
    },
    "id": "OhYbBbgu16kj",
    "outputId": "0c6a1623-562e-4807-be8f-1237aa1fa1bf"
   },
   "outputs": [
    {
     "data": {
      "text/plain": [
       "[('Miami', 'NNP'),\n",
       " ('Dade', 'NNP'),\n",
       " ('College', 'NNP'),\n",
       " ('has', 'VBZ'),\n",
       " ('evolved', 'VBN'),\n",
       " ('over', 'IN'),\n",
       " ('decades', 'NNS'),\n",
       " (',', ','),\n",
       " ('becoming', 'VBG'),\n",
       " ('a', 'DT'),\n",
       " ('beacon', 'NN'),\n",
       " ('of', 'IN'),\n",
       " ('education', 'NN'),\n",
       " ('in', 'IN'),\n",
       " ('the', 'DT'),\n",
       " ('diverse', 'JJ'),\n",
       " ('fabric', 'NN'),\n",
       " ('of', 'IN'),\n",
       " ('Miami', 'NNP'),\n",
       " ('.', '.'),\n",
       " ('Throughout', 'IN'),\n",
       " ('its', 'PRP$'),\n",
       " ('existence', 'NN'),\n",
       " (',', ','),\n",
       " ('students', 'NNS'),\n",
       " ('from', 'IN'),\n",
       " ('all', 'DT'),\n",
       " ('corners', 'NNS'),\n",
       " ('of', 'IN'),\n",
       " ('the', 'DT'),\n",
       " ('globe', 'NN'),\n",
       " ('have', 'VBP'),\n",
       " ('converged', 'VBN'),\n",
       " ('here', 'RB'),\n",
       " (',', ','),\n",
       " ('seeking', 'VBG'),\n",
       " ('knowledge', 'NN'),\n",
       " ('and', 'CC'),\n",
       " ('growth', 'NN'),\n",
       " ('.', '.'),\n",
       " ('Like', 'IN'),\n",
       " ('India', 'NNP'),\n",
       " (',', ','),\n",
       " ('MDC', 'NNP'),\n",
       " ('has', 'VBZ'),\n",
       " ('seen', 'VBN'),\n",
       " ('the', 'DT'),\n",
       " ('influx', 'NN'),\n",
       " ('of', 'IN'),\n",
       " ('various', 'JJ'),\n",
       " ('cultures', 'NNS'),\n",
       " (',', ','),\n",
       " ('enriching', 'VBG'),\n",
       " ('its', 'PRP$'),\n",
       " ('own', 'JJ'),\n",
       " ('identity', 'NN'),\n",
       " ('without', 'IN'),\n",
       " ('dominating', 'VBG'),\n",
       " ('any', 'DT'),\n",
       " ('.', '.'),\n",
       " ('This', 'DT'),\n",
       " ('has', 'VBZ'),\n",
       " (\"n't\", 'RB'),\n",
       " ('led', 'VBN'),\n",
       " ('MDC', 'NNP'),\n",
       " ('to', 'TO'),\n",
       " ('impose', 'VB'),\n",
       " ('its', 'PRP$'),\n",
       " ('ethos', 'NN'),\n",
       " ('elsewhere', 'RB'),\n",
       " (',', ','),\n",
       " ('but', 'CC'),\n",
       " ('rather', 'RB'),\n",
       " ('to', 'TO'),\n",
       " ('build', 'VB'),\n",
       " ('a', 'DT'),\n",
       " ('unique', 'JJ'),\n",
       " ('educational', 'JJ'),\n",
       " ('culture', 'NN'),\n",
       " ('that', 'WDT'),\n",
       " ('respects', 'VBZ'),\n",
       " ('the', 'DT'),\n",
       " ('freedom', 'NN'),\n",
       " ('of', 'IN'),\n",
       " ('thought', 'NN'),\n",
       " ('and', 'CC'),\n",
       " ('diversity', 'NN'),\n",
       " ('.', '.'),\n",
       " ('This', 'DT'),\n",
       " ('is', 'VBZ'),\n",
       " ('the', 'DT'),\n",
       " ('cornerstone', 'NN'),\n",
       " ('of', 'IN'),\n",
       " ('my', 'PRP$'),\n",
       " ('first', 'JJ'),\n",
       " ('vision', 'NN'),\n",
       " ('for', 'IN'),\n",
       " ('MDC', 'NNP'),\n",
       " ('-', ':'),\n",
       " ('freedom', 'NN'),\n",
       " ('in', 'IN'),\n",
       " ('education', 'NN'),\n",
       " ('.', '.'),\n",
       " ('This', 'DT'),\n",
       " ('freedom', 'NN'),\n",
       " ('was', 'VBD'),\n",
       " ('envisaged', 'VBN'),\n",
       " ('at', 'IN'),\n",
       " ('its', 'PRP$'),\n",
       " ('founding', 'NN'),\n",
       " (',', ','),\n",
       " ('setting', 'VBG'),\n",
       " ('the', 'DT'),\n",
       " ('stage', 'NN'),\n",
       " ('for', 'IN'),\n",
       " ('an', 'DT'),\n",
       " ('academic', 'JJ'),\n",
       " ('revolution', 'NN'),\n",
       " ('.', '.'),\n",
       " ('It', 'PRP'),\n",
       " ('is', 'VBZ'),\n",
       " ('this', 'DT'),\n",
       " ('freedom', 'NN'),\n",
       " ('that', 'WDT'),\n",
       " ('MDC', 'NNP'),\n",
       " ('must', 'MD'),\n",
       " ('continue', 'VB'),\n",
       " ('to', 'TO'),\n",
       " ('cherish', 'VB'),\n",
       " (',', ','),\n",
       " ('fostering', 'VBG'),\n",
       " ('an', 'DT'),\n",
       " ('environment', 'NN'),\n",
       " ('where', 'WRB'),\n",
       " ('respect', 'NN'),\n",
       " ('is', 'VBZ'),\n",
       " ('earned', 'VBN'),\n",
       " ('through', 'IN'),\n",
       " ('the', 'DT'),\n",
       " ('empowerment', 'NN'),\n",
       " ('of', 'IN'),\n",
       " ('knowledge', 'NN'),\n",
       " ('.', '.'),\n",
       " ('My', 'PRP$'),\n",
       " ('second', 'JJ'),\n",
       " ('vision', 'NN'),\n",
       " ('is', 'VBZ'),\n",
       " ('for', 'IN'),\n",
       " ('MDC', 'NNP'),\n",
       " (\"'s\", 'POS'),\n",
       " ('advancement', 'NN'),\n",
       " ('.', '.'),\n",
       " ('For', 'IN'),\n",
       " ('years', 'NNS'),\n",
       " (',', ','),\n",
       " ('we', 'PRP'),\n",
       " ('have', 'VBP'),\n",
       " ('been', 'VBN'),\n",
       " ('an', 'DT'),\n",
       " ('institution', 'NN'),\n",
       " ('nurturing', 'VBG'),\n",
       " ('potential', 'JJ'),\n",
       " ('.', '.'),\n",
       " ('Now', 'RB'),\n",
       " (',', ','),\n",
       " ('it', 'PRP'),\n",
       " (\"'s\", 'VBZ'),\n",
       " ('time', 'NN'),\n",
       " ('we', 'PRP'),\n",
       " ('recognize', 'VBP'),\n",
       " ('ourselves', 'PRP'),\n",
       " ('as', 'IN'),\n",
       " ('a', 'DT'),\n",
       " ('leader', 'NN'),\n",
       " ('in', 'IN'),\n",
       " ('education', 'NN'),\n",
       " (',', ','),\n",
       " ('one', 'CD'),\n",
       " ('of', 'IN'),\n",
       " ('the', 'DT'),\n",
       " ('most', 'RBS'),\n",
       " ('influential', 'JJ'),\n",
       " ('colleges', 'NNS'),\n",
       " ('nationwide', 'RB'),\n",
       " ('.', '.'),\n",
       " ('We', 'PRP'),\n",
       " (\"'ve\", 'VBP'),\n",
       " ('seen', 'VBN'),\n",
       " ('growth', 'NN'),\n",
       " ('in', 'IN'),\n",
       " ('student', 'NN'),\n",
       " ('success', 'NN'),\n",
       " (',', ','),\n",
       " ('decreases', 'VBZ'),\n",
       " ('in', 'IN'),\n",
       " ('educational', 'JJ'),\n",
       " ('inequity', 'NN'),\n",
       " (',', ','),\n",
       " ('and', 'CC'),\n",
       " ('our', 'PRP$'),\n",
       " ('contributions', 'NNS'),\n",
       " ('are', 'VBP'),\n",
       " ('gaining', 'VBG'),\n",
       " ('recognition', 'NN'),\n",
       " ('.', '.'),\n",
       " ('Yet', 'CC'),\n",
       " (',', ','),\n",
       " ('we', 'PRP'),\n",
       " ('sometimes', 'RB'),\n",
       " ('hesitate', 'VBP'),\n",
       " ('to', 'TO'),\n",
       " ('see', 'VB'),\n",
       " ('ourselves', 'PRP'),\n",
       " ('as', 'IN'),\n",
       " ('a', 'DT'),\n",
       " ('hub', 'NN'),\n",
       " ('of', 'IN'),\n",
       " ('advanced', 'JJ'),\n",
       " ('education', 'NN'),\n",
       " (',', ','),\n",
       " ('independent', 'JJ'),\n",
       " ('and', 'CC'),\n",
       " ('confident', 'JJ'),\n",
       " ('.', '.'),\n",
       " ('This', 'DT'),\n",
       " ('must', 'MD'),\n",
       " ('change', 'VB'),\n",
       " ('.', '.'),\n",
       " ('My', 'PRP$'),\n",
       " ('third', 'JJ'),\n",
       " ('vision', 'NN'),\n",
       " ('is', 'VBZ'),\n",
       " ('for', 'IN'),\n",
       " ('MDC', 'NNP'),\n",
       " ('to', 'TO'),\n",
       " ('assert', 'VB'),\n",
       " ('itself', 'PRP'),\n",
       " ('globally', 'RB'),\n",
       " ('.', '.'),\n",
       " ('Respect', 'VB'),\n",
       " ('comes', 'VBZ'),\n",
       " ('with', 'IN'),\n",
       " ('recognition', 'NN'),\n",
       " (',', ','),\n",
       " ('and', 'CC'),\n",
       " ('recognition', 'NN'),\n",
       " ('is', 'VBZ'),\n",
       " ('born', 'VBN'),\n",
       " ('of', 'IN'),\n",
       " ('strength—not', 'NN'),\n",
       " ('just', 'RB'),\n",
       " ('in', 'IN'),\n",
       " ('academic', 'JJ'),\n",
       " ('excellence', 'NN'),\n",
       " ('but', 'CC'),\n",
       " ('in', 'IN'),\n",
       " ('our', 'PRP$'),\n",
       " ('ability', 'NN'),\n",
       " ('to', 'TO'),\n",
       " ('impact', 'VB'),\n",
       " ('the', 'DT'),\n",
       " ('community', 'NN'),\n",
       " ('and', 'CC'),\n",
       " ('economy', 'NN'),\n",
       " ('positively', 'RB'),\n",
       " ('.', '.'),\n",
       " ('Strength', 'NNP'),\n",
       " ('in', 'IN'),\n",
       " ('education', 'NN'),\n",
       " ('fosters', 'NNS'),\n",
       " ('respect', 'VBP'),\n",
       " ('globally', 'RB'),\n",
       " ('.', '.'),\n",
       " ('I', 'PRP'),\n",
       " ('have', 'VBP'),\n",
       " ('been', 'VBN'),\n",
       " ('fortunate', 'JJ'),\n",
       " ('to', 'TO'),\n",
       " ('work', 'VB'),\n",
       " ('alongside', 'RB'),\n",
       " ('remarkable', 'JJ'),\n",
       " ('educators—innovators', 'NNS'),\n",
       " ('in', 'IN'),\n",
       " ('teaching', 'NN'),\n",
       " ('and', 'CC'),\n",
       " ('administration', 'NN'),\n",
       " ('.', '.'),\n",
       " ('Their', 'PRP$'),\n",
       " ('mentorship', 'NN'),\n",
       " ('was', 'VBD'),\n",
       " ('an', 'DT'),\n",
       " ('invaluable', 'JJ'),\n",
       " ('chapter', 'NN'),\n",
       " ('in', 'IN'),\n",
       " ('my', 'PRP$'),\n",
       " ('life', 'NN'),\n",
       " ('.', '.'),\n",
       " ('At', 'IN'),\n",
       " ('MDC', 'NNP'),\n",
       " (',', ','),\n",
       " ('I', 'PRP'),\n",
       " ('see', 'VBP'),\n",
       " ('these', 'DT'),\n",
       " ('interactions', 'NNS'),\n",
       " ('as', 'IN'),\n",
       " ('key', 'JJ'),\n",
       " ('milestones', 'NNS'),\n",
       " ('in', 'IN'),\n",
       " ('my', 'PRP$'),\n",
       " ('career', 'NN'),\n",
       " (',', ','),\n",
       " ('guiding', 'VBG'),\n",
       " ('our', 'PRP$'),\n",
       " ('collective', 'JJ'),\n",
       " ('journey', 'NN'),\n",
       " ('towards', 'IN'),\n",
       " ('these', 'DT'),\n",
       " ('three', 'CD'),\n",
       " ('visions', 'NNS'),\n",
       " ('.', '.')]"
      ]
     },
     "execution_count": 22,
     "metadata": {},
     "output_type": "execute_result"
    }
   ],
   "source": [
    "words = nltk.word_tokenize(paragraph)\n",
    "\n",
    "Pos_tag = nltk.pos_tag(words)\n",
    "\n",
    "\n",
    "Pos_tag"
   ]
  },
  {
   "cell_type": "markdown",
   "metadata": {
    "id": "u5lI1d6j2FvR"
   },
   "source": [
    "# Punctuation"
   ]
  },
  {
   "cell_type": "code",
   "execution_count": null,
   "metadata": {
    "colab": {
     "base_uri": "https://localhost:8080/",
     "height": 35
    },
    "executionInfo": {
     "elapsed": 217,
     "status": "ok",
     "timestamp": 1736556707865,
     "user": {
      "displayName": "Immanuel Kant",
      "userId": "05198496277802312927"
     },
     "user_tz": 300
    },
    "id": "5gLh1UOs2HKn",
    "outputId": "8968523d-5546-4de4-8784-6c545ae56bb1"
   },
   "outputs": [
    {
     "data": {
      "application/vnd.google.colaboratory.intrinsic+json": {
       "type": "string"
      },
      "text/plain": [
       "'!\"#$%&\\'()*+,-./:;<=>?@[\\\\]^_`{|}~'"
      ]
     },
     "execution_count": 23,
     "metadata": {},
     "output_type": "execute_result"
    }
   ],
   "source": [
    "# We also have punctuations which we can ignore from our set of words just like stopwords.\n",
    "\n",
    "import string\n",
    "import nltk\n",
    "import string\n",
    "from nltk.corpus import stopwords\n",
    "\n",
    "punct =string.punctuation\n",
    "punct"
   ]
  },
  {
   "cell_type": "markdown",
   "metadata": {
    "id": "jeq3Vdz9269A"
   },
   "source": [
    "# Clean our Text Data"
   ]
  },
  {
   "cell_type": "code",
   "execution_count": null,
   "metadata": {
    "colab": {
     "base_uri": "https://localhost:8080/"
    },
    "executionInfo": {
     "elapsed": 314,
     "status": "ok",
     "timestamp": 1736556934337,
     "user": {
      "displayName": "Immanuel Kant",
      "userId": "05198496277802312927"
     },
     "user_tz": 300
    },
    "id": "K7TcwV3W2sxf",
    "outputId": "107aeabb-846b-4ce6-cb99-9eb209198284"
   },
   "outputs": [
    {
     "data": {
      "text/plain": [
       "['Miami',\n",
       " 'Dade',\n",
       " 'College',\n",
       " 'evolved',\n",
       " 'decades',\n",
       " 'becoming',\n",
       " 'beacon',\n",
       " 'education',\n",
       " 'diverse',\n",
       " 'fabric',\n",
       " 'Miami',\n",
       " 'Throughout',\n",
       " 'existence',\n",
       " 'students',\n",
       " 'corners',\n",
       " 'globe',\n",
       " 'converged',\n",
       " 'seeking',\n",
       " 'knowledge',\n",
       " 'growth',\n",
       " 'MDC',\n",
       " 'seen',\n",
       " 'influx',\n",
       " 'various',\n",
       " 'cultures',\n",
       " 'enriching',\n",
       " 'identity',\n",
       " 'without',\n",
       " 'dominating',\n",
       " 'This',\n",
       " \"n't\",\n",
       " 'led',\n",
       " 'MDC',\n",
       " 'impose',\n",
       " 'ethos',\n",
       " 'elsewhere',\n",
       " 'rather',\n",
       " 'build',\n",
       " 'unique',\n",
       " 'educational',\n",
       " 'culture',\n",
       " 'respects',\n",
       " 'freedom',\n",
       " 'thought',\n",
       " 'diversity',\n",
       " 'This',\n",
       " 'cornerstone',\n",
       " 'first',\n",
       " 'vision',\n",
       " 'MDC',\n",
       " 'freedom',\n",
       " 'education']"
      ]
     },
     "execution_count": 24,
     "metadata": {},
     "output_type": "execute_result"
    }
   ],
   "source": [
    "# Let's word tokenize the given sample after we remove the stopwords and punctuation.\n",
    "stop_words = stopwords.words('english')\n",
    "punct =string.punctuation\n",
    "\n",
    "data = '''Miami Dade College has evolved over decades, becoming a beacon of education in the diverse fabric of Miami. Throughout its existence, students from all corners of the globe have converged here, seeking knowledge and growth. MDC has seen the influx of various cultures, enriching its own identity without dominating any. This hasn't led MDC to impose its ethos elsewhere, but rather to build a unique educational culture that respects the freedom of thought and diversity. This is the cornerstone of my first vision for MDC - freedom in education.'''\n",
    "clean_data =[]\n",
    "\n",
    "for word in nltk.word_tokenize(data):\n",
    "    if word not in punct:\n",
    "        if word not in stop_words:\n",
    "            clean_data.append(word)\n",
    "\n",
    "clean_data"
   ]
  },
  {
   "cell_type": "code",
   "execution_count": null,
   "metadata": {
    "colab": {
     "base_uri": "https://localhost:8080/"
    },
    "executionInfo": {
     "elapsed": 310,
     "status": "ok",
     "timestamp": 1736557017037,
     "user": {
      "displayName": "Immanuel Kant",
      "userId": "05198496277802312927"
     },
     "user_tz": 300
    },
    "id": "8SxmO7ti3SRO",
    "outputId": "05233327-9b1c-4ded-f21f-043a4169d64b"
   },
   "outputs": [
    {
     "data": {
      "text/plain": [
       "[('Miami', 'NNP'),\n",
       " ('Dade', 'NNP'),\n",
       " ('College', 'NNP'),\n",
       " ('evolved', 'VBD'),\n",
       " ('decades', 'NNS'),\n",
       " ('becoming', 'VBG'),\n",
       " ('beacon', 'JJ'),\n",
       " ('education', 'NN'),\n",
       " ('diverse', 'NN'),\n",
       " ('fabric', 'NN'),\n",
       " ('Miami', 'NNP'),\n",
       " ('Throughout', 'NNP'),\n",
       " ('existence', 'NN'),\n",
       " ('students', 'NNS'),\n",
       " ('corners', 'NNS'),\n",
       " ('globe', 'VBP'),\n",
       " ('converged', 'VBN'),\n",
       " ('seeking', 'VBG'),\n",
       " ('knowledge', 'NN'),\n",
       " ('growth', 'NN'),\n",
       " ('MDC', 'NNP'),\n",
       " ('seen', 'VBN'),\n",
       " ('influx', 'VBP'),\n",
       " ('various', 'JJ'),\n",
       " ('cultures', 'NNS'),\n",
       " ('enriching', 'VBG'),\n",
       " ('identity', 'NN'),\n",
       " ('without', 'IN'),\n",
       " ('dominating', 'VBG'),\n",
       " ('This', 'DT'),\n",
       " (\"n't\", 'RB'),\n",
       " ('led', 'VBN'),\n",
       " ('MDC', 'NNP'),\n",
       " ('impose', 'VB'),\n",
       " ('ethos', 'NN'),\n",
       " ('elsewhere', 'RB'),\n",
       " ('rather', 'RB'),\n",
       " ('build', 'VB'),\n",
       " ('unique', 'JJ'),\n",
       " ('educational', 'JJ'),\n",
       " ('culture', 'NN'),\n",
       " ('respects', 'VBZ'),\n",
       " ('freedom', 'RB'),\n",
       " ('thought', 'VBN'),\n",
       " ('diversity', 'NN'),\n",
       " ('This', 'DT'),\n",
       " ('cornerstone', 'NN'),\n",
       " ('first', 'JJ'),\n",
       " ('vision', 'NN'),\n",
       " ('MDC', 'NNP'),\n",
       " ('freedom', 'NN'),\n",
       " ('education', 'NN')]"
      ]
     },
     "execution_count": 25,
     "metadata": {},
     "output_type": "execute_result"
    }
   ],
   "source": [
    "nltk.pos_tag(clean_data)"
   ]
  },
  {
   "cell_type": "code",
   "execution_count": null,
   "metadata": {
    "colab": {
     "base_uri": "https://localhost:8080/"
    },
    "executionInfo": {
     "elapsed": 611,
     "status": "ok",
     "timestamp": 1736557066383,
     "user": {
      "displayName": "Immanuel Kant",
      "userId": "05198496277802312927"
     },
     "user_tz": 300
    },
    "id": "wjV3NfHA3Xg0",
    "outputId": "498b4558-5643-4180-df25-e9d9891af728"
   },
   "outputs": [
    {
     "name": "stdout",
     "output_type": "stream",
     "text": [
      "(S\n",
      "  (PERSON Miami/NNP)\n",
      "  (PERSON Dade/NNP College/NNP)\n",
      "  evolved/VBD\n",
      "  decades/NNS\n",
      "  becoming/VBG\n",
      "  beacon/JJ\n",
      "  education/NN\n",
      "  diverse/NN\n",
      "  fabric/NN\n",
      "  (PERSON Miami/NNP Throughout/NNP)\n",
      "  existence/NN\n",
      "  students/NNS\n",
      "  corners/NNS\n",
      "  globe/VBP\n",
      "  converged/VBN\n",
      "  seeking/VBG\n",
      "  knowledge/NN\n",
      "  growth/NN\n",
      "  (ORGANIZATION MDC/NNP)\n",
      "  seen/VBN\n",
      "  influx/VBP\n",
      "  various/JJ\n",
      "  cultures/NNS\n",
      "  enriching/VBG\n",
      "  identity/NN\n",
      "  without/IN\n",
      "  dominating/VBG\n",
      "  This/DT\n",
      "  n't/RB\n",
      "  led/VBN\n",
      "  (ORGANIZATION MDC/NNP)\n",
      "  impose/VB\n",
      "  ethos/NN\n",
      "  elsewhere/RB\n",
      "  rather/RB\n",
      "  build/VB\n",
      "  unique/JJ\n",
      "  educational/JJ\n",
      "  culture/NN\n",
      "  respects/VBZ\n",
      "  freedom/RB\n",
      "  thought/VBN\n",
      "  diversity/NN\n",
      "  This/DT\n",
      "  cornerstone/NN\n",
      "  first/JJ\n",
      "  vision/NN\n",
      "  (ORGANIZATION MDC/NNP)\n",
      "  freedom/NN\n",
      "  education/NN)\n"
     ]
    }
   ],
   "source": [
    "pos_tag = nltk.pos_tag(clean_data)\n",
    "namedEntity = nltk.ne_chunk(pos_tag)\n",
    "print(namedEntity)"
   ]
  }
 ],
 "metadata": {
  "colab": {
   "provenance": [
    {
     "file_id": "1YC_2VM-Bzq4NUHGr6IHvxSkw1WVwDqn_",
     "timestamp": 1736557342022
    }
   ]
  },
  "kernelspec": {
   "display_name": "Python 3",
   "name": "python3"
  },
  "language_info": {
   "name": "python"
  }
 },
 "nbformat": 4,
 "nbformat_minor": 0
}
