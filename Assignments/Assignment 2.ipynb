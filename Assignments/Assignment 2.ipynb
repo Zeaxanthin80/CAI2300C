{
 "cells": [
  {
   "cell_type": "markdown",
   "metadata": {},
   "source": [
    "# Building a Semantic Search Engine for Customer Complaints with OpenAI"
   ]
  }
 ],
 "metadata": {
  "language_info": {
   "name": "python"
  }
 },
 "nbformat": 4,
 "nbformat_minor": 2
}
