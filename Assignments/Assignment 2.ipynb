{
  "cells": [
    {
      "cell_type": "markdown",
      "metadata": {
        "id": "view-in-github",
        "colab_type": "text"
      },
      "source": [
        "<a href=\"https://colab.research.google.com/github/Zeaxanthin80/CAI2300C/blob/main/Assignments/Assignment%202.ipynb\" target=\"_parent\"><img src=\"https://colab.research.google.com/assets/colab-badge.svg\" alt=\"Open In Colab\" width=\"200\"/></a>"
      ]
    },
    {
      "cell_type": "markdown",
      "source": [
        "# Assignment 2"
      ],
      "metadata": {
        "id": "pujOZ6wztUUH"
      }
    },
    {
      "cell_type": "markdown",
      "source": [
        "## Building a Semantic Search Engine for an E-Commerce site with OpenAI.\n"
      ],
      "metadata": {
        "id": "OP2huPjFLfl9"
      }
    },
    {
      "cell_type": "markdown",
      "source": [
        "\n",
        "\n",
        "---\n",
        "\n",
        "\n",
        "## Step 1: Understanding Semantic Search"
      ],
      "metadata": {
        "id": "U4ufC4VVLzkN"
      }
    },
    {
      "cell_type": "markdown",
      "source": [
        "**Use Case:**\n",
        "\n",
        "Imagine you launch an e-commerce store specializing in electronics. A customer searches for a \"4K TV.\" With a traditional keyword-based search, the results would only include TVs explicitly labeled with those exact words. In contrast, semantic search interprets the intent behind the query. It can surface TVs described with terms like \"4K,\" \"OLED,\" or even \"curved TV,\" even if those exact words weren’t used in the search. Additionally, it can prioritize products with reviews highlighting phrases such as \"stunning visuals\" or \"immersive experience,\" even if those words aren’t in the product description. This results in more relevant search results, enhancing the customer’s experience and increasing the chances of a purchase.\n",
        "\n"
      ],
      "metadata": {
        "id": "NWhC53cgL2Li"
      }
    },
    {
      "cell_type": "markdown",
      "source": [
        "\n",
        "\n",
        "---\n",
        "\n",
        "\n",
        "## Step 2: Setting Up the Environment\n",
        "\n",
        "\n",
        "\n",
        "\n",
        "\n",
        "\n",
        "\n",
        "\n",
        "\n",
        "\n"
      ],
      "metadata": {
        "id": "qDnRKk45P0kf"
      }
    },
    {
      "cell_type": "code",
      "source": [
        "from openai import OpenAI  # Import the OpenAI library to interact with OpenAI's API\n",
        "from scipy.spatial import distance  # Import distance from scipy.spatial for computing vector distances\n",
        "import numpy as np  # Import NumPy for numerical operations\n",
        "\n",
        "from google.colab import userdata\n",
        "openai = userdata.get('OPENAI_KEY')\n",
        "\n",
        "# Initialize OpenAI client with your API key\n",
        "client = OpenAI(api_key=openai)  # Replace \"your_key\" with your actual OpenAI API key\n",
        "\n",
        "# Function to generate embeddings for a list of input texts\n",
        "def create_embeddings(texts, model=\"text-embedding-3-small\"):\n",
        "    \"\"\"\n",
        "    This function takes a list of texts and generates embeddings using the specified OpenAI model.\n",
        "\n",
        "    Parameters:\n",
        "    texts (list of str): List of input texts to be embedded.\n",
        "    model (str): The name of the embedding model to use (default is \"text-embedding-3-small\").\n",
        "\n",
        "    Returns:\n",
        "    list of lists: A list containing embedding vectors for each input text.\n",
        "    \"\"\"\n",
        "    embeddings = []  # Initialize an empty list to store the embeddings\n",
        "    for text in texts:  # Iterate through each text in the input list\n",
        "        response = client.embeddings.create(input=text, model=model)\n",
        "        embeddings.append(response.data[0].embedding)  # Extract and store the embedding vector\n",
        "    return embeddings  # Return the list of embeddings\n"
      ],
      "metadata": {
        "id": "Coi2I8JsM7C6"
      },
      "execution_count": 3,
      "outputs": []
    },
    {
      "cell_type": "markdown",
      "source": [
        "\n",
        "\n",
        "---\n",
        "\n",
        "\n",
        "## Step 3: Data Preparation\n",
        "\n"
      ],
      "metadata": {
        "id": "K1PzG0YDocF2"
      }
    },
    {
      "cell_type": "code",
      "source": [
        "# This is a list of customer reviews for 4K tv's.\n",
        "\n",
        "tv_reviews_4K = [\n",
        " 'I would definitely recommend this TV to others.',\n",
        " 'The picture is crisp and clear.',\n",
        " 'The local dimming is a standout feature.  It really enhances the viewing experience.',\n",
        " 'The local dimming feature is a great addition. It makes the picture more immersive.',\n",
        " 'The picture is crisp and clear.',\n",
        " 'Very happy with this purchase.  Easy to set up and use. The smart features are great.',\n",
        " 'Great price for 75” and picture quality is superb!',\n",
        " 'I love the design of this TV. It looks great in my living room.',\n",
        " 'The viewing angles are very good.',\n",
        " 'The local dimming is a must-have for any serious home theater enthusiast.',\n",
        " 'This TV is a great upgrade from my old one.',\n",
        " 'This TV is a great addition to my home entertainment setup.',\n",
        " 'The remote control is intuitive and easy to use.',\n",
        " 'The picture is crisp and clear.',\n",
        " 'I would definitely recommend this TV to others.',\n",
        " 'The built-in apps work perfectly.',\n",
        " 'I love the design of this TV.  It looks great in my living room.',\n",
        " 'The local dimming is fantastic! Blacks are truly black, and the contrast is amazing.',\n",
        " \"I'm impressed with the overall performance of this TV.\",\n",
        " 'This TV is perfect for watching movies and TV shows.',\n",
        " 'The build in sound gets very loud “it’s a good thing”, remote with backlit is a plus when  se for visibility, it’s very responsive google tv.',\n",
        " 'The connectivity options are excellent.',\n",
        " 'This TV is perfect for watching movies and TV shows.',\n",
        " 'I would definitely recommend this TV to others.',\n",
        " 'The viewing angles are very good.',\n",
        " 'The smart features are very responsive and easy to navigate.',\n",
        " \"The blacks are so deep thanks to the excellent local dimming.  I'm very happy with this purchase.\",\n",
        " 'I would definitely recommend this TV to others.',\n",
        " 'The local dimming works flawlessly, enhancing the contrast and depth of the image.',\n",
        " 'Local dimming performance is top-notch.  Worth every penny.',\n",
        " 'The setup process was quick and painless.',\n",
        " 'I love the design of this TV.  It looks great in my living room.',\n",
        " 'The built-in apps work perfectly.',\n",
        " 'The sound quality is better than I expected.',\n",
        " 'I would definitely recommend this TV to others.',\n",
        " 'This TV is a great addition to my home entertainment setup.',\n",
        " \"If you're looking for a large-screen TV with excellent picture quality and modern gaming features at a reasonable price, the TCL Q7 is a solid choice.\",\n",
        " 'The local dimming is subtle but effective, making a significant difference in picture quality.',\n",
        " 'I would definitely recommend this TV to others.',\n",
        " 'The colors are vibrant and lifelike.',\n",
        " 'I love the design of this TV.  It looks great in my living room.',\n",
        " 'I would definitely recommend this TV to others.',\n",
        " 'The picture is crisp and clear.',\n",
        " 'The built-in apps work perfectly.',\n",
        " 'The setup process was quick and painless.',\n",
        " 'The TV is lightweight and easy to move.',\n",
        " 'Very happy with this purchase.  Easy to set up and use.  The smart features are great.',\n",
        " 'The local dimming is a must-have for any serious home theater enthusiast.',\n",
        " 'The connectivity options are excellent.',\n",
        " 'Very happy with this purchase.  Easy to set up and use.  The smart features are great.',\n",
        " 'This TV is a great addition to my home entertainment setup.',\n",
        " 'I love the design of this TV.  It looks great in my living room.',\n",
        " 'The local dimming works incredibly well.  No more washed-out blacks. Highly recommend!',\n",
        " 'The TV is lightweight and easy to move.',\n",
        " \"I love how the local dimming improves the overall picture quality. It's a noticeable upgrade.\",\n",
        " 'Great TV!  The picture quality is excellent, and the sound is surprisingly good.',\n",
        " 'I would definitely recommend this TV to others.',\n",
        " 'The local dimming is a must-have for any serious home theater enthusiast.',\n",
        " 'Great TV!  The picture quality is excellent, and the sound is surprisingly good.',\n",
        " 'This TV is a great upgrade from my old one.',\n",
        " 'I would definitely recommend this TV to others.',\n",
        " 'The smart features are very responsive and easy to navigate.',\n",
        " 'The built-in apps work perfectly.',\n",
        " 'The viewing angles are very good.',\n",
        " 'The TV is lightweight and easy to move.',\n",
        " 'This TV is perfect for watching movies and TV shows.',\n",
        " 'The local dimming is very effective, providing excellent contrast and shadow detail.',\n",
        " 'I would definitely recommend this TV to others.',\n",
        " \"I'm impressed with the overall performance of this TV.\",\n",
        " 'Great TV!  The picture quality is excellent, and the sound is surprisingly good.',\n",
        " 'This TV is perfect for watching movies and TV shows.',\n",
        " 'The connectivity options are excellent.',\n",
        " 'The local dimming feature is a great addition. It makes the picture more immersive.',\n",
        " 'The local dimming is very effective, providing excellent contrast and shadow detail.',\n",
        " \"I'm impressed with the overall performance of this TV.\",\n",
        " \"I'm very satisfied with this purchase.\",\n",
        " 'The built-in apps work perfectly.',\n",
        " 'The connectivity options are excellent.',\n",
        " 'Very happy with this purchase.  Easy to set up and use.  The smart features are great.',\n",
        " 'The smart features are very responsive and easy to navigate.',\n",
        " \"I'm very satisfied with this purchase.\",\n",
        " 'The local dimming is a standout feature, creating a truly immersive viewing experience.',\n",
        " 'The setup process was quick and painless.',\n",
        " 'This TV is a great upgrade from my old one.',\n",
        " \"I'm very satisfied with this purchase.\",\n",
        " 'I would definitely recommend this TV to others.',\n",
        " \"The TCL Q750 75-inch TV offers a compelling blend of performance and value that's hard to beat.\",\n",
        " 'The local dimming is a huge improvement over my previous TV. The picture is so much better.',\n",
        " \"I'm very satisfied with this purchase.\",\n",
        " 'The local dimming works incredibly well.  No more washed-out blacks. Highly recommend!',\n",
        " 'The connectivity options are excellent.',\n",
        " 'The sound quality is better than I expected.',\n",
        " 'The connectivity options are excellent.',\n",
        " 'The local dimming works flawlessly, enhancing the contrast and depth of the image.',\n",
        " 'The viewing angles are very good.',\n",
        " \"I'm impressed with the overall performance of this TV.\",\n",
        " \"I love how the local dimming improves the overall picture quality. It's a noticeable upgrade.\",\n",
        " \"Whether I'm watching a movie, playing games, or streaming sports, the picture quality is consistently excellent.\",\n",
        " \"I'm impressed with the overall performance of this TV.\",\n",
        " 'The picture is crisp and clear.']"
      ],
      "metadata": {
        "id": "sIAuKA2BHPr9"
      },
      "execution_count": 4,
      "outputs": []
    },
    {
      "cell_type": "code",
      "source": [
        "# Generate embeddings for the complaints by calling the function create_embeddings()\n",
        "# This section of the code aims to create and store embeddings for each customer review in the tv_reviews_4K list.\n",
        "reviews = []\n",
        "embeddings = create_embeddings(tv_reviews_4K, model=\"text-embedding-3-small\")\n",
        "\n",
        "# This line starts a loop that iterates through each customer review and its corresponding embedding.\n",
        "# The zip function is used to combine the tv_reviews_4K and embeddings lists, so that in each iteration of the loop, review will hold a single customer review and embedding will hold its corresponding embedding.\n",
        "# Inside the loop, the line creates a dictionary containing the review and its embedding, and appends it to the reviews list. This way, the reviews list ultimately stores each review along with its numerical representation (embedding).\n",
        "for review, embedding in zip(tv_reviews_4K, embeddings):\n",
        "    reviews.append({\"review\": review, \"embedding\": embedding})"
      ],
      "metadata": {
        "id": "JTa_OrM2r6yT"
      },
      "execution_count": 5,
      "outputs": []
    },
    {
      "cell_type": "markdown",
      "source": [
        "\n",
        "\n",
        "---\n",
        "\n",
        "\n",
        "## Step 4: Implementing Semantic Search"
      ],
      "metadata": {
        "id": "9bSn_ueXs3c_"
      }
    },
    {
      "cell_type": "code",
      "source": [
        "# User search querys\n",
        "search_text = \"local dimming\"\n",
        "\n",
        "# Generate the embedding for the query\n",
        "# This line calls the create_embeddings function to generate an embedding for the search_text.\n",
        "# The result (the embedding) is stored in the search_embedding variable.\n",
        "search_embedding = create_embeddings([search_text])[0]\n",
        "\n",
        "# Calculate cosine distances between the query and reviews\n",
        "distances = []\n",
        "# This loop iterates through each customer review in the reviews list.\n",
        "# For each review, it calculates the cosine distance between the search_embedding and the review[\"embedding\"].\n",
        "for review in reviews:\n",
        "    dist = distance.cosine(search_embedding, review[\"embedding\"])\n",
        "    distances.append(dist)\n",
        "\n",
        "# Find the closest review\n",
        "# np.argmin(distances) finds the index of the minimum value in the distances list.\n",
        "# This index corresponds to the review that is most similar to the search query.\n",
        "min_dist_ind = np.argmin(distances)\n",
        "closest_review = reviews[min_dist_ind]\n",
        "\n",
        "print(f\"Search Query: {search_text}\")\n",
        "print(f\"Closest Review: {closest_review['review']}\")"
      ],
      "metadata": {
        "colab": {
          "base_uri": "https://localhost:8080/"
        },
        "id": "LRrNYpyPIo_R",
        "outputId": "ca654566-71c4-46bb-f231-dfd1398fe024"
      },
      "execution_count": 6,
      "outputs": [
        {
          "output_type": "stream",
          "name": "stdout",
          "text": [
            "Search Query: local dimming\n",
            "Closest Review: Local dimming performance is top-notch.  Worth every penny.\n"
          ]
        }
      ]
    },
    {
      "cell_type": "markdown",
      "source": [
        "\n",
        "\n",
        "---\n",
        "\n",
        "\n",
        "## Step 5: Visualizing with Gradio"
      ],
      "metadata": {
        "id": "A3k009chJZFi"
      }
    },
    {
      "cell_type": "code",
      "source": [
        "# Gradio is a library that makes it easy to create user interfaces.\n",
        "!pip install --upgrade gradio -qqq\n",
        "import gradio as gr\n",
        "\n",
        "# Define the search function\n",
        "# This is the core of the semantic search functionality.\n",
        "# This defines a function called find_similar_reviews that takes the user's search text as input.\n",
        "# The rest of the lines process the query just like the steps above\n",
        "def find_similar_reviews(query):\n",
        "    search_embedding = create_embeddings([query])[0]\n",
        "    distances = [distance.cosine(search_embedding, c[\"embedding\"]) for c in reviews]\n",
        "    min_dist_ind = np.argmin(distances)\n",
        "    closest_review = reviews[min_dist_ind]\n",
        "    return f\"Query: {query}\\n\\nMost Similar Review: {closest_review['review']}\"\n",
        "\n",
        "# Create the Gradio interface\n",
        "# This creates a Gradio interface object.\n",
        "interface = gr.Interface(\n",
        "    # This specifies that the find_similar_reviews function will be called when the user interacts with the interface.\n",
        "    fn=find_similar_reviews,\n",
        "    inputs=\"text\",\n",
        "    outputs=\"text\",\n",
        "    title=\"Semantic Search for Customer Reviews\",\n",
        "    description=\"Enter a customer query to find similar reviews in the database.\"\n",
        ")\n",
        "\n",
        "# Launch the app\n",
        "interface.launch()"
      ],
      "metadata": {
        "colab": {
          "base_uri": "https://localhost:8080/",
          "height": 749
        },
        "id": "-yYycGYlJfIZ",
        "outputId": "902df295-77e5-4893-da3f-bdc561c781eb"
      },
      "execution_count": 7,
      "outputs": [
        {
          "output_type": "stream",
          "name": "stdout",
          "text": [
            "\u001b[2K   \u001b[90m━━━━━━━━━━━━━━━━━━━━━━━━━━━━━━━━━━━━━━━━\u001b[0m \u001b[32m62.2/62.2 MB\u001b[0m \u001b[31m10.5 MB/s\u001b[0m eta \u001b[36m0:00:00\u001b[0m\n",
            "\u001b[2K   \u001b[90m━━━━━━━━━━━━━━━━━━━━━━━━━━━━━━━━━━━━━━━━\u001b[0m \u001b[32m321.9/321.9 kB\u001b[0m \u001b[31m20.0 MB/s\u001b[0m eta \u001b[36m0:00:00\u001b[0m\n",
            "\u001b[2K   \u001b[90m━━━━━━━━━━━━━━━━━━━━━━━━━━━━━━━━━━━━━━━━\u001b[0m \u001b[32m94.8/94.8 kB\u001b[0m \u001b[31m6.6 MB/s\u001b[0m eta \u001b[36m0:00:00\u001b[0m\n",
            "\u001b[2K   \u001b[90m━━━━━━━━━━━━━━━━━━━━━━━━━━━━━━━━━━━━━━━━\u001b[0m \u001b[32m12.5/12.5 MB\u001b[0m \u001b[31m87.3 MB/s\u001b[0m eta \u001b[36m0:00:00\u001b[0m\n",
            "\u001b[2K   \u001b[90m━━━━━━━━━━━━━━━━━━━━━━━━━━━━━━━━━━━━━━━━\u001b[0m \u001b[32m71.5/71.5 kB\u001b[0m \u001b[31m4.3 MB/s\u001b[0m eta \u001b[36m0:00:00\u001b[0m\n",
            "\u001b[2K   \u001b[90m━━━━━━━━━━━━━━━━━━━━━━━━━━━━━━━━━━━━━━━━\u001b[0m \u001b[32m62.3/62.3 kB\u001b[0m \u001b[31m3.9 MB/s\u001b[0m eta \u001b[36m0:00:00\u001b[0m\n",
            "\u001b[?25hRunning Gradio in a Colab notebook requires sharing enabled. Automatically setting `share=True` (you can turn this off by setting `share=False` in `launch()` explicitly).\n",
            "\n",
            "Colab notebook detected. To show errors in colab notebook, set debug=True in launch()\n",
            "* Running on public URL: https://919d54230d52594353.gradio.live\n",
            "\n",
            "This share link expires in 72 hours. For free permanent hosting and GPU upgrades, run `gradio deploy` from the terminal in the working directory to deploy to Hugging Face Spaces (https://huggingface.co/spaces)\n"
          ]
        },
        {
          "output_type": "display_data",
          "data": {
            "text/plain": [
              "<IPython.core.display.HTML object>"
            ],
            "text/html": [
              "<div><iframe src=\"https://919d54230d52594353.gradio.live\" width=\"100%\" height=\"500\" allow=\"autoplay; camera; microphone; clipboard-read; clipboard-write;\" frameborder=\"0\" allowfullscreen></iframe></div>"
            ]
          },
          "metadata": {}
        },
        {
          "output_type": "execute_result",
          "data": {
            "text/plain": []
          },
          "metadata": {},
          "execution_count": 7
        }
      ]
    }
  ],
  "metadata": {
    "language_info": {
      "name": "python"
    },
    "colab": {
      "provenance": [],
      "include_colab_link": true
    },
    "kernelspec": {
      "name": "python3",
      "display_name": "Python 3"
    }
  },
  "nbformat": 4,
  "nbformat_minor": 0
}
