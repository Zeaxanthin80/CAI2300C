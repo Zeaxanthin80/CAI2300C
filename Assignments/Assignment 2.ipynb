{
  "cells": [
    {
      "cell_type": "markdown",
      "metadata": {
        "id": "view-in-github",
        "colab_type": "text"
      },
      "source": [
        "<a href=\"https://colab.research.google.com/github/Zeaxanthin80/CAI2300C/blob/main/Assignments/Assignment%202.ipynb\" target=\"_parent\"><img src=\"https://colab.research.google.com/assets/colab-badge.svg\" alt=\"Open In Colab\"/></a>"
      ]
    },
    {
      "cell_type": "markdown",
      "source": [
        "# Assignment 2\n",
        "## &nbsp;&nbsp;&nbsp;&nbsp;&nbsp;&nbsp;&nbsp; <font color=\"#abb2b9\">Building a Semantic Search Engine for a Healthcare Dataset with OpenAI.</font>\n",
        "\n",
        "\n",
        "\n",
        "\n",
        "\n",
        "\n",
        "\n"
      ],
      "metadata": {
        "id": "qDnRKk45P0kf"
      }
    },
    {
      "cell_type": "code",
      "source": [
        "from openai import OpenAI  # Import the OpenAI library to interact with OpenAI's API\n",
        "from scipy.spatial import distance  # Import distance from scipy.spatial for computing vector distances\n",
        "import numpy as np  # Import NumPy for numerical operations\n",
        "\n",
        "# Initialize OpenAI client with your API key\n",
        "client = OpenAI(api_key=\"OPEN_AI_KEY\")  # Replace \"your_key\" with your actual OpenAI API key\n",
        "\n",
        "# Function to generate embeddings for a list of input texts\n",
        "def create_embeddings(texts, model=\"text-embedding-3-small\"):\n",
        "    \"\"\"\n",
        "    This function takes a list of texts and generates embeddings using the specified OpenAI model.\n",
        "\n",
        "    Parameters:\n",
        "    texts (list of str): List of input texts to be embedded.\n",
        "    model (str): The name of the embedding model to use (default is \"text-embedding-3-small\").\n",
        "\n",
        "    Returns:\n",
        "    list of lists: A list containing embedding vectors for each input text.\n",
        "    \"\"\"\n",
        "    embeddings = []  # Initialize an empty list to store the embeddings\n",
        "    for text in texts:  # Iterate through each text in the input list\n",
        "        response = client.embeddings.create(input=text, model=model)\n",
        "        embeddings.append(response.data[0].embedding)  # Extract and store the embedding vector\n",
        "    return embeddings  # Return the list of embeddings\n"
      ],
      "metadata": {
        "id": "Coi2I8JsM7C6"
      },
      "execution_count": 2,
      "outputs": []
    },
    {
      "cell_type": "markdown",
      "source": [
        "#  \n",
        "## &nbsp;&nbsp;&nbsp;&nbsp;&nbsp;&nbsp;&nbsp; <font color=\"#abb2b9\">Retrieving the Healthcare Dataset from Kaggle and moving it to the current working directory.</font>\n"
      ],
      "metadata": {
        "id": "K1PzG0YDocF2"
      }
    },
    {
      "cell_type": "code",
      "source": [
        "import kagglehub  # Import the kagglehub library for interacting with Kaggle datasets.\n",
        "import shutil  # Import the shutil library for file and directory operations (moving).\n",
        "import os  # Import the os library for interacting with the operating system (paths, directories).\n",
        "\n",
        "# Download the latest version of the specified Kaggle dataset.\n",
        "# The `kagglehub.dataset_download()` function downloads the dataset to a temporary location.\n",
        "# The return value `path` is the path to this temporary directory.\n",
        "path = kagglehub.dataset_download(\"prasad22/healthcare-dataset\")\n",
        "\n",
        "# Extract the dataset name from the downloaded path.\n",
        "# We split the path string by \"/\" and take the third element from the end, which is\n",
        "# expected to be the dataset name.\n",
        "dataset_name = path.split(\"/\")[-3]\n",
        "\n",
        "# Define the destination directory where the dataset will be moved.\n",
        "# We create a directory named \"Kaggle-Dataset\" in the current directory,\n",
        "# and within it, a subdirectory with the dataset's name.\n",
        "destination_directory = os.path.join(\".\", \"Kaggle-Dataset\", dataset_name)\n",
        "\n",
        "# Create the destination directory if it doesn't already exist.\n",
        "# `os.makedirs()` creates the directory and any necessary parent directories.\n",
        "# `exist_ok=True` prevents an error if the directory already exists.\n",
        "os.makedirs(destination_directory, exist_ok=True)\n",
        "\n",
        "# Move the contents of the downloaded dataset directory to the destination directory.\n",
        "# We iterate through each item (file or subdirectory) within the downloaded path.\n",
        "for item in os.listdir(path):\n",
        "    source_item_path = os.path.join(path, item)  # Create the full path to the source item.\n",
        "    destination_item_path = os.path.join(destination_directory, item)  # Create the full path to the destination item.\n",
        "\n",
        "    # Check if the item is a file.\n",
        "    if os.path.isfile(source_item_path):\n",
        "        shutil.move(source_item_path, destination_item_path)  # Move the file to the destination.\n",
        "    # Check if the item is a directory.\n",
        "    elif os.path.isdir(source_item_path):\n",
        "        shutil.move(source_item_path, destination_item_path)  # Move the directory (including its contents) to the destination.\n",
        "\n",
        "# Print a message to the console indicating that the dataset has been moved.\n",
        "print(f\"Dataset content moved to: {destination_directory}\")"
      ],
      "metadata": {
        "id": "PufWvg6tnucO"
      },
      "execution_count": null,
      "outputs": []
    },
    {
      "cell_type": "markdown",
      "source": [
        "#  \n",
        "## &nbsp;&nbsp;&nbsp;&nbsp;&nbsp;&nbsp;&nbsp; <font color=\"#abb2b9\">Convert the comma separated list (csv) file to a list of dictionary for each record.</font>\n"
      ],
      "metadata": {
        "id": "WddsrlLsrF8P"
      }
    },
    {
      "cell_type": "code",
      "source": [
        "import csv\n",
        "\n",
        "def csv_to_list_of_dicts(csv_file_path):\n",
        "    \"\"\"\n",
        "    Converts a CSV file to a list of dictionaries, where each dictionary\n",
        "    represents a record (row) in the CSV.\n",
        "\n",
        "    Args:\n",
        "        csv_file_path (str): The path to the CSV file.\n",
        "\n",
        "    Returns:\n",
        "        list: A list of dictionaries, where each dictionary represents a record.\n",
        "    \"\"\"\n",
        "\n",
        "    data = []\n",
        "    with open(csv_file_path, 'r', encoding='utf-8') as file:  # Open in read mode\n",
        "        reader = csv.DictReader(file)  # Create a DictReader object\n",
        "        for row in reader:  # Iterate through rows\n",
        "            data.append(row)  # Add each row (as a dictionary) to the list\n",
        "    return data"
      ],
      "metadata": {
        "id": "DFIcByg1rFbl"
      },
      "execution_count": null,
      "outputs": []
    },
    {
      "cell_type": "code",
      "source": [
        "csv_file_path = \"./Kaggle-Dataset/healthcare-dataset/healthcare_dataset.csv\"  # Replace with your actual CSV file path\n",
        "dataset_of_records = csv_to_list_of_dicts(csv_file_path)\n",
        "\n",
        "# You can access data like this:\n",
        "# print(dataset_as_list_of_dicts[5])  # Print the first record (dictionary)\n",
        "# print(dataset_as_list_of_dicts[0]['column_name'])  # Access a specific column value"
      ],
      "metadata": {
        "id": "gOsjALWxrhCo"
      },
      "execution_count": null,
      "outputs": []
    },
    {
      "cell_type": "code",
      "source": [
        "# Generate embeddings for the complaints\n",
        "records = []\n",
        "embeddings = create_embeddings(dataset_of_records, model=\"text-embedding-3-small\")\n",
        "\n",
        "for record, embedding in zip(dataset_of_records, embeddings):\n",
        "    records.append({\"patient record\": record, \"embedding\": embedding})"
      ],
      "metadata": {
        "id": "JTa_OrM2r6yT"
      },
      "execution_count": null,
      "outputs": []
    }
  ],
  "metadata": {
    "language_info": {
      "name": "python"
    },
    "colab": {
      "provenance": [],
      "include_colab_link": true
    },
    "kernelspec": {
      "name": "python3",
      "display_name": "Python 3"
    }
  },
  "nbformat": 4,
  "nbformat_minor": 0
}