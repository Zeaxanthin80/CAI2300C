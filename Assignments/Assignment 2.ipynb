{
  "cells": [
    {
      "cell_type": "markdown",
      "metadata": {
        "id": "view-in-github",
        "colab_type": "text"
      },
      "source": [
        "<a href=\"https://colab.research.google.com/github/Zeaxanthin80/CAI2300C/blob/main/Assignments/Assignment%202.ipynb\" target=\"_parent\"><img src=\"https://colab.research.google.com/assets/colab-badge.svg\" alt=\"Open In Colab\"/></a>"
      ]
    },
    {
      "cell_type": "markdown",
      "source": [
        "# Assignment 2"
      ],
      "metadata": {
        "id": "pujOZ6wztUUH"
      }
    },
    {
      "cell_type": "markdown",
      "source": [
        "## <font color=\"#abb2b9\">Building a Semantic Search Engine for an E-Commerce site with OpenAI.</font>\n",
        "\n",
        "---\n",
        "\n"
      ],
      "metadata": {
        "id": "OP2huPjFLfl9"
      }
    },
    {
      "cell_type": "markdown",
      "source": [
        "## Step 1: Understanding Semantic Search"
      ],
      "metadata": {
        "id": "U4ufC4VVLzkN"
      }
    },
    {
      "cell_type": "markdown",
      "source": [
        "Use Case:\n",
        "\n",
        "You start an e-commerce site to sell  electronics. A customer is searching for a \"4K TV.\"  Traditional keyword search might only return TV's explicitly described with those exact words. However, semantic search can understand the meaning behind the query.  It will return TV's that are described as \"4K,\" \"OLED,\" or even \"curved tv's,\" even if those terms weren't directly used in the search.  Furthermore, it can prioritize tv's with reviews mentioning \"visual perfection\" or \"immersive experience,\" even if those words aren't in the product description itself.  This leads to more relevant search results and a better customer experience, increasing the likelihood of a purchase."
      ],
      "metadata": {
        "id": "NWhC53cgL2Li"
      }
    },
    {
      "cell_type": "markdown",
      "source": [
        "## Step 2: Setting Up the Environment\n",
        "\n",
        "\n",
        "\n",
        "\n",
        "\n",
        "\n",
        "\n",
        "\n"
      ],
      "metadata": {
        "id": "qDnRKk45P0kf"
      }
    },
    {
      "cell_type": "code",
      "source": [
        "from openai import OpenAI  # Import the OpenAI library to interact with OpenAI's API\n",
        "from scipy.spatial import distance  # Import distance from scipy.spatial for computing vector distances\n",
        "import numpy as np  # Import NumPy for numerical operations\n",
        "\n",
        "from google.colab import userdata\n",
        "openai = userdata.get('OPENAI_KEY')\n",
        "\n",
        "# Initialize OpenAI client with your API key\n",
        "client = OpenAI(api_key=openai)  # Replace \"your_key\" with your actual OpenAI API key\n",
        "\n",
        "# Function to generate embeddings for a list of input texts\n",
        "def create_embeddings(texts, model=\"text-embedding-3-small\"):\n",
        "    \"\"\"\n",
        "    This function takes a list of texts and generates embeddings using the specified OpenAI model.\n",
        "\n",
        "    Parameters:\n",
        "    texts (list of str): List of input texts to be embedded.\n",
        "    model (str): The name of the embedding model to use (default is \"text-embedding-3-small\").\n",
        "\n",
        "    Returns:\n",
        "    list of lists: A list containing embedding vectors for each input text.\n",
        "    \"\"\"\n",
        "    embeddings = []  # Initialize an empty list to store the embeddings\n",
        "    for text in texts:  # Iterate through each text in the input list\n",
        "        response = client.embeddings.create(input=text, model=model)\n",
        "        embeddings.append(response.data[0].embedding)  # Extract and store the embedding vector\n",
        "    return embeddings  # Return the list of embeddings\n"
      ],
      "metadata": {
        "id": "Coi2I8JsM7C6"
      },
      "execution_count": 1,
      "outputs": []
    },
    {
      "cell_type": "markdown",
      "source": [
        "## Step 3: Data Preparation\n",
        "\n"
      ],
      "metadata": {
        "id": "K1PzG0YDocF2"
      }
    },
    {
      "cell_type": "code",
      "source": [
        "tv_reviews = [\n",
        " 'I would definitely recommend this TV to others.',\n",
        " 'The picture is crisp and clear.',\n",
        " 'The local dimming is a standout feature.  It really enhances the viewing experience.',\n",
        " 'The local dimming feature is a great addition. It makes the picture more immersive.',\n",
        " 'The picture is crisp and clear.',\n",
        " 'Very happy with this purchase.  Easy to set up and use.  The smart features are great.',\n",
        " 'Very happy with this purchase.  Easy to set up and use.  The smart features are great.',\n",
        " 'I love the design of this TV.  It looks great in my living room.',\n",
        " 'The viewing angles are very good.',\n",
        " 'The local dimming is a must-have for any serious home theater enthusiast.',\n",
        " 'This TV is a great upgrade from my old one.',\n",
        " 'This TV is a great addition to my home entertainment setup.',\n",
        " 'The remote control is intuitive and easy to use.',\n",
        " 'The picture is crisp and clear.',\n",
        " 'I would definitely recommend this TV to others.',\n",
        " 'The built-in apps work perfectly.',\n",
        " 'I love the design of this TV.  It looks great in my living room.',\n",
        " 'The local dimming is fantastic! Blacks are truly black, and the contrast is amazing.',\n",
        " \"I'm impressed with the overall performance of this TV.\",\n",
        " 'This TV is perfect for watching movies and TV shows.',\n",
        " 'This TV is perfect for watching movies and TV shows.',\n",
        " 'The connectivity options are excellent.',\n",
        " 'This TV is perfect for watching movies and TV shows.',\n",
        " 'I would definitely recommend this TV to others.',\n",
        " 'The viewing angles are very good.',\n",
        " 'The smart features are very responsive and easy to navigate.',\n",
        " \"The blacks are so deep thanks to the excellent local dimming.  I'm very happy with this purchase.\",\n",
        " 'I would definitely recommend this TV to others.',\n",
        " 'The local dimming works flawlessly, enhancing the contrast and depth of the image.',\n",
        " 'Local dimming performance is top-notch.  Worth every penny.',\n",
        " 'The setup process was quick and painless.',\n",
        " 'I love the design of this TV.  It looks great in my living room.',\n",
        " 'The built-in apps work perfectly.',\n",
        " 'The sound quality is better than I expected.',\n",
        " 'I would definitely recommend this TV to others.',\n",
        " 'This TV is a great addition to my home entertainment setup.',\n",
        " 'This TV is a great addition to my home entertainment setup.',\n",
        " 'The local dimming is subtle but effective, making a significant difference in picture quality.',\n",
        " 'I would definitely recommend this TV to others.',\n",
        " 'The colors are vibrant and lifelike.',\n",
        " 'I love the design of this TV.  It looks great in my living room.',\n",
        " 'I would definitely recommend this TV to others.',\n",
        " 'The picture is crisp and clear.',\n",
        " 'The built-in apps work perfectly.',\n",
        " 'The setup process was quick and painless.',\n",
        " 'The TV is lightweight and easy to move.',\n",
        " 'Very happy with this purchase.  Easy to set up and use.  The smart features are great.',\n",
        " 'The local dimming is a must-have for any serious home theater enthusiast.',\n",
        " 'The connectivity options are excellent.',\n",
        " 'Very happy with this purchase.  Easy to set up and use.  The smart features are great.',\n",
        " 'This TV is a great addition to my home entertainment setup.',\n",
        " 'I love the design of this TV.  It looks great in my living room.',\n",
        " 'The local dimming works incredibly well.  No more washed-out blacks. Highly recommend!',\n",
        " 'The TV is lightweight and easy to move.',\n",
        " \"I love how the local dimming improves the overall picture quality. It's a noticeable upgrade.\",\n",
        " 'Great TV!  The picture quality is excellent, and the sound is surprisingly good.',\n",
        " 'I would definitely recommend this TV to others.',\n",
        " 'The local dimming is a must-have for any serious home theater enthusiast.',\n",
        " 'Great TV!  The picture quality is excellent, and the sound is surprisingly good.',\n",
        " 'This TV is a great upgrade from my old one.',\n",
        " 'I would definitely recommend this TV to others.',\n",
        " 'The smart features are very responsive and easy to navigate.',\n",
        " 'The built-in apps work perfectly.',\n",
        " 'The viewing angles are very good.',\n",
        " 'The TV is lightweight and easy to move.',\n",
        " 'This TV is perfect for watching movies and TV shows.',\n",
        " 'The local dimming is very effective, providing excellent contrast and shadow detail.',\n",
        " 'I would definitely recommend this TV to others.',\n",
        " \"I'm impressed with the overall performance of this TV.\",\n",
        " 'Great TV!  The picture quality is excellent, and the sound is surprisingly good.',\n",
        " 'This TV is perfect for watching movies and TV shows.',\n",
        " 'The connectivity options are excellent.',\n",
        " 'The local dimming feature is a great addition. It makes the picture more immersive.',\n",
        " 'The local dimming is very effective, providing excellent contrast and shadow detail.',\n",
        " \"I'm impressed with the overall performance of this TV.\",\n",
        " \"I'm very satisfied with this purchase.\",\n",
        " 'The built-in apps work perfectly.',\n",
        " 'The connectivity options are excellent.',\n",
        " 'Very happy with this purchase.  Easy to set up and use.  The smart features are great.',\n",
        " 'The smart features are very responsive and easy to navigate.',\n",
        " \"I'm very satisfied with this purchase.\",\n",
        " 'The local dimming is a standout feature, creating a truly immersive viewing experience.',\n",
        " 'The setup process was quick and painless.',\n",
        " 'This TV is a great upgrade from my old one.',\n",
        " \"I'm very satisfied with this purchase.\",\n",
        " 'I would definitely recommend this TV to others.',\n",
        " 'I would definitely recommend this TV to others.',\n",
        " 'The local dimming is a huge improvement over my previous TV. The picture is so much better.',\n",
        " \"I'm very satisfied with this purchase.\",\n",
        " 'The local dimming works incredibly well.  No more washed-out blacks. Highly recommend!',\n",
        " 'The connectivity options are excellent.',\n",
        " 'The sound quality is better than I expected.',\n",
        " 'The connectivity options are excellent.',\n",
        " 'The local dimming works flawlessly, enhancing the contrast and depth of the image.',\n",
        " 'The viewing angles are very good.',\n",
        " \"I'm impressed with the overall performance of this TV.\",\n",
        " \"I love how the local dimming improves the overall picture quality. It's a noticeable upgrade.\",\n",
        " \"I'm impressed with the overall performance of this TV.\",\n",
        " \"I'm impressed with the overall performance of this TV.\",\n",
        " 'The picture is crisp and clear.']"
      ],
      "metadata": {
        "id": "sIAuKA2BHPr9"
      },
      "execution_count": 2,
      "outputs": []
    },
    {
      "cell_type": "code",
      "source": [
        "# Generate embeddings for the complaints\n",
        "reviews = []\n",
        "embeddings = create_embeddings(tv_reviews, model=\"text-embedding-3-small\")\n",
        "\n",
        "for review, embedding in zip(tv_reviews, embeddings):\n",
        "    reviews.append({\"review\": review, \"embedding\": embedding})"
      ],
      "metadata": {
        "id": "JTa_OrM2r6yT"
      },
      "execution_count": 3,
      "outputs": []
    },
    {
      "cell_type": "markdown",
      "source": [
        "## Step 4: Implementing Semantic Search"
      ],
      "metadata": {
        "id": "9bSn_ueXs3c_"
      }
    },
    {
      "cell_type": "code",
      "source": [
        "# Search query\n",
        "search_text = \"local dimming\"\n",
        "\n",
        "# Generate the embedding for the query\n",
        "search_embedding = create_embeddings([search_text])[0]\n",
        "\n",
        "# Calculate cosine distances between the query and reviews\n",
        "distances = []\n",
        "for review in reviews:\n",
        "    dist = distance.cosine(search_embedding, review[\"embedding\"])\n",
        "    distances.append(dist)\n",
        "\n",
        "# Find the closest review\n",
        "min_dist_ind = np.argmin(distances)\n",
        "closest_review = reviews[min_dist_ind]\n",
        "\n",
        "print(f\"Search Query: {search_text}\")\n",
        "print(f\"Closest Review: {closest_review['review']}\")"
      ],
      "metadata": {
        "id": "LRrNYpyPIo_R",
        "outputId": "067d069b-16ca-4213-90c6-8c5e9a20cdb2",
        "colab": {
          "base_uri": "https://localhost:8080/"
        }
      },
      "execution_count": 4,
      "outputs": [
        {
          "output_type": "stream",
          "name": "stdout",
          "text": [
            "Search Query: local dimming\n",
            "Closest Review: Local dimming performance is top-notch.  Worth every penny.\n"
          ]
        }
      ]
    },
    {
      "cell_type": "markdown",
      "source": [
        "## Step 5: Visualizing with Gradio"
      ],
      "metadata": {
        "id": "A3k009chJZFi"
      }
    },
    {
      "cell_type": "code",
      "source": [
        "!pip install --upgrade gradio -qqq\n",
        "import gradio as gr\n",
        "\n",
        "# Define the search function\n",
        "def find_similar_reviews(query):\n",
        "    search_embedding = create_embeddings([query])[0]\n",
        "    distances = [distance.cosine(search_embedding, c[\"embedding\"]) for c in reviews]\n",
        "    min_dist_ind = np.argmin(distances)\n",
        "    closest_review = reviews[min_dist_ind]\n",
        "    return f\"Query: {query}\\n\\nMost Similar Review: {closest_review['review']}\"\n",
        "\n",
        "# Create the Gradio interface\n",
        "interface = gr.Interface(\n",
        "    fn=find_similar_reviews,\n",
        "    inputs=\"text\",\n",
        "    outputs=\"text\",\n",
        "    title=\"Semantic Search for Customer Reviews\",\n",
        "    description=\"Enter a customer query to find similar reviews in the database.\"\n",
        ")\n",
        "\n",
        "# Launch the app\n",
        "interface.launch()"
      ],
      "metadata": {
        "id": "-yYycGYlJfIZ",
        "outputId": "fda4edff-82c1-4ee1-a5ee-ed4768407e20",
        "colab": {
          "base_uri": "https://localhost:8080/",
          "height": 645
        }
      },
      "execution_count": 5,
      "outputs": [
        {
          "output_type": "stream",
          "name": "stdout",
          "text": [
            "Running Gradio in a Colab notebook requires sharing enabled. Automatically setting `share=True` (you can turn this off by setting `share=False` in `launch()` explicitly).\n",
            "\n",
            "Colab notebook detected. To show errors in colab notebook, set debug=True in launch()\n",
            "* Running on public URL: https://a78ab72e7b4a327c27.gradio.live\n",
            "\n",
            "This share link expires in 72 hours. For free permanent hosting and GPU upgrades, run `gradio deploy` from the terminal in the working directory to deploy to Hugging Face Spaces (https://huggingface.co/spaces)\n"
          ]
        },
        {
          "output_type": "display_data",
          "data": {
            "text/plain": [
              "<IPython.core.display.HTML object>"
            ],
            "text/html": [
              "<div><iframe src=\"https://a78ab72e7b4a327c27.gradio.live\" width=\"100%\" height=\"500\" allow=\"autoplay; camera; microphone; clipboard-read; clipboard-write;\" frameborder=\"0\" allowfullscreen></iframe></div>"
            ]
          },
          "metadata": {}
        },
        {
          "output_type": "execute_result",
          "data": {
            "text/plain": []
          },
          "metadata": {},
          "execution_count": 5
        }
      ]
    }
  ],
  "metadata": {
    "language_info": {
      "name": "python"
    },
    "colab": {
      "provenance": [],
      "toc_visible": true,
      "gpuType": "T4",
      "include_colab_link": true
    },
    "kernelspec": {
      "name": "python3",
      "display_name": "Python 3"
    },
    "accelerator": "GPU"
  },
  "nbformat": 4,
  "nbformat_minor": 0
}