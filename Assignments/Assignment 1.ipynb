{
  "cells": [
    {
      "cell_type": "markdown",
      "metadata": {
        "id": "view-in-github",
        "colab_type": "text"
      },
      "source": [
        "<a href=\"https://colab.research.google.com/github/Zeaxanthin80/CAI2300C/blob/main/Assignments/Assignment%202.ipynb\" target=\"_parent\"><img src=\"https://colab.research.google.com/assets/colab-badge.svg\" alt=\"Open In Colab\" width=\"200\"/></a>"
      ]
    },
    {
      "cell_type": "markdown",
      "metadata": {
        "id": "A6AbG1tM87IM"
      },
      "source": [
        "#1. Set Up the Environment:\n",
        "&nbsp;&nbsp;&nbsp;&nbsp;&nbsp;&nbsp;&nbsp;Import the required libraries and download necessary NLTK datasets.\n",
        "\n",
        "&nbsp;&nbsp;&nbsp;&nbsp;&nbsp;&nbsp;&nbsp;This section imports necessary libraries like NLTK and pandas, and downloads required datasets for NLP tasks.\n",
        "\n",
        "&nbsp;&nbsp;&nbsp;&nbsp;&nbsp;&nbsp;&nbsp;It prepares the environment for text analysis."
      ]
    },
    {
      "cell_type": "code",
      "execution_count": null,
      "metadata": {
        "colab": {
          "base_uri": "https://localhost:8080/"
        },
        "id": "w1pCrKwdxbUj",
        "outputId": "41212750-6a9c-4147-a4a7-2fdfa605878a"
      },
      "outputs": [
        {
          "name": "stderr",
          "output_type": "stream",
          "text": [
            "[nltk_data] Downloading package punkt to /root/nltk_data...\n",
            "[nltk_data]   Package punkt is already up-to-date!\n",
            "[nltk_data] Downloading package punkt_tab to /root/nltk_data...\n",
            "[nltk_data]   Package punkt_tab is already up-to-date!\n",
            "[nltk_data] Downloading package stopwords to /root/nltk_data...\n",
            "[nltk_data]   Package stopwords is already up-to-date!\n",
            "[nltk_data] Downloading package wordnet to /root/nltk_data...\n",
            "[nltk_data]   Package wordnet is already up-to-date!\n",
            "[nltk_data] Downloading package averaged_perceptron_tagger to\n",
            "[nltk_data]     /root/nltk_data...\n",
            "[nltk_data]   Package averaged_perceptron_tagger is already up-to-\n",
            "[nltk_data]       date!\n",
            "[nltk_data] Downloading package maxent_ne_chunker to\n",
            "[nltk_data]     /root/nltk_data...\n",
            "[nltk_data]   Package maxent_ne_chunker is already up-to-date!\n",
            "[nltk_data] Downloading package words to /root/nltk_data...\n",
            "[nltk_data]   Package words is already up-to-date!\n",
            "[nltk_data] Downloading package averaged_perceptron_tagger_eng to\n",
            "[nltk_data]     /root/nltk_data...\n",
            "[nltk_data]   Package averaged_perceptron_tagger_eng is already up-to-\n",
            "[nltk_data]       date!\n",
            "[nltk_data] Downloading package maxent_ne_chunker_tab to\n",
            "[nltk_data]     /root/nltk_data...\n",
            "[nltk_data]   Package maxent_ne_chunker_tab is already up-to-date!\n",
            "[nltk_data] Error loading words_tab: Package 'words_tab' not found in\n",
            "[nltk_data]     index\n",
            "[nltk_data] Downloading package omw-1.4 to /root/nltk_data...\n",
            "[nltk_data]   Package omw-1.4 is already up-to-date!\n"
          ]
        },
        {
          "data": {
            "text/plain": [
              "True"
            ]
          },
          "execution_count": 102,
          "metadata": {},
          "output_type": "execute_result"
        }
      ],
      "source": [
        "import nltk\n",
        "import pandas as pd\n",
        "\n",
        "nltk.download('punkt')\n",
        "nltk.download('punkt_tab')\n",
        "nltk.download('stopwords')\n",
        "nltk.download('wordnet')\n",
        "nltk.download('averaged_perceptron_tagger')\n",
        "nltk.download('maxent_ne_chunker')\n",
        "nltk.download('words')\n",
        "nltk.download('averaged_perceptron_tagger_eng')\n",
        "nltk.download('maxent_ne_chunker_tab')\n",
        "nltk.download('words_tab')\n",
        "nltk.download('omw-1.4')"
      ]
    },
    {
      "cell_type": "markdown",
      "metadata": {
        "id": "WfZu78ez9EAJ"
      },
      "source": [
        "\n",
        "\n",
        "---\n",
        "\n",
        "\n",
        "#2. Create a Data Variable:\n",
        "&nbsp;&nbsp;&nbsp;&nbsp;&nbsp;&nbsp;&nbsp;Define a sample text that contains multiple sentences, including punctuation, proper nouns, and common words.\n",
        "\n",
        "&nbsp;&nbsp;&nbsp;&nbsp;&nbsp;&nbsp;&nbsp;This section defines a variable containing the text data that will be analyzed."
      ]
    },
    {
      "cell_type": "code",
      "execution_count": null,
      "metadata": {
        "id": "fFi3mlKg3M8R"
      },
      "outputs": [],
      "source": [
        "# AI generated story about 56k modems and BBS's.\n",
        "\n",
        "CAI2300 = \"In the 90s, when the internet was still a vast frontier, Jeremy eagerly awaited the familiar dial-up tone of his 56k modem. \\\n",
        "The screen flickered to life, a series of bleeps and buzzes as the connection struggled to establish itself. It was a ritual—his window \\\n",
        "to a digital world where everything was still new and mysterious. His destination? The local BBS (Bulletin Board System), a quirky collection \\\n",
        "of online communities that were like virtual hangouts, before forums and social media took over. Jeremy would log in, the old modem hissing \\\n",
        "in frustration as it negotiated a connection, the speed no faster than a slow crawl. But to him, it felt like magic. On the BBS, there were \\\n",
        "endless text-based adventures to dive into, games to play, and strange characters to meet. The user names scrolled past like graffiti on a wall, \\\n",
        "a mix of anonymity and creativity. He'd spend hours chatting in forums, swapping files, and downloading tiny software programs that often took \\\n",
        "hours to finish. It wasn't about how fast it was—back then, the journey itself was a part of the charm. Even though the modem's 56k speed was \\\n",
        "laughably slow by today's standards, there was something special about those nights. Jeremy could hear the distant clatter of old hard drives \\\n",
        "as they stored his messages. The BBS operators, with their DIY tech knowledge, had a sense of community that made everything worth the wait. \\\n",
        "Eventually, broadband replaced dial-up. The BBSs faded into obscurity, and the world moved on to faster, flashier things. But for Jeremy, \\\n",
        "those nights spent connecting over a 56k modem, the sounds of the old dial-up connecting, would always be a cherished memory—a reminder of \\\n",
        "the early days of the internet.\""
      ]
    },
    {
      "cell_type": "markdown",
      "metadata": {
        "id": "ZXBlAXXz9M3x"
      },
      "source": [
        "\n",
        "\n",
        "---\n",
        "\n",
        "\n",
        "#3. Tokenization:\n",
        "\n",
        "&nbsp;&nbsp;&nbsp;&nbsp;&nbsp;&nbsp;&nbsp;Tokenize the text by word and sentence.\n",
        "\n",
        "&nbsp;&nbsp;&nbsp;&nbsp;&nbsp;&nbsp;&nbsp;This section breaks down the text into individual words (word tokens) and sentences (sentence tokens) for further analysis."
      ]
    },
    {
      "cell_type": "code",
      "execution_count": null,
      "metadata": {
        "colab": {
          "base_uri": "https://localhost:8080/"
        },
        "id": "DxWcdyCx6SZ0",
        "outputId": "76a08d9c-5443-46e8-e290-c39f3172a728"
      },
      "outputs": [
        {
          "name": "stdout",
          "output_type": "stream",
          "text": [
            "       Tokens\n",
            "0          In\n",
            "1         the\n",
            "2         90s\n",
            "3           ,\n",
            "4        when\n",
            "..        ...\n",
            "328      days\n",
            "329        of\n",
            "330       the\n",
            "331  internet\n",
            "332         .\n",
            "\n",
            "[333 rows x 1 columns]\n"
          ]
        }
      ],
      "source": [
        "word_tokens = nltk.word_tokenize(CAI2300)\n",
        "df = pd.DataFrame(word_tokens, columns=['Tokens'])\n",
        "print(df)"
      ]
    },
    {
      "cell_type": "code",
      "execution_count": null,
      "metadata": {
        "colab": {
          "base_uri": "https://localhost:8080/"
        },
        "id": "_CPtMYkW8r9a",
        "outputId": "27c25680-e1a1-44dd-e1c0-79b7f8723efd"
      },
      "outputs": [
        {
          "data": {
            "text/plain": [
              "['In the 90s, when the internet was still a vast frontier, Jeremy eagerly awaited the familiar dial-up tone of his 56k modem.',\n",
              " 'The screen flickered to life, a series of bleeps and buzzes as the connection struggled to establish itself.',\n",
              " 'It was a ritual—his window to a digital world where everything was still new and mysterious.',\n",
              " 'His destination?',\n",
              " 'The local BBS (Bulletin Board System), a quirky collection of online communities that were like virtual hangouts, before forums and social media took over.',\n",
              " 'Jeremy would log in, the old modem hissing in frustration as it negotiated a connection, the speed no faster than a slow crawl.',\n",
              " 'But to him, it felt like magic.',\n",
              " 'On the BBS, there were endless text-based adventures to dive into, games to play, and strange characters to meet.',\n",
              " 'The user names scrolled past like graffiti on a wall, a mix of anonymity and creativity.',\n",
              " \"He'd spend hours chatting in forums, swapping files, and downloading tiny software programs that often took hours to finish.\",\n",
              " \"It wasn't about how fast it was—back then, the journey itself was a part of the charm.\",\n",
              " \"Even though the modem's 56k speed was laughably slow by today's standards, there was something special about those nights.\",\n",
              " 'Jeremy could hear the distant clatter of old hard drives as they stored his messages.',\n",
              " 'The BBS operators, with their DIY tech knowledge, had a sense of community that made everything worth the wait.',\n",
              " 'Eventually, broadband replaced dial-up.',\n",
              " 'The BBSs faded into obscurity, and the world moved on to faster, flashier things.',\n",
              " 'But for Jeremy, those nights spent connecting over a 56k modem, the sounds of the old dial-up connecting, would always be a cherished memory—a reminder of the early days of the internet.']"
            ]
          },
          "execution_count": 105,
          "metadata": {},
          "output_type": "execute_result"
        }
      ],
      "source": [
        "nltk.sent_tokenize(CAI2300)"
      ]
    },
    {
      "cell_type": "markdown",
      "metadata": {
        "id": "LYKgdjCD9fXG"
      },
      "source": [
        "\n",
        "\n",
        "---\n",
        "\n",
        "\n",
        "#4. Stemming:\n",
        "&nbsp;&nbsp;&nbsp;&nbsp;&nbsp;&nbsp;&nbsp;Apply stemming to the word tokens using NLTK's **PorterStemmer**.\n",
        "\n",
        "&nbsp;&nbsp;&nbsp;&nbsp;&nbsp;&nbsp;&nbsp;This section reduces words to their root form using stemming, like converting \"connecting\" to \"connect\".\n",
        "\n",
        "&nbsp;&nbsp;&nbsp;&nbsp;&nbsp;&nbsp;&nbsp;It simplifies words for analysis.\n",
        "\n"
      ]
    },
    {
      "cell_type": "code",
      "execution_count": null,
      "metadata": {
        "id": "G4tzIO7a9dj6"
      },
      "outputs": [],
      "source": [
        "from nltk.stem import PorterStemmer"
      ]
    },
    {
      "cell_type": "code",
      "execution_count": null,
      "metadata": {
        "colab": {
          "base_uri": "https://localhost:8080/"
        },
        "id": "Z9pfaO_-AYdm",
        "outputId": "bfb14863-2b60-4a32-b874-7cacbbf1863a"
      },
      "outputs": [
        {
          "name": "stdout",
          "output_type": "stream",
          "text": [
            "Porter stemmer\n",
            "══════════════\n",
            "\n",
            "\n",
            "in          the         90          ,           when        the         internet    wa          still       a          \n",
            "vast        frontier    ,           jeremi      eagerli     await       the         familiar    dial-up     tone       \n",
            "of          hi          56k         modem       .           the         screen      flicker     to          life       \n",
            ",           a           seri        of          bleep       and         buzz        as          the         connect    \n",
            "struggl     to          establish   itself      .           it          wa          a           ritual—hi   window     \n",
            "to          a           digit       world       where       everyth     wa          still       new         and        \n",
            "mysteri     .           hi          destin      ?           the         local       bb          (           bulletin   \n",
            "board       system      )           ,           a           quirki      collect     of          onlin       commun     \n",
            "that        were        like        virtual     hangout     ,           befor       forum       and         social     \n",
            "media       took        over        .           jeremi      would       log         in          ,           the        \n",
            "old         modem       hiss        in          frustrat    as          it          negoti      a           connect    \n",
            ",           the         speed       no          faster      than        a           slow        crawl       .          \n",
            "but         to          him         ,           it          felt        like        magic       .           on         \n",
            "the         bb          ,           there       were        endless     text-bas    adventur    to          dive       \n",
            "into        ,           game        to          play        ,           and         strang      charact     to         \n",
            "meet        .           the         user        name        scroll      past        like        graffiti    on         \n",
            "a           wall        ,           a           mix         of          anonym      and         creativ     .          \n",
            "he          'd          spend       hour        chat        in          forum       ,           swap        file       \n",
            ",           and         download    tini        softwar     program     that        often       took        hour       \n",
            "to          finish      .           it          wa          n't         about       how         fast        it         \n",
            "was—back    then        ,           the         journey     itself      wa          a           part        of         \n",
            "the         charm       .           even        though      the         modem       's          56k         speed      \n",
            "wa          laughabl    slow        by          today       's          standard    ,           there       wa         \n",
            "someth      special     about       those       night       .           jeremi      could       hear        the        \n",
            "distant     clatter     of          old         hard        drive       as          they        store       hi         \n",
            "messag      .           the         bb          oper        ,           with        their       diy         tech       \n",
            "knowledg    ,           had         a           sens        of          commun      that        made        everyth    \n",
            "worth       the         wait        .           eventu      ,           broadband   replac      dial-up     .          \n",
            "the         bbss        fade        into        obscur      ,           and         the         world       move       \n",
            "on          to          faster      ,           flashier    thing       .           but         for         jeremi     \n",
            ",           those       night       spent       connect     over        a           56k         modem       ,          \n",
            "the         sound       of          the         old         dial-up     connect     ,           would       alway      \n",
            "be          a           cherish     memory—a    remind      of          the         earli       day         of         \n",
            "the         internet    .           "
          ]
        }
      ],
      "source": [
        "porter = PorterStemmer()\n",
        "print('Porter stemmer')\n",
        "print('═' * 14)\n",
        "stemmed = [porter.stem(word) for word in word_tokens]\n",
        "print(\"\\n\")\n",
        "\n",
        "max_width = max(len(word) for word in stemmed)  # Calculate max word width\n",
        "\n",
        "for i, word in enumerate(stemmed):\n",
        "    print(f\"{word:<{max_width + 2}}\", end=\" \" if (i + 1) % 10 else \"\\n\")"
      ]
    },
    {
      "cell_type": "markdown",
      "metadata": {
        "id": "0jbqIE1DSSWt"
      },
      "source": [
        "\n",
        "\n",
        "---\n",
        "\n",
        "\n",
        "#5. Lemmatization:\n",
        "&nbsp;&nbsp;&nbsp;&nbsp;&nbsp;&nbsp;&nbsp;Apply lemmatization to the word tokens using NLTK's WordNetLemmatizer.\n",
        "\n",
        "&nbsp;&nbsp;&nbsp;&nbsp;&nbsp;&nbsp;&nbsp;This section reduces words to their base form using lemmatization, like converting \"better\" to \"good\".\n",
        "\n",
        "&nbsp;&nbsp;&nbsp;&nbsp;&nbsp;&nbsp;&nbsp;It groups words with similar meanings.\n",
        "\n"
      ]
    },
    {
      "cell_type": "code",
      "execution_count": null,
      "metadata": {
        "id": "uj97yDYEFl9H"
      },
      "outputs": [],
      "source": [
        "from nltk.stem import WordNetLemmatizer\n",
        "from nltk.corpus import wordnet\n",
        "from nltk.corpus import stopwords\n",
        "from nltk import pos_tag, word_tokenize"
      ]
    },
    {
      "cell_type": "code",
      "execution_count": null,
      "metadata": {
        "colab": {
          "base_uri": "https://localhost:8080/"
        },
        "id": "Ht_dNQ90S7ez",
        "outputId": "f2b6b584-b6a1-429b-f37c-fc4eef7a7d73"
      },
      "outputs": [
        {
          "data": {
            "text/plain": [
              "['In 90 , internet still vast frontier , Jeremy eagerly awaited familiar dial-up tone 56k modem .',\n",
              " 'The screen flickered life , series bleep buzz connection struggled establish .',\n",
              " 'It ritual—his window digital world everything still new mysterious .',\n",
              " 'His destination ?',\n",
              " 'The local BBS ( Bulletin Board System ) , quirky collection online community like virtual hangout , forum social medium took .',\n",
              " 'Jeremy would log , old modem hissing frustration negotiated connection , speed faster slow crawl .',\n",
              " 'But , felt like magic .',\n",
              " 'On BBS , endless text-based adventure dive , game play , strange character meet .',\n",
              " 'The user name scrolled past like graffiti wall , mix anonymity creativity .',\n",
              " \"He 'd spend hour chatting forum , swapping file , downloading tiny software program often took hour finish .\",\n",
              " \"It n't fast was—back , journey part charm .\",\n",
              " \"Even though modem 's 56k speed laughably slow today 's standard , something special night .\",\n",
              " 'Jeremy could hear distant clatter old hard drive stored message .',\n",
              " 'The BBS operator , DIY tech knowledge , sense community made everything worth wait .',\n",
              " 'Eventually , broadband replaced dial-up .',\n",
              " 'The BBSs faded obscurity , world moved faster , flashier thing .',\n",
              " 'But Jeremy , night spent connecting 56k modem , sound old dial-up connecting , would always cherished memory—a reminder early day internet .']"
            ]
          },
          "execution_count": 109,
          "metadata": {},
          "output_type": "execute_result"
        }
      ],
      "source": [
        "sentences = nltk.sent_tokenize(CAI2300)\n",
        "lemmatizer = WordNetLemmatizer()\n",
        "\n",
        "# Lemmatization\n",
        "for i in range(len(sentences)):\n",
        "    words = nltk.word_tokenize(sentences[i])\n",
        "    words = [lemmatizer.lemmatize(word) for word in words if word not in set(stopwords.words('english'))]\n",
        "    sentences[i] = ' '.join(words)\n",
        "\n",
        "sentences"
      ]
    },
    {
      "cell_type": "markdown",
      "metadata": {
        "id": "xg3s-kn1Vcvj"
      },
      "source": [
        "\n",
        "\n",
        "---\n",
        "\n",
        "\n",
        "#6. Parts of Speech (POS) Tagging:\n",
        "&nbsp;&nbsp;&nbsp;&nbsp;&nbsp;&nbsp;&nbsp;Collect the parts of speech for each word in the text.\n",
        "\n",
        "&nbsp;&nbsp;&nbsp;&nbsp;&nbsp;&nbsp;&nbsp;This section identifies the grammatical role of each word, like nouns, verbs, adjectives, etc.\n",
        "\n",
        "&nbsp;&nbsp;&nbsp;&nbsp;&nbsp;&nbsp;&nbsp;It classifies words based on their function."
      ]
    },
    {
      "cell_type": "code",
      "execution_count": null,
      "metadata": {
        "colab": {
          "base_uri": "https://localhost:8080/"
        },
        "id": "LN70mdUBVaGD",
        "outputId": "dd720798-f0b0-4131-fd56-56f63de0db1b"
      },
      "outputs": [
        {
          "name": "stdout",
          "output_type": "stream",
          "text": [
            "Word           POS Tag   ║ Word           POS Tag   ║ Word          POS Tag    ║ Word           POS Tag   ║ Word           POS Tag  \n",
            "──────────────────────────────────────────────────────────────────────────────────────────────────────────────────────────────────\n",
            "In             IN        ║ BBS            NNP       ║ were           VBD       ║ then           RB        ║ made           VBD       \n",
            "the            DT        ║ (              (         ║ endless        JJ        ║ ,              ,         ║ everything     NN        \n",
            "90s            CD        ║ Bulletin       NNP       ║ text-based     JJ        ║ the            DT        ║ worth          IN        \n",
            ",              ,         ║ Board          NNP       ║ adventures     NNS       ║ journey        NN        ║ the            DT        \n",
            "when           WRB       ║ System         NNP       ║ to             TO        ║ itself         PRP       ║ wait           NN        \n",
            "the            DT        ║ )              )         ║ dive           VB        ║ was            VBD       ║ .              .         \n",
            "internet       NN        ║ ,              ,         ║ into           IN        ║ a              DT        ║ Eventually     RB        \n",
            "was            VBD       ║ a              DT        ║ ,              ,         ║ part           NN        ║ ,              ,         \n",
            "still          RB        ║ quirky         JJ        ║ games          NNS       ║ of             IN        ║ broadband      NN        \n",
            "a              DT        ║ collection     NN        ║ to             TO        ║ the            DT        ║ replaced       VBD       \n",
            "vast           JJ        ║ of             IN        ║ play           VB        ║ charm          NN        ║ dial-up        NN        \n",
            "frontier       NN        ║ online         JJ        ║ ,              ,         ║ .              .         ║ .              .         \n",
            ",              ,         ║ communities    NNS       ║ and            CC        ║ Even           RB        ║ The            DT        \n",
            "Jeremy         NNP       ║ that           WDT       ║ strange        JJ        ║ though         IN        ║ BBSs           NNP       \n",
            "eagerly        RB        ║ were           VBD       ║ characters     NNS       ║ the            DT        ║ faded          VBD       \n",
            "awaited        VBD       ║ like           IN        ║ to             TO        ║ modem          NN        ║ into           IN        \n",
            "the            DT        ║ virtual        JJ        ║ meet           VB        ║ 's             POS       ║ obscurity      NN        \n",
            "familiar       JJ        ║ hangouts       NNS       ║ .              .         ║ 56k            CD        ║ ,              ,         \n",
            "dial-up        JJ        ║ ,              ,         ║ The            DT        ║ speed          NN        ║ and            CC        \n",
            "tone           NN        ║ before         IN        ║ user           NN        ║ was            VBD       ║ the            DT        \n",
            "of             IN        ║ forums         NNS       ║ names          NNS       ║ laughably      RB        ║ world          NN        \n",
            "his            PRP$      ║ and            CC        ║ scrolled       VBD       ║ slow           JJ        ║ moved          VBD       \n",
            "56k            CD        ║ social         JJ        ║ past           IN        ║ by             IN        ║ on             IN        \n",
            "modem          NN        ║ media          NNS       ║ like           IN        ║ today          NN        ║ to             TO        \n",
            ".              .         ║ took           VBD       ║ graffiti       NN        ║ 's             POS       ║ faster         RBR       \n",
            "The            DT        ║ over           RP        ║ on             IN        ║ standards      NNS       ║ ,              ,         \n",
            "screen         NN        ║ .              .         ║ a              DT        ║ ,              ,         ║ flashier       JJR       \n",
            "flickered      VBD       ║ Jeremy         NNP       ║ wall           NN        ║ there          EX        ║ things         NNS       \n",
            "to             TO        ║ would          MD        ║ ,              ,         ║ was            VBD       ║ .              .         \n",
            "life           NN        ║ log            VB        ║ a              DT        ║ something      NN        ║ But            CC        \n",
            ",              ,         ║ in             IN        ║ mix            NN        ║ special        JJ        ║ for            IN        \n",
            "a              DT        ║ ,              ,         ║ of             IN        ║ about          IN        ║ Jeremy         NNP       \n",
            "series         NN        ║ the            DT        ║ anonymity      NN        ║ those          DT        ║ ,              ,         \n",
            "of             IN        ║ old            JJ        ║ and            CC        ║ nights         NNS       ║ those          DT        \n",
            "bleeps         NNS       ║ modem          NN        ║ creativity     NN        ║ .              .         ║ nights         NNS       \n",
            "and            CC        ║ hissing        NN        ║ .              .         ║ Jeremy         NNP       ║ spent          VBD       \n",
            "buzzes         VBZ       ║ in             IN        ║ He             PRP       ║ could          MD        ║ connecting     VBG       \n",
            "as             IN        ║ frustration    NN        ║ 'd             MD        ║ hear           VB        ║ over           IN        \n",
            "the            DT        ║ as             IN        ║ spend          VB        ║ the            DT        ║ a              DT        \n",
            "connection     NN        ║ it             PRP       ║ hours          NNS       ║ distant        JJ        ║ 56k            CD        \n",
            "struggled      VBD       ║ negotiated     VBD       ║ chatting       VBG       ║ clatter        NN        ║ modem          NN        \n",
            "to             TO        ║ a              DT        ║ in             IN        ║ of             IN        ║ ,              ,         \n",
            "establish      VB        ║ connection     NN        ║ forums         NNS       ║ old            JJ        ║ the            DT        \n",
            "itself         PRP       ║ ,              ,         ║ ,              ,         ║ hard           JJ        ║ sounds         NNS       \n",
            ".              .         ║ the            DT        ║ swapping       VBG       ║ drives         NNS       ║ of             IN        \n",
            "It             PRP       ║ speed          NN        ║ files          NNS       ║ as             IN        ║ the            DT        \n",
            "was            VBD       ║ no             DT        ║ ,              ,         ║ they           PRP       ║ old            JJ        \n",
            "a              DT        ║ faster         JJR       ║ and            CC        ║ stored         VBD       ║ dial-up        JJ        \n",
            "ritual—his     NN        ║ than           IN        ║ downloading    VBG       ║ his            PRP$      ║ connecting     NN        \n",
            "window         NN        ║ a              DT        ║ tiny           JJ        ║ messages       NNS       ║ ,              ,         \n",
            "to             TO        ║ slow           JJ        ║ software       NN        ║ .              .         ║ would          MD        \n",
            "a              DT        ║ crawl          NN        ║ programs       NNS       ║ The            DT        ║ always         RB        \n",
            "digital        JJ        ║ .              .         ║ that           WDT       ║ BBS            NNP       ║ be             VB        \n",
            "world          NN        ║ But            CC        ║ often          RB        ║ operators      NNS       ║ a              DT        \n",
            "where          WRB       ║ to             TO        ║ took           VBD       ║ ,              ,         ║ cherished      JJ        \n",
            "everything     NN        ║ him            PRP       ║ hours          NNS       ║ with           IN        ║ memory—a       NN        \n",
            "was            VBD       ║ ,              ,         ║ to             TO        ║ their          PRP$      ║ reminder       NN        \n",
            "still          RB        ║ it             PRP       ║ finish         VB        ║ DIY            NNP       ║ of             IN        \n",
            "new            JJ        ║ felt           VBD       ║ .              .         ║ tech           NN        ║ the            DT        \n",
            "and            CC        ║ like           IN        ║ It             PRP       ║ knowledge      NN        ║ early          JJ        \n",
            "mysterious     JJ        ║ magic          NN        ║ was            VBD       ║ ,              ,         ║ days           NNS       \n",
            ".              .         ║ .              .         ║ n't            RB        ║ had            VBD       ║ of             IN        \n",
            "His            PRP$      ║ On             IN        ║ about          IN        ║ a              DT        ║ the            DT        \n",
            "destination    NN        ║ the            DT        ║ how            WRB       ║ sense          NN        ║ internet       NN        \n",
            "?              .         ║ BBS            NNP       ║ fast           JJ        ║ of             IN        ║ .              .         \n",
            "The            DT        ║ ,              ,         ║ it             PRP       ║ community      NN        ║ \n",
            "local          JJ        ║ there          EX        ║ was—back       RB        ║ that           IN        ║ \n"
          ]
        }
      ],
      "source": [
        "words = nltk.word_tokenize(CAI2300)\n",
        "pos_tags = nltk.pos_tag(words)\n",
        "\n",
        "# Calculate the number of rows needed for 4 columns\n",
        "num_rows = (len(pos_tags) + 4) // 5  # Ceiling division\n",
        "\n",
        "# Print the POS tags in 4 columns, flowing from top to bottom\n",
        "# with \"║\" as column separators\n",
        "print(f\"{'Word  ':<14} {'POS Tag  ':<9} ║ {'Word  ':<14} {'POS Tag  ':<9} ║\"\n",
        "      f\"{' Word  ':<14} {'POS Tag  ':<9}  ║ {'Word  ':<14} {'POS Tag  ':<9} ║ {'Word  ':<14} {'POS Tag  ':<9}\")\n",
        "print(\"─\" * 130)  # Adjust the line length\n",
        "\n",
        "for i in range(num_rows):\n",
        "    for j in range(5):\n",
        "        index = i + j * num_rows\n",
        "        if index < len(pos_tags):\n",
        "            word, tag = pos_tags[index]\n",
        "            print(f\"{word:<14} {tag:<10}\", end=\"\")\n",
        "            if j < 4:  # Add \"║\" after columns 1, 2, and 3\n",
        "                print(\"║ \", end=\"\")\n",
        "    print()  # Newline after each row"
      ]
    },
    {
      "cell_type": "markdown",
      "metadata": {
        "id": "aJ7PN1PjHFAX"
      },
      "source": [
        "\n",
        "\n",
        "---\n",
        "\n",
        "\n",
        "#7. Identify Punctuation:\n",
        "&nbsp;&nbsp;&nbsp;&nbsp;&nbsp;&nbsp;&nbsp;Identify punctuation marks from the tokenized words.\n",
        "\n",
        "&nbsp;&nbsp;&nbsp;&nbsp;&nbsp;&nbsp;&nbsp;This section identifies and extracts punctuation marks from the text, like commas, periods, and question marks.\n",
        "\n",
        "&nbsp;&nbsp;&nbsp;&nbsp;&nbsp;&nbsp;&nbsp;It separates punctuation for analysis."
      ]
    },
    {
      "cell_type": "code",
      "execution_count": null,
      "metadata": {
        "colab": {
          "base_uri": "https://localhost:8080/"
        },
        "id": "kQBPEEjjHc73",
        "outputId": "8c424127-3536-4990-f804-bbc1fb5d5229"
      },
      "outputs": [
        {
          "name": "stdout",
          "output_type": "stream",
          "text": [
            "Punctuation Marks: [',', ',', '.', ',', '.', '.', '?', '(', ')', ',', ',', '.', ',', ',', '.', ',', '.', ',', ',', ',', '.', ',', '.', ',', ',', '.', ',', '.', ',', '.', '.', ',', ',', '.', ',', '.', ',', ',', '.', ',', ',', ',', '.']\n"
          ]
        }
      ],
      "source": [
        "import string\n",
        "\n",
        "punctuation_marks = [token for token in word_tokens if token in string.punctuation]\n",
        "print(\"Punctuation Marks:\", punctuation_marks)"
      ]
    },
    {
      "cell_type": "markdown",
      "metadata": {
        "id": "43TT91EzIXm4"
      },
      "source": [
        "\n",
        "\n",
        "---\n",
        "\n",
        "\n",
        "#8. Stop Words:\n",
        "&nbsp;&nbsp;&nbsp;&nbsp;&nbsp;&nbsp;&nbsp;Identify and remove stop words from the word tokens.\n",
        "\n",
        "&nbsp;&nbsp;&nbsp;&nbsp;&nbsp;&nbsp;&nbsp;This section identifies and removes common words like \"the\", \"a\", and \"is\" that don't carry much meaning.\n",
        "\n",
        "&nbsp;&nbsp;&nbsp;&nbsp;&nbsp;&nbsp;&nbsp;It removes noise from the text."
      ]
    },
    {
      "cell_type": "code",
      "execution_count": null,
      "metadata": {
        "colab": {
          "base_uri": "https://localhost:8080/"
        },
        "id": "UMXqSzMEJHLH",
        "outputId": "073456d8-0b5c-4fc4-cbc7-5f4605ed9b8c"
      },
      "outputs": [
        {
          "name": "stdout",
          "output_type": "stream",
          "text": [
            "Filtered Tokens (without stop words):\n",
            "═════════════════════════════════════\n",
            "90s          ,            internet     still        vast         frontier     ,            \n",
            "Jeremy       eagerly      awaited      familiar     dial-up      tone         56k          \n",
            "modem        .            screen       flickered    life         ,            series       \n",
            "bleeps       buzzes       connection   struggled    establish    .            ritual—his   \n",
            "window       digital      world        everything   still        new          mysterious   \n",
            ".            destination  ?            local        BBS          (            Bulletin     \n",
            "Board        System       )            ,            quirky       collection   online       \n",
            "communities  like         virtual      hangouts     ,            forums       social       \n",
            "media        took         .            Jeremy       would        log          ,            \n",
            "old          modem        hissing      frustration  negotiated   connection   ,            \n",
            "speed        faster       slow         crawl        .            ,            felt         \n",
            "like         magic        .            BBS          ,            endless      text-based   \n",
            "adventures   dive         ,            games        play         ,            strange      \n",
            "characters   meet         .            user         names        scrolled     past         \n",
            "like         graffiti     wall         ,            mix          anonymity    creativity   \n",
            ".            'd           spend        hours        chatting     forums       ,            \n",
            "swapping     files        ,            downloading  tiny         software     programs     \n",
            "often        took         hours        finish       .            n't          fast         \n",
            "was—back     ,            journey      part         charm        .            Even         \n",
            "though       modem        's           56k          speed        laughably    slow         \n",
            "today        's           standards    ,            something    special      nights       \n",
            ".            Jeremy       could        hear         distant      clatter      old          \n",
            "hard         drives       stored       messages     .            BBS          operators    \n",
            ",            DIY          tech         knowledge    ,            sense        community    \n",
            "made         everything   worth        wait         .            Eventually   ,            \n",
            "broadband    replaced     dial-up      .            BBSs         faded        obscurity    \n",
            ",            world        moved        faster       ,            flashier     things       \n",
            ".            Jeremy       ,            nights       spent        connecting   56k          \n",
            "modem        ,            sounds       old          dial-up      connecting   ,            \n",
            "would        always       cherished    memory—a     reminder     early        days         \n",
            "internet     .            \n"
          ]
        }
      ],
      "source": [
        "import math\n",
        "\n",
        "# Assuming word_tokens and stop_words are already defined\n",
        "stop_words = set(stopwords.words('english'))\n",
        "\n",
        "# Remove stop words from the word tokens\n",
        "filtered_tokens = [token for token in word_tokens if token.lower() not in stop_words]\n",
        "\n",
        "# Number of columns\n",
        "num_columns = 7\n",
        "\n",
        "# Calculate the number of rows needed\n",
        "num_rows = math.ceil(len(filtered_tokens) / num_columns)\n",
        "\n",
        "# Calculate the maximum length of the tokens\n",
        "max_length = max(len(token) for token in filtered_tokens)\n",
        "\n",
        "# Set the space between columns (add some padding for readability)\n",
        "column_width = max_length + 2\n",
        "\n",
        "# Print the filtered tokens in a 6-column format with even spacing\n",
        "print(\"Filtered Tokens (without stop words):\")\n",
        "print(\"═\" * 37)\n",
        "\n",
        "# Loop through each row and print tokens in 6 columns\n",
        "for i in range(num_rows):\n",
        "    row = filtered_tokens[i*num_columns : (i+1)*num_columns]\n",
        "    # Print each token with the calculated column width\n",
        "    print(\"\".join(f\"{token:{column_width}}\" for token in row))"
      ]
    },
    {
      "cell_type": "markdown",
      "metadata": {
        "id": "BLPTvIxHMmP2"
      },
      "source": [
        "\n",
        "\n",
        "---\n",
        "\n",
        "\n",
        "#9. Clean the Data:\n",
        "&nbsp;&nbsp;&nbsp;&nbsp;&nbsp;&nbsp;&nbsp;Remove punctuation and stop words to create a clean version of the text.\n",
        "\n",
        "&nbsp;&nbsp;&nbsp;&nbsp;&nbsp;&nbsp;&nbsp;This section combines punctuation and stop word removal to create a cleaner version of the text.\n",
        "\n",
        "&nbsp;&nbsp;&nbsp;&nbsp;&nbsp;&nbsp;&nbsp;It prepares the text for more focused analysis."
      ]
    },
    {
      "cell_type": "code",
      "execution_count": null,
      "metadata": {
        "colab": {
          "base_uri": "https://localhost:8080/"
        },
        "id": "vvVO0tVhNRdB",
        "outputId": "9290a28b-c5d9-46d3-b8cd-8b9d3dd222bb"
      },
      "outputs": [
        {
          "name": "stdout",
          "output_type": "stream",
          "text": [
            "Cleaned Tokens (without punctuation and stop words):\n",
            "════════════════════════════════════════════════════\n",
            "90s          internet     still        vast         frontier     Jeremy       eagerly      \n",
            "awaited      familiar     dial-up      tone         56k          modem        screen       \n",
            "flickered    life         series       bleeps       buzzes       connection   struggled    \n",
            "establish    ritual—his   window       digital      world        everything   still        \n",
            "new          mysterious   destination  local        BBS          Bulletin     Board        \n",
            "System       quirky       collection   online       communities  like         virtual      \n",
            "hangouts     forums       social       media        took         Jeremy       would        \n",
            "log          old          modem        hissing      frustration  negotiated   connection   \n",
            "speed        faster       slow         crawl        felt         like         magic        \n",
            "BBS          endless      text-based   adventures   dive         games        play         \n",
            "strange      characters   meet         user         names        scrolled     past         \n",
            "like         graffiti     wall         mix          anonymity    creativity   'd           \n",
            "spend        hours        chatting     forums       swapping     files        downloading  \n",
            "tiny         software     programs     often        took         hours        finish       \n",
            "n't          fast         was—back     journey      part         charm        Even         \n",
            "though       modem        's           56k          speed        laughably    slow         \n",
            "today        's           standards    something    special      nights       Jeremy       \n",
            "could        hear         distant      clatter      old          hard         drives       \n",
            "stored       messages     BBS          operators    DIY          tech         knowledge    \n",
            "sense        community    made         everything   worth        wait         Eventually   \n",
            "broadband    replaced     dial-up      BBSs         faded        obscurity    world        \n",
            "moved        faster       flashier     things       Jeremy       nights       spent        \n",
            "connecting   56k          modem        sounds       old          dial-up      connecting   \n",
            "would        always       cherished    memory—a     reminder     early        days         \n",
            "internet     \n"
          ]
        }
      ],
      "source": [
        "stop_words = set(stopwords.words('english'))\n",
        "\n",
        "# Remove punctuation from the word tokens\n",
        "filtered_tokens = [token for token in word_tokens if token not in string.punctuation]\n",
        "\n",
        "# Remove stop words from the word tokens\n",
        "cleaned_tokens = [token for token in filtered_tokens if token.lower() not in stop_words]\n",
        "\n",
        "# Number of columns for output formating\n",
        "num_columns = 7\n",
        "\n",
        "# Calculate the number of rows needed\n",
        "num_rows = math.ceil(len(cleaned_tokens) / num_columns)\n",
        "\n",
        "# Calculate the maximum length of the tokens\n",
        "max_length = max(len(token) for token in cleaned_tokens)\n",
        "\n",
        "# Set the space between columns (add some padding for readability)\n",
        "column_width = max_length + 2\n",
        "\n",
        "# Print the cleaned tokens in a 6-column format with even spacing\n",
        "print(\"Cleaned Tokens (without punctuation and stop words):\")\n",
        "print(\"═\" * 52)\n",
        "\n",
        "# Loop through each row and print tokens in 6 columns\n",
        "for i in range(num_rows):\n",
        "    row = cleaned_tokens[i*num_columns : (i+1)*num_columns]\n",
        "    # Print each token with the calculated column width\n",
        "    print(\"\".join(f\"{token:{column_width}}\" for token in row))"
      ]
    },
    {
      "cell_type": "markdown",
      "metadata": {
        "id": "w2VbkYzfVypm"
      },
      "source": [
        "\n",
        "\n",
        "---\n",
        "\n",
        "\n",
        "#10. Named Entity Recognition (NER):\n",
        "&nbsp;&nbsp;&nbsp;&nbsp;&nbsp;&nbsp;&nbsp;Perform Named Entity Recognition on the text.\n",
        "\n",
        "&nbsp;&nbsp;&nbsp;&nbsp;&nbsp;&nbsp;&nbsp;This section identifies and extracts named entities like people, places, and organizations.\n",
        "\n",
        "&nbsp;&nbsp;&nbsp;&nbsp;&nbsp;&nbsp;&nbsp;It detects important elements in the text.\n",
        "\n"
      ]
    },
    {
      "cell_type": "code",
      "execution_count": null,
      "metadata": {
        "colab": {
          "base_uri": "https://localhost:8080/"
        },
        "id": "a1t0UfRuVPpj",
        "outputId": "e36b794e-87f9-460f-e51d-1b9cbf9c3e73"
      },
      "outputs": [
        {
          "name": "stdout",
          "output_type": "stream",
          "text": [
            "Named Entities (using NLTK):\n",
            "══════════════════════════════\n",
            "Jeremy (PERSON)\n",
            "BBS Bulletin Board System (ORGANIZATION)\n",
            "Jeremy (PERSON)\n",
            "BBS (ORGANIZATION)\n",
            "Jeremy (PERSON)\n",
            "BBS (ORGANIZATION)\n",
            "DIY (ORGANIZATION)\n",
            "BBSs (ORGANIZATION)\n",
            "Jeremy (GPE)\n"
          ]
        }
      ],
      "source": [
        "pos_tag = nltk.pos_tag(cleaned_tokens)\n",
        "\n",
        "# Perform named entity recognition (NER)\n",
        "namedEntity = nltk.ne_chunk(pos_tag)\n",
        "\n",
        "# Extract named entities\n",
        "entities = []\n",
        "for subtree in namedEntity:\n",
        "    if isinstance(subtree, nltk.Tree):  # A named entity is a subtree\n",
        "        entity = \" \".join(word for word, tag in subtree)\n",
        "        label = subtree.label()  # The label of the entity (e.g., PERSON, GPE, ORGANIZATION)\n",
        "        entities.append((entity, label))\n",
        "\n",
        "# Print the extracted named entities\n",
        "print(\"Named Entities (using NLTK):\")\n",
        "print(\"═\" * 30)\n",
        "for entity, label in entities:\n",
        "    print(f\"{entity} ({label})\")\n"
      ]
    }
  ],
  "metadata": {
    "colab": {
      "provenance": [],
      "toc_visible": true,
      "include_colab_link": true
    },
    "kernelspec": {
      "display_name": "Python 3",
      "name": "python3"
    },
    "language_info": {
      "name": "python",
      "version": "3.12.3"
    }
  },
  "nbformat": 4,
  "nbformat_minor": 0
}
