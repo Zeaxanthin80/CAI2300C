{
 "cells": [
  {
   "cell_type": "markdown",
   "metadata": {},
   "source": [
    "# CAI2300C – Assignment: Building an Embeddings-Based Recommender & Classifier\n"
   ]
  },
  {
   "cell_type": "markdown",
   "metadata": {},
   "source": [
    "## Objective:\n",
    "In this assignment, you will explore the power of embeddings by creating:\n",
    "\n",
    "A Recommender System using OpenAI’s embedding models.\n",
    "A Classifier that categorizes text data based on embeddings.\n",
    "(Extra Credit) Integration of a Vector Database (AstraDB, Pinecone, or ChromaDB) for efficient similarity searches."
   ]
  },
  {
   "cell_type": "markdown",
   "metadata": {},
   "source": [
    "## Part 1: Understanding Embeddings\n",
    "Research how OpenAI’s text embeddings work and their use cases.\n",
    "Choose or generate a synthetic dataset relevant to a business or industry problem.\n",
    "\n",
    "### Example datasets:\n",
    "Customer reviews for a product recommendation system\n",
    "News articles for topic classification\n",
    "Medical reports for categorizing health conditions\n",
    "Movie descriptions for genre recommendations\n"
   ]
  },
  {
   "cell_type": "markdown",
   "metadata": {},
   "source": [
    "## Part 2: Build a Recommender System\n",
    "Use OpenAI’s embedding models to generate vector representations of your dataset.\n",
    "Implement a similarity search function to recommend similar items based on user input.\n",
    "Test your system by providing different queries and observing the quality of recommendations.\n",
    "### Deliverables for Recommender System:\n",
    "\n",
    "Code implementation (Jupyter Notebook or Python script).\n",
    "Explanation of your use case, dataset, and how recommendations are generated.\n",
    "Sample queries and the system’s responses."
   ]
  },
  {
   "cell_type": "markdown",
   "metadata": {},
   "source": [
    "## Part 3: Build a Classifier\n",
    "Build an embedding centric classifier.\n",
    "Define clear categories (e.g., positive/negative sentiment, topic classification, fraud detection).\n",
    "Evaluate its accuracy and effectiveness.\n",
    "### Deliverables for Classifier:\n",
    "\n",
    "Code implementation.\n",
    "Explanation of classification logic and dataset.\n",
    "Performance analysis (accuracy, precision, recall, or confusion matrix)."
   ]
  }
 ],
 "metadata": {
  "kernelspec": {
   "display_name": "Python 3",
   "language": "python",
   "name": "python3"
  },
  "language_info": {
   "codemirror_mode": {
    "name": "ipython",
    "version": 3
   },
   "file_extension": ".py",
   "mimetype": "text/x-python",
   "name": "python",
   "nbconvert_exporter": "python",
   "pygments_lexer": "ipython3",
   "version": "3.12.3"
  }
 },
 "nbformat": 4,
 "nbformat_minor": 2
}
