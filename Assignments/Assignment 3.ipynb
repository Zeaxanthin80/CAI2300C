{
  "cells": [
    {
      "cell_type": "markdown",
      "metadata": {
        "id": "view-in-github",
        "colab_type": "text"
      },
      "source": [
        "<a href=\"https://colab.research.google.com/github/Zeaxanthin80/CAI2300C/blob/main/Assignments/Assignment%203.ipynb\" target=\"_parent\"><img src=\"https://colab.research.google.com/assets/colab-badge.svg\" alt=\"Open In Colab\"/></a>"
      ]
    },
    {
      "cell_type": "markdown",
      "metadata": {
        "id": "vF6aGtX6kifo"
      },
      "source": [
        "# CAI2300C – Assignment: Building an Embeddings-Based Recommender & Classifier\n"
      ]
    },
    {
      "cell_type": "markdown",
      "metadata": {
        "id": "uX3ydmN1kifp"
      },
      "source": [
        "## Objective:\n",
        "In this assignment, you will explore the power of **embeddings** by creating:\n",
        "\n",
        "1. A **Recommender System** using OpenAI’s embedding models.\n",
        "2. A **Classifier** that categorizes text data based on embeddings.\n",
        "3. (**Extra Credit**) Integration of a **Vector Database** (AstraDB, Pinecone, or ChromaDB) for efficient similarity searches."
      ]
    },
    {
      "cell_type": "markdown",
      "metadata": {
        "id": "VXaM3pCJkifq"
      },
      "source": [
        "## Part 1: Understanding Embeddings\n",
        "1. Research how OpenAI’s text embeddings work and their use cases.\n",
        "2. Choose or generate a synthetic dataset relevant to a business or industry problem.\n",
        "\n",
        ">**Example datasets:**\n",
        "* Customer reviews for a product recommendation system\n",
        "* News articles for topic classification\n",
        "* Medical reports for categorizing health conditions\n",
        "* Movie descriptions for genre recommendations"
      ]
    },
    {
      "cell_type": "markdown",
      "metadata": {
        "id": "IbWZFAvXkifr"
      },
      "source": [
        "## Part 2: Build a Recommender System\n",
        "3. Use OpenAI’s embedding models to **generate vector representations** of your dataset.\n",
        "4. Implement a **similarity search** function to recommend similar items based on user input.\n",
        "5. Test your system by providing different queries and observing the quality of recommendations.\n",
        "**Deliverables for Recommender System:**\n",
        "\n",
        "* Code implementation (Jupyter Notebook or Python script).\n",
        "* Explanation of your use case, dataset, and how recommendations are generated.\n",
        "* Sample queries and the system’s responses."
      ]
    },
    {
      "cell_type": "markdown",
      "metadata": {
        "id": "J1CwLYNqkifs"
      },
      "source": [
        "## Part 3: Build a Classifier\n",
        "6. Build an embedding centric classifier.\n",
        "7. Define **clear categories** (e.g., positive/negative sentiment, topic classification, fraud detection).\n",
        "8. Evaluate its accuracy and effectiveness.\n",
        "\n",
        "**Deliverables for Classifier:**\n",
        "* Code implementation.\n",
        "* Explanation of classification logic and dataset.\n",
        "* Performance analysis (accuracy, precision, recall, or confusion matrix)."
      ]
    },
    {
      "cell_type": "markdown",
      "source": [
        "## Extra Credit: Integrate a Vector Database\n",
        "🔹 **Challenge**: Instead of storing and retrieving embeddings in memory, integrate a **vector database** such as:\n",
        "\n",
        "* **AstraDB** (built on Apache Cassandra)\n",
        "* **Pinecone** (real-time vector search)\n",
        "* **ChromaDB** (open-source vector store)\n",
        "\n",
        "🔹 Store embeddings in the database and retrieve relevant results dynamically.\n",
        "\n",
        "🔹 Explain how the integration improves scalability and search efficiency."
      ],
      "metadata": {
        "id": "NUkB5PSumOyX"
      }
    }
  ],
  "metadata": {
    "kernelspec": {
      "display_name": "Python 3",
      "language": "python",
      "name": "python3"
    },
    "language_info": {
      "codemirror_mode": {
        "name": "ipython",
        "version": 3
      },
      "file_extension": ".py",
      "mimetype": "text/x-python",
      "name": "python",
      "nbconvert_exporter": "python",
      "pygments_lexer": "ipython3",
      "version": "3.12.3"
    },
    "colab": {
      "provenance": [],
      "include_colab_link": true
    }
  },
  "nbformat": 4,
  "nbformat_minor": 0
}