{
  "cells": [
    {
      "cell_type": "markdown",
      "metadata": {
        "id": "view-in-github",
        "colab_type": "text"
      },
      "source": [
        "<a href=\"https://colab.research.google.com/github/Zeaxanthin80/CAI2300C/blob/main/Assignments/Assignment%203.ipynb\" target=\"_parent\"><img src=\"https://colab.research.google.com/assets/colab-badge.svg\" alt=\"Open In Colab\"/></a>"
      ]
    },
    {
      "cell_type": "markdown",
      "source": [
        "# **Assignment 3**"
      ],
      "metadata": {
        "id": "K9lyoPEia-cp"
      }
    },
    {
      "cell_type": "markdown",
      "metadata": {
        "id": "vF6aGtX6kifo"
      },
      "source": [
        "## Assignment: Building an Embeddings-Based Recommender & Classifier\n"
      ]
    },
    {
      "cell_type": "markdown",
      "metadata": {
        "id": "uX3ydmN1kifp"
      },
      "source": [
        ">**Objective**:\n",
        "\n",
        ">In this assignment, I will explore the power of **embeddings** by creating:\n",
        "\n",
        ">1. A **Recommender System** using OpenAI’s embedding models.\n",
        "2. A **Classifier** that categorizes text data based on embeddings.\n",
        "3. (**Extra Credit**) Integration of a **Vector Database** (AstraDB, Pinecone, or ChromaDB) for efficient similarity searches."
      ]
    },
    {
      "cell_type": "markdown",
      "source": [
        "\n",
        "\n",
        "---\n",
        "\n"
      ],
      "metadata": {
        "id": "ycvrhUHYIQrq"
      }
    },
    {
      "cell_type": "markdown",
      "metadata": {
        "id": "VXaM3pCJkifq"
      },
      "source": [
        "## Part 1: Understanding Embeddings\n",
        "1. Research how OpenAI’s text embeddings work and their use cases.\n",
        "2. Choose or generate a synthetic dataset relevant to a business or industry problem.\n",
        "\n",
        ">**Example datasets:**\n",
        "* Customer reviews for a product recommendation system\n",
        "* News articles for topic classification\n",
        "* Medical reports for categorizing health conditions\n",
        "* Movie descriptions for genre recommendations"
      ]
    },
    {
      "cell_type": "code",
      "source": [
        "from openai import OpenAI\n",
        "\n",
        "# Understanding OpenAI's Text Embeddings\n",
        "\n",
        "# What are Text Embeddings?\n",
        "# Text embeddings are numerical vector representations of text that capture its semantic meaning.\n",
        "# Instead of treating words as isolated entities, embeddings transform text into a high-dimensional space\n",
        "# where similar meanings are closer together.\n",
        "\n",
        "# How Do OpenAI's Embeddings Work?\n",
        "# 1. Tokenization: The input text is split into smaller units (tokens).\n",
        "# 2. Neural Network Processing: A pre-trained model processes the tokens to generate dense numerical vectors.\n",
        "# 3. Semantic Representation: Similar words, phrases, or documents have embeddings that are **closer** together in the vector space.\n",
        "\n",
        "# Use Cases of OpenAI’s Embeddings:\n",
        "# - Semantic Search: Find documents or responses based on meaning, not just keywords.\n",
        "# - Text Similarity: Compare two texts to determine how similar they are.\n",
        "# - Recommendation Systems: Suggest content based on similarity in meaning.\n",
        "# - Clustering & Categorization: Group similar documents together for topic classification.\n",
        "# - Chatbots & Virtual Assistants: Improve contextual understanding in conversations.\n",
        "# - Anomaly Detection: Identify outliers in text data.\n",
        "\n",
        "# Example of Embedding Usage:\n",
        "# A query like \"How to cook pasta?\" and a document titled \"Easy pasta recipes\" will have similar embeddings,\n",
        "# allowing a search system to match them based on meaning, even without exact word matches."
      ],
      "metadata": {
        "id": "jmBOpW3l__6A"
      },
      "execution_count": 2,
      "outputs": []
    },
    {
      "cell_type": "code",
      "source": [
        "# This code is primarily used to retrieve and set up your OpenAI API key for use within a Google Colab environment.\n",
        "# these lines are setting up secure access to my OpenAI API within your Colab notebook so I can\n",
        "# use OpenAI's capabilities without exposing your API key directly in the code.\n",
        "from google.colab import userdata\n",
        "key = userdata.get('OPENAI_API_KEY')\n",
        "\n",
        "client = OpenAI(api_key = key)"
      ],
      "metadata": {
        "id": "eqKqsupP_fnM"
      },
      "execution_count": 3,
      "outputs": []
    },
    {
      "cell_type": "code",
      "source": [
        "# This code generates a synthetic movie dataset with movie IDs, titles, descriptions, and genres and\n",
        "# then neatly organizes it into a DataFrame and saves it for later use.\n",
        "# This synthetic dataset can then be utilized for building and testing a recommendation system.\n",
        "\n",
        "import pandas as pd\n",
        "import random\n",
        "\n",
        "# Sample words for generating random movie titles\n",
        "adjectives = [\"Lost\", \"Mysterious\", \"Dark\", \"Galactic\", \"Quantum\", \"Eternal\", \"Forbidden\", \"Secret\", \"Hidden\", \"Haunted\"\n",
        "\"Adventurous\", \"Ambitious\", \"Brave\", \"Calm\", \"Charming\", \"Clever\", \"Cunning\", \"Daring\", \"Dark\", \"Delicate\",\n",
        "\"Determined\", \"Elegant\", \"Enchanted\", \"Eternal\", \"Fierce\", \"Forbidden\", \"Gentle\", \"Glorious\", \"Graceful\", \"Grim\",\n",
        "\"Heroic\", \"Hidden\", \"Hollow\", \"Humble\", \"Icy\", \"Legendary\", \"Lively\", \"Lonely\", \"Lost\", \"Luminous\",\n",
        "\"Majestic\", \"Mysterious\", \"Noble\", \"Obscure\", \"Powerful\", \"Radiant\", \"Reckless\", \"Restless\", \"Rugged\", \"Sacred\",\n",
        "\"Secret\", \"Shadowy\", \"Shimmering\", \"Silent\", \"Sinister\", \"Stubborn\", \"Swift\", \"Timeless\", \"Unbreakable\", \"Vengeful\"\n",
        "]\n",
        "nouns = [\"Journey\", \"Warrior\", \"Galaxy\", \"Legacy\", \"Escape\", \"Revolt\", \"Curse\", \"Paradox\", \"Fortune\", \"Mystery\"\n",
        "\"Adventure\", \"Battle\", \"Castle\", \"Champion\", \"Chaos\", \"Chronicle\", \"City\", \"Conquest\", \"Courage\", \"Curse\",\n",
        "\"Darkness\", \"Destiny\", \"Dragon\", \"Dream\", \"Empire\", \"Enemy\", \"Escape\", \"Explorer\", \"Fate\", \"Fortune\",\n",
        "\"Galaxy\", \"Guardian\", \"Hero\", \"Honor\", \"Horizon\", \"Journey\", \"Knight\", \"Labyrinth\", \"Legacy\", \"Legend\",\n",
        "\"Magic\", \"Master\", \"Maze\", \"Miracle\", \"Mission\", \"Mystery\", \"Nightmare\", \"Oracle\", \"Paradox\", \"Phantom\",\n",
        "\"Prophecy\", \"Quest\", \"Realm\", \"Rebel\", \"Revenge\", \"Revolt\", \"Shadow\", \"Sorcerer\", \"Storm\", \"Treasure\", \"Warrior\"\n",
        "]\n",
        "\n",
        "# Sample genres\n",
        "genres = [\"Action\", \"Adventure\", \"Animation\", \"Biography\", \"Comedy\", \"Crime\", \"Cyberpunk\", \"Dark Fantasy\", \"Disaster\", \"Documentary\",\n",
        "\"Drama\", \"Dystopian\", \"Epic\", \"Family\", \"Fantasy\", \"Film Noir\", \"Historical\", \"Horror\", \"Indie\", \"Inspirational\",\n",
        "\"Martial Arts\", \"Medieval\", \"Melodrama\", \"Military\", \"Mockumentary\", \"Musical\", \"Mystery\", \"Mythology\", \"Neo-Noir\", \"Paranormal\",\n",
        "\"Period Drama\", \"Political\", \"Post-Apocalyptic\", \"Psychological\", \"Reality\", \"Rom-Com\", \"Romance\", \"Samurai\", \"Satire\", \"Science Fiction\",\n",
        "\"Slapstick\", \"Space Opera\", \"Sports\", \"Spy\", \"Steampunk\", \"Superhero\", \"Supernatural\", \"Survival\", \"Thriller\", \"Western\"\n",
        "]\n",
        "\n",
        "# Sample phrases for generating random movie descriptions\n",
        "description_templates = [\n",
        "    \"A {adj} {noun} embarks on an epic adventure to save the world.\",\n",
        "    \"In a world filled with {adj} secrets, a {noun} uncovers a hidden truth.\",\n",
        "    \"A group of {adj} explorers sets out on a mission to find the legendary {noun}.\",\n",
        "    \"When a {noun} discovers a {adj} power, everything changes forever.\",\n",
        "    \"A {adj} battle between good and evil takes place in the heart of {noun}.\",\n",
        "    \"The fate of humanity rests in the hands of a {adj} {noun}.\",\n",
        "    \"A {noun} with a {adj} past is forced to confront their destiny.\",\n",
        "    \"An unexpected romance blossoms between a {adj} hero and a {noun}.\",\n",
        "    \"A detective must solve the {adj} case of the missing {noun}.\",\n",
        "    \"A haunted {noun} holds secrets of a {adj} past.\",\n",
        "    \"In a {adj} kingdom, a young {noun} rises to claim their rightful throne.\",\n",
        "    \"A {adj} scientist makes a groundbreaking discovery that changes history forever.\",\n",
        "    \"A team of {adj} explorers stumbles upon an ancient {noun} with unimaginable power.\",\n",
        "    \"A {noun} is chosen to fulfill a {adj} prophecy that could alter the fate of the universe.\",\n",
        "    \"When a {adj} rebellion ignites, a lone {noun} must stand against the empire.\",\n",
        "    \"A {adj} rivalry between two powerful {noun}s threatens to destroy the world.\",\n",
        "    \"Trapped in a {adj} dimension, a {noun} fights to find their way home.\",\n",
        "    \"A {adj} warrior is forced to fight in a deadly tournament of champions.\",\n",
        "    \"A {adj} storm wipes out civilization, leaving a {noun} struggling for survival.\",\n",
        "    \"After discovering a {adj} artifact, a {noun} is hunted by a secret organization.\",\n",
        "    \"A {adj} stranger arrives in town, carrying a {noun} that holds a dark secret.\",\n",
        "    \"A group of {adj} survivors bands together to fight against an army of {noun}s.\",\n",
        "    \"A {adj} experiment goes wrong, unleashing chaos upon an unsuspecting {noun}.\",\n",
        "    \"A {adj} hacker uncovers a conspiracy that could shake the foundations of {noun}.\",\n",
        "    \"A {noun} must embrace their {adj} destiny to restore balance to the world.\",\n",
        "    \"A {adj} time traveler finds themselves trapped in an endless loop of {noun}.\",\n",
        "    \"A {adj} thief plans the ultimate heist to steal a priceless {noun}.\",\n",
        "    \"A {adj} assassin is given an impossible mission—to eliminate the {noun}.\",\n",
        "    \"A {adj} rivalry between two legendary {noun}s leads to a final showdown.\",\n",
        "    \"A {noun} discovers a {adj} gateway to another dimension.\",\n",
        "    \"A {adj} musician stumbles upon a cursed {noun} that changes their life forever.\",\n",
        "    \"A {adj} creature awakens from the depths of the ocean, threatening humanity.\",\n",
        "    \"A {noun} with a {adj} secret is pursued by a relentless group of hunters.\",\n",
        "    \"A {adj} AI develops emotions and forms an unlikely bond with a {noun}.\",\n",
        "    \"A {noun} must outwit a {adj} mastermind in a high-stakes game of survival.\",\n",
        "    \"A {adj} bounty hunter is on the trail of the most wanted {noun} in the galaxy.\",\n",
        "    \"A {adj} journalist uncovers the shocking truth about a mysterious {noun}.\",\n",
        "    \"A {adj} orphan discovers they are the heir to a lost {noun}.\",\n",
        "    \"A {adj} knight must retrieve a sacred {noun} to prevent the kingdom's fall.\",\n",
        "    \"A {adj} scientist creates a {noun} that can alter reality itself.\",\n",
        "    \"A {adj} soldier returns home to find their city ruled by a ruthless {noun}.\",\n",
        "    \"A {adj} witch forms an unlikely alliance with a {noun} to defeat an ancient evil.\",\n",
        "    \"A {noun} awakens to find themselves in a {adj} version of their own reality.\",\n",
        "    \"A {adj} gambler makes a dangerous bet with a powerful {noun}.\",\n",
        "    \"A {adj} explorer maps out an uncharted land filled with mythical {noun}s.\",\n",
        "    \"A {adj} shipwreck survivor stumbles upon an island ruled by a {noun}.\",\n",
        "    \"A {adj} outlaw must team up with a {noun} to escape a deadly pursuit.\",\n",
        "    \"A {adj} prisoner is given a chance at freedom in exchange for hunting down a {noun}.\",\n",
        "    \"A {adj} rebel leads an uprising against a corrupt {noun} in a dystopian city.\"\n",
        "]\n",
        "\n",
        "# Number of records to generate\n",
        "num_movies = 250\n",
        "\n",
        "# Generate movie dataset\n",
        "# This loop iterates num_movies (100) times to create each movie entry\n",
        "# The generated data for the movie is appended as a list to the movies list.\n",
        "movies = []\n",
        "for i in range(1, num_movies + 1):\n",
        "    title = f\" {random.choice(adjectives)} {random.choice(nouns)}\"\n",
        "    description = random.choice(description_templates).format(adj=random.choice(adjectives), noun=random.choice(nouns))\n",
        "    genre = random.choice(genres)\n",
        "    movies.append([i, title, description, genre])\n",
        "\n",
        "# Create DataFrame\n",
        "df = pd.DataFrame(movies, columns=[\"Movie_ID\", \"Title\", \"Description\", \"Genre\"])\n",
        "\n",
        "# Display first few rows\n",
        "print(df.head())\n",
        "\n",
        "# Save dataset\n",
        "df.to_csv(\"synthetic_movies_dynamic.csv\", index=False)"
      ],
      "metadata": {
        "colab": {
          "base_uri": "https://localhost:8080/"
        },
        "id": "cM8SgyjgDMFY",
        "outputId": "2516be83-db88-47e5-9856-10913864d33d"
      },
      "execution_count": 4,
      "outputs": [
        {
          "output_type": "stream",
          "name": "stdout",
          "text": [
            "   Movie_ID             Title  \\\n",
            "0         1    Fierce Warrior   \n",
            "1         2   Heroic Conquest   \n",
            "2         3    Glorious Dream   \n",
            "3         4    Rugged Warrior   \n",
            "4         5    Delicate Enemy   \n",
            "\n",
            "                                         Description         Genre  \n",
            "0  A Graceful gambler makes a dangerous bet with ...     Superhero  \n",
            "1  A Grim scientist makes a groundbreaking discov...         Crime  \n",
            "2  A team of Glorious explorers stumbles upon an ...  Dark Fantasy  \n",
            "3  A Secret rivalry between two legendary Revenge...     Slapstick  \n",
            "4  A Powerful prisoner is given a chance at freed...  Period Drama  \n"
          ]
        }
      ]
    },
    {
      "cell_type": "code",
      "source": [
        "def create_movie_text(movie):\n",
        "    # Remove newlines within movie attributes\n",
        "    title = movie['Title'].replace('\\n', ' ')\n",
        "    genre = movie['Genre'].replace('\\n', ' ')\n",
        "    description = movie['Description'].replace('\\n', ' ')\n",
        "\n",
        "    return (\n",
        "        f\"Title: {title}\\n\"\n",
        "        f\"Genre: {genre}\\n\"\n",
        "        f\"Description: {description}\"\n",
        "    )\n",
        "\n",
        "# Assuming 'df' is your DataFrame containing the movie data\n",
        "movie_texts = df.apply(create_movie_text, axis=1).tolist()\n",
        "print(movie_texts)"
      ],
      "metadata": {
        "colab": {
          "base_uri": "https://localhost:8080/"
        },
        "id": "c7OQpYLetCwi",
        "outputId": "2f1ecb7b-1d7a-4e76-c247-5adfe89f8ac9"
      },
      "execution_count": 5,
      "outputs": [
        {
          "output_type": "stream",
          "name": "stdout",
          "text": [
            "['Title:  Fierce Warrior\\nGenre: Superhero\\nDescription: A Graceful gambler makes a dangerous bet with a powerful Journey.', 'Title:  Heroic Conquest\\nGenre: Crime\\nDescription: A Grim scientist makes a groundbreaking discovery that changes history forever.', 'Title:  Glorious Dream\\nGenre: Dark Fantasy\\nDescription: A team of Glorious explorers stumbles upon an ancient Prophecy with unimaginable power.', 'Title:  Rugged Warrior\\nGenre: Slapstick\\nDescription: A Secret rivalry between two legendary Revenges leads to a final showdown.', 'Title:  Delicate Enemy\\nGenre: Period Drama\\nDescription: A Powerful prisoner is given a chance at freedom in exchange for hunting down a Warrior.', 'Title:  Powerful Battle\\nGenre: Science Fiction\\nDescription: When a Unbreakable rebellion ignites, a lone Oracle must stand against the empire.', 'Title:  Grim Treasure\\nGenre: Steampunk\\nDescription: A Luminous explorer maps out an uncharted land filled with mythical Oracles.', 'Title:  Glorious Fate\\nGenre: Thriller\\nDescription: A Cunning prisoner is given a chance at freedom in exchange for hunting down a Warrior.', 'Title:  Obscure Paradox\\nGenre: Period Drama\\nDescription: A Radiant Castle embarks on an epic adventure to save the world.', 'Title:  Shadowy Labyrinth\\nGenre: Supernatural\\nDescription: A Grim warrior is forced to fight in a deadly tournament of champions.', 'Title:  Stubborn Castle\\nGenre: Rom-Com\\nDescription: A Grim stranger arrives in town, carrying a Master that holds a dark secret.', 'Title:  Hidden Fortune\\nGenre: Musical\\nDescription: A Stubborn warrior is forced to fight in a deadly tournament of champions.', 'Title:  Stubborn Journey\\nGenre: Thriller\\nDescription: A Charming orphan discovers they are the heir to a lost Curse.', 'Title:  Swift Dragon\\nGenre: Mythology\\nDescription: A group of Forbidden explorers sets out on a mission to find the legendary Miracle.', 'Title:  Delicate Chronicle\\nGenre: Supernatural\\nDescription: A Escape with a Dark past is forced to confront their destiny.', 'Title:  Determined Phantom\\nGenre: Rom-Com\\nDescription: A Chronicle must embrace their Obscure destiny to restore balance to the world.', 'Title:  Eternal Horizon\\nGenre: Dystopian\\nDescription: A Lost explorer maps out an uncharted land filled with mythical Treasures.', 'Title:  Elegant Dream\\nGenre: Thriller\\nDescription: A Honor with a Timeless past is forced to confront their destiny.', 'Title:  Swift Journey\\nGenre: Sports\\nDescription: A Fierce storm wipes out civilization, leaving a Curse struggling for survival.', 'Title:  Glorious Revolt\\nGenre: Drama\\nDescription: A Mysterious scientist creates a Phantom that can alter reality itself.', 'Title:  Eternal Galaxy\\nGenre: Fantasy\\nDescription: The fate of humanity rests in the hands of a Daring Treasure.', 'Title:  Rugged City\\nGenre: Musical\\nDescription: A Vengeful AI develops emotions and forms an unlikely bond with a Conquest.', 'Title:  Swift Storm\\nGenre: Romance\\nDescription: A Calm outlaw must team up with a Chaos to escape a deadly pursuit.', 'Title:  Icy Courage\\nGenre: Science Fiction\\nDescription: In a world filled with Graceful secrets, a Hero uncovers a hidden truth.', 'Title:  Mysterious Legacy\\nGenre: Rom-Com\\nDescription: In a Brave kingdom, a young Darkness rises to claim their rightful throne.', 'Title:  Luminous Champion\\nGenre: Inspirational\\nDescription: A Eternal creature awakens from the depths of the ocean, threatening humanity.', 'Title:  Galactic Sorcerer\\nGenre: Adventure\\nDescription: A Powerful creature awakens from the depths of the ocean, threatening humanity.', 'Title:  Glorious Conquest\\nGenre: Melodrama\\nDescription: An unexpected romance blossoms between a Delicate hero and a Paradox.', 'Title:  Graceful Master\\nGenre: Inspirational\\nDescription: A Obscure explorer maps out an uncharted land filled with mythical Journeys.', 'Title:  Elegant Guardian\\nGenre: Horror\\nDescription: A Paradox must outwit a Ambitious mastermind in a high-stakes game of survival.', 'Title:  Hollow Mystery\\nGenre: Political\\nDescription: A Glorious gambler makes a dangerous bet with a powerful Galaxy.', 'Title:  Gentle Revolt\\nGenre: Steampunk\\nDescription: A Glorious orphan discovers they are the heir to a lost Darkness.', 'Title:  Shadowy Prophecy\\nGenre: Fantasy\\nDescription: A Gentle Curse embarks on an epic adventure to save the world.', 'Title:  Calm Castle\\nGenre: Thriller\\nDescription: After discovering a Dark artifact, a Oracle is hunted by a secret organization.', 'Title:  Humble City\\nGenre: Cyberpunk\\nDescription: A Luminous storm wipes out civilization, leaving a Fate struggling for survival.', 'Title:  Mysterious Journey\\nGenre: Rom-Com\\nDescription: A Stubborn stranger arrives in town, carrying a Legacy that holds a dark secret.', 'Title:  Hollow Galaxy\\nGenre: Political\\nDescription: A Hero must outwit a Lost mastermind in a high-stakes game of survival.', 'Title:  Sacred Legend\\nGenre: Slapstick\\nDescription: A Forbidden musician stumbles upon a cursed MysteryAdventure that changes their life forever.', 'Title:  Quantum Warrior\\nGenre: Mystery\\nDescription: A Swift rivalry between two powerful Empires threatens to destroy the world.', 'Title:  Clever Magic\\nGenre: Paranormal\\nDescription: A Shadowy witch forms an unlikely alliance with a Galaxy to defeat an ancient evil.', 'Title:  Heroic Explorer\\nGenre: Spy\\nDescription: An unexpected romance blossoms between a Glorious hero and a Explorer.', 'Title:  Dark Revolt\\nGenre: Action\\nDescription: A Brave time traveler finds themselves trapped in an endless loop of Legacy.', 'Title:  Stubborn Escape\\nGenre: Survival\\nDescription: A group of Dark explorers sets out on a mission to find the legendary Miracle.', 'Title:  Lost Labyrinth\\nGenre: Political\\nDescription: A Mysterious Chronicle embarks on an epic adventure to save the world.', 'Title:  Quantum Magic\\nGenre: Space Opera\\nDescription: A Shadow must embrace their Sinister destiny to restore balance to the world.', 'Title:  Clever Prophecy\\nGenre: Superhero\\nDescription: A Ambitious witch forms an unlikely alliance with a Master to defeat an ancient evil.', 'Title:  Icy Darkness\\nGenre: Post-Apocalyptic\\nDescription: A HauntedAdventurous journalist uncovers the shocking truth about a mysterious Treasure.', 'Title:  Icy Curse\\nGenre: Mockumentary\\nDescription: A Realm must embrace their Cunning destiny to restore balance to the world.', 'Title:  Lost Revolt\\nGenre: Cyberpunk\\nDescription: A Castle must outwit a Lonely mastermind in a high-stakes game of survival.', 'Title:  Forbidden Courage\\nGenre: Animation\\nDescription: A Radiant experiment goes wrong, unleashing chaos upon an unsuspecting Darkness.', 'Title:  Powerful Paradox\\nGenre: Mythology\\nDescription: When a Charming rebellion ignites, a lone Conquest must stand against the empire.', 'Title:  Dark Dream\\nGenre: Medieval\\nDescription: A Castle must embrace their Enchanted destiny to restore balance to the world.', 'Title:  Swift Revenge\\nGenre: Political\\nDescription: A Radiant time traveler finds themselves trapped in an endless loop of Journey.', 'Title:  Shadowy Courage\\nGenre: Western\\nDescription: A Timeless scientist creates a Revolt that can alter reality itself.', 'Title:  Icy Darkness\\nGenre: Neo-Noir\\nDescription: A Lonely time traveler finds themselves trapped in an endless loop of MysteryAdventure.', 'Title:  Swift Chaos\\nGenre: Sports\\nDescription: A Heroic hacker uncovers a conspiracy that could shake the foundations of Escape.', 'Title:  Gentle Escape\\nGenre: Musical\\nDescription: After discovering a Secret artifact, a Mystery is hunted by a secret organization.', 'Title:  Stubborn Honor\\nGenre: Musical\\nDescription: A Lost AI develops emotions and forms an unlikely bond with a Master.', 'Title:  Shadowy Miracle\\nGenre: Western\\nDescription: A Forbidden thief plans the ultimate heist to steal a priceless City.', 'Title:  Dark Realm\\nGenre: Mythology\\nDescription: A Noble Darkness embarks on an epic adventure to save the world.', 'Title:  Shimmering Paradox\\nGenre: Superhero\\nDescription: A Master awakens to find themselves in a Forbidden version of their own reality.', 'Title:  Secret Darkness\\nGenre: Musical\\nDescription: A Cunning experiment goes wrong, unleashing chaos upon an unsuspecting MysteryAdventure.', 'Title:  Forbidden Journey\\nGenre: Samurai\\nDescription: A team of Clever explorers stumbles upon an ancient Dream with unimaginable power.', 'Title:  Luminous Rebel\\nGenre: Crime\\nDescription: When a Honor discovers a Delicate power, everything changes forever.', 'Title:  Brave Paradox\\nGenre: Steampunk\\nDescription: The fate of humanity rests in the hands of a Determined Curse.', 'Title:  Quantum Fortune\\nGenre: Supernatural\\nDescription: A Vengeful AI develops emotions and forms an unlikely bond with a Chaos.', 'Title:  Cunning Battle\\nGenre: Reality\\nDescription: The fate of humanity rests in the hands of a Hidden Legend.', 'Title:  Enchanted Chaos\\nGenre: Steampunk\\nDescription: A Forbidden shipwreck survivor stumbles upon an island ruled by a Knight.', 'Title:  Elegant Storm\\nGenre: Film Noir\\nDescription: A Phantom with a Daring past is forced to confront their destiny.', 'Title:  Legendary City\\nGenre: Melodrama\\nDescription: A Daring experiment goes wrong, unleashing chaos upon an unsuspecting Magic.', 'Title:  Clever Nightmare\\nGenre: Inspirational\\nDescription: A Eternal rivalry between two legendary Heros leads to a final showdown.', 'Title:  Secret Journey\\nGenre: Animation\\nDescription: A Vengeful rivalry between two legendary Nightmares leads to a final showdown.', 'Title:  Obscure Chaos\\nGenre: Fantasy\\nDescription: A Shadowy hacker uncovers a conspiracy that could shake the foundations of Master.', 'Title:  Reckless MysteryAdventure\\nGenre: Inspirational\\nDescription: A Radiant journalist uncovers the shocking truth about a mysterious Guardian.', \"Title:  Hidden Legacy\\nGenre: Mystery\\nDescription: A Unbreakable knight must retrieve a sacred Fate to prevent the kingdom's fall.\", 'Title:  Gentle Curse\\nGenre: Historical\\nDescription: A Forbidden time traveler finds themselves trapped in an endless loop of MysteryAdventure.', 'Title:  Dark Warrior\\nGenre: Spy\\nDescription: A Calm prisoner is given a chance at freedom in exchange for hunting down a Galaxy.', 'Title:  Noble Magic\\nGenre: Post-Apocalyptic\\nDescription: A Mysterious rebel leads an uprising against a corrupt Treasure in a dystopian city.', 'Title:  Icy Sorcerer\\nGenre: Space Opera\\nDescription: A Mysterious outlaw must team up with a Revolt to escape a deadly pursuit.', 'Title:  Unbreakable Shadow\\nGenre: Sports\\nDescription: When a Determined rebellion ignites, a lone Sorcerer must stand against the empire.', 'Title:  Obscure Darkness\\nGenre: Satire\\nDescription: A Vengeful bounty hunter is on the trail of the most wanted Fortune in the galaxy.', 'Title:  Luminous Phantom\\nGenre: Action\\nDescription: In a Fierce kingdom, a young Empire rises to claim their rightful throne.', 'Title:  Timeless Empire\\nGenre: Action\\nDescription: A Luminous musician stumbles upon a cursed Guardian that changes their life forever.', 'Title:  Stubborn Quest\\nGenre: Survival\\nDescription: A Stubborn stranger arrives in town, carrying a Explorer that holds a dark secret.', 'Title:  Rugged Galaxy\\nGenre: Sports\\nDescription: A detective must solve the Noble case of the missing Destiny.', 'Title:  Luminous Maze\\nGenre: Samurai\\nDescription: A Vengeful warrior is forced to fight in a deadly tournament of champions.', 'Title:  Sinister Labyrinth\\nGenre: Film Noir\\nDescription: A Humble orphan discovers they are the heir to a lost Dream.', 'Title:  Hidden Storm\\nGenre: Dystopian\\nDescription: A Revolt is chosen to fulfill a Determined prophecy that could alter the fate of the universe.', 'Title:  Rugged Escape\\nGenre: Dystopian\\nDescription: A Journey discovers a Restless gateway to another dimension.', 'Title:  Fierce Nightmare\\nGenre: Science Fiction\\nDescription: A Shadow awakens to find themselves in a Clever version of their own reality.', 'Title:  Dark Mission\\nGenre: Thriller\\nDescription: Trapped in a Brave dimension, a Treasure fights to find their way home.', 'Title:  Swift Battle\\nGenre: Post-Apocalyptic\\nDescription: A Noble warrior is forced to fight in a deadly tournament of champions.', \"Title:  Enchanted Champion\\nGenre: Period Drama\\nDescription: A HauntedAdventurous knight must retrieve a sacred Quest to prevent the kingdom's fall.\", 'Title:  Mysterious Revolt\\nGenre: Martial Arts\\nDescription: When a Sinister rebellion ignites, a lone Treasure must stand against the empire.', 'Title:  Majestic Nightmare\\nGenre: Paranormal\\nDescription: A Forbidden musician stumbles upon a cursed Mystery that changes their life forever.', 'Title:  Silent Phantom\\nGenre: Drama\\nDescription: A Fierce gambler makes a dangerous bet with a powerful Treasure.', 'Title:  Eternal Realm\\nGenre: Psychological\\nDescription: A Powerful time traveler finds themselves trapped in an endless loop of Conquest.', 'Title:  Powerful Magic\\nGenre: Family\\nDescription: A Vengeful outlaw must team up with a Miracle to escape a deadly pursuit.', 'Title:  Lost Revolt\\nGenre: Political\\nDescription: After discovering a Ambitious artifact, a Shadow is hunted by a secret organization.', 'Title:  Timeless Guardian\\nGenre: Family\\nDescription: A Quantum storm wipes out civilization, leaving a Paradox struggling for survival.', 'Title:  Forbidden City\\nGenre: Medieval\\nDescription: A Mission awakens to find themselves in a Lonely version of their own reality.', 'Title:  Shadowy Mystery\\nGenre: Dark Fantasy\\nDescription: A Forbidden AI develops emotions and forms an unlikely bond with a Dream.', 'Title:  Shimmering Destiny\\nGenre: Martial Arts\\nDescription: A Charming AI develops emotions and forms an unlikely bond with a Quest.', 'Title:  Radiant Nightmare\\nGenre: Romance\\nDescription: A Quantum assassin is given an impossible mission—to eliminate the Fortune.', 'Title:  Rugged Legacy\\nGenre: Supernatural\\nDescription: A Horizon discovers a Hidden gateway to another dimension.', 'Title:  Swift Curse\\nGenre: Mystery\\nDescription: An unexpected romance blossoms between a Clever hero and a Mission.', 'Title:  Determined Darkness\\nGenre: Dark Fantasy\\nDescription: A Hidden outlaw must team up with a Fortune to escape a deadly pursuit.', 'Title:  Radiant Escape\\nGenre: Biography\\nDescription: The fate of humanity rests in the hands of a Vengeful Maze.', 'Title:  Cunning Chaos\\nGenre: Satire\\nDescription: A Lost rebel leads an uprising against a corrupt Guardian in a dystopian city.', 'Title:  Luminous Nightmare\\nGenre: Superhero\\nDescription: The fate of humanity rests in the hands of a Dark Journey.', 'Title:  Calm Paradox\\nGenre: Documentary\\nDescription: A Escape with a Delicate past is forced to confront their destiny.', 'Title:  Fierce Shadow\\nGenre: Action\\nDescription: A Rugged gambler makes a dangerous bet with a powerful Champion.', 'Title:  Lively Rebel\\nGenre: Epic\\nDescription: A team of Dark explorers stumbles upon an ancient Chronicle with unimaginable power.', 'Title:  Hollow Escape\\nGenre: Psychological\\nDescription: A team of Elegant explorers stumbles upon an ancient Rebel with unimaginable power.', 'Title:  Obscure Escape\\nGenre: Melodrama\\nDescription: A Galactic prisoner is given a chance at freedom in exchange for hunting down a Knight.', 'Title:  Majestic Quest\\nGenre: Action\\nDescription: A Ambitious bounty hunter is on the trail of the most wanted Storm in the galaxy.', 'Title:  Glorious Escape\\nGenre: Crime\\nDescription: A Elegant scientist creates a Maze that can alter reality itself.', 'Title:  Enchanted Warrior\\nGenre: Steampunk\\nDescription: A Shadow awakens to find themselves in a Obscure version of their own reality.', 'Title:  Secret Realm\\nGenre: Period Drama\\nDescription: A Quantum scientist makes a groundbreaking discovery that changes history forever.', 'Title:  Vengeful Mission\\nGenre: Romance\\nDescription: A Grim rivalry between two powerful Darknesss threatens to destroy the world.', 'Title:  Luminous Warrior\\nGenre: Western\\nDescription: A HauntedAdventurous AI develops emotions and forms an unlikely bond with a Darkness.', 'Title:  Lost Escape\\nGenre: Paranormal\\nDescription: A haunted Legacy holds secrets of a Enchanted past.', 'Title:  Dark Conquest\\nGenre: Steampunk\\nDescription: A Calm outlaw must team up with a Rebel to escape a deadly pursuit.', 'Title:  Stubborn Darkness\\nGenre: Mockumentary\\nDescription: A Noble witch forms an unlikely alliance with a Knight to defeat an ancient evil.', 'Title:  Delicate Journey\\nGenre: Historical\\nDescription: A Mystery must embrace their Galactic destiny to restore balance to the world.', 'Title:  Eternal Labyrinth\\nGenre: Superhero\\nDescription: A Gentle prisoner is given a chance at freedom in exchange for hunting down a Escape.', 'Title:  Mysterious Shadow\\nGenre: Film Noir\\nDescription: A Lost scientist creates a MysteryAdventure that can alter reality itself.', \"Title:  Swift Escape\\nGenre: Dark Fantasy\\nDescription: A Glorious knight must retrieve a sacred Prophecy to prevent the kingdom's fall.\", 'Title:  Lost Oracle\\nGenre: Cyberpunk\\nDescription: A group of Hollow explorers sets out on a mission to find the legendary Fate.', 'Title:  Galactic Knight\\nGenre: Reality\\nDescription: A Eternal time traveler finds themselves trapped in an endless loop of Shadow.', 'Title:  Lost Legacy\\nGenre: Melodrama\\nDescription: A Enchanted storm wipes out civilization, leaving a Guardian struggling for survival.', 'Title:  Legendary Miracle\\nGenre: Military\\nDescription: A Hidden rebel leads an uprising against a corrupt Battle in a dystopian city.', 'Title:  Radiant Legacy\\nGenre: Comedy\\nDescription: A Timeless shipwreck survivor stumbles upon an island ruled by a Treasure.', 'Title:  Secret Knight\\nGenre: Sports\\nDescription: A Escape with a Stubborn secret is pursued by a relentless group of hunters.', 'Title:  Galactic Master\\nGenre: Drama\\nDescription: A Gentle rebel leads an uprising against a corrupt Prophecy in a dystopian city.', 'Title:  Lively Nightmare\\nGenre: Inspirational\\nDescription: A Unbreakable stranger arrives in town, carrying a Nightmare that holds a dark secret.', 'Title:  Lost Curse\\nGenre: Dark Fantasy\\nDescription: In a world filled with Hidden secrets, a City uncovers a hidden truth.', 'Title:  Unbreakable Knight\\nGenre: Survival\\nDescription: A group of Gentle survivors bands together to fight against an army of Storms.', 'Title:  Luminous Warrior\\nGenre: Mythology\\nDescription: A Legendary warrior is forced to fight in a deadly tournament of champions.', 'Title:  Timeless Treasure\\nGenre: Paranormal\\nDescription: A Prophecy with a Unbreakable secret is pursued by a relentless group of hunters.', 'Title:  Forbidden Curse\\nGenre: Melodrama\\nDescription: A Heroic warrior is forced to fight in a deadly tournament of champions.', 'Title:  Eternal MysteryAdventure\\nGenre: Steampunk\\nDescription: A Quantum creature awakens from the depths of the ocean, threatening humanity.', 'Title:  Hollow Guardian\\nGenre: Cyberpunk\\nDescription: The fate of humanity rests in the hands of a Quantum Galaxy.', 'Title:  Radiant Conquest\\nGenre: Political\\nDescription: A Shadowy soldier returns home to find their city ruled by a ruthless Dragon.', 'Title:  Stubborn Galaxy\\nGenre: Supernatural\\nDescription: A Daring warrior is forced to fight in a deadly tournament of champions.', 'Title:  HauntedAdventurous Rebel\\nGenre: Steampunk\\nDescription: A Rugged stranger arrives in town, carrying a Warrior that holds a dark secret.', 'Title:  Enchanted Warrior\\nGenre: Action\\nDescription: A Sacred time traveler finds themselves trapped in an endless loop of Chronicle.', 'Title:  Heroic Miracle\\nGenre: Survival\\nDescription: A Calm soldier returns home to find their city ruled by a ruthless Shadow.', 'Title:  Sinister Galaxy\\nGenre: Reality\\nDescription: A Legend must embrace their Galactic destiny to restore balance to the world.', 'Title:  HauntedAdventurous Fortune\\nGenre: Satire\\nDescription: A Legendary gambler makes a dangerous bet with a powerful Curse.', 'Title:  Eternal Phantom\\nGenre: Mythology\\nDescription: A Courage with a Unbreakable past is forced to confront their destiny.', \"Title:  Galactic Enemy\\nGenre: Action\\nDescription: A Powerful knight must retrieve a sacred Realm to prevent the kingdom's fall.\", 'Title:  Grim Revenge\\nGenre: Political\\nDescription: In a Majestic kingdom, a young Horizon rises to claim their rightful throne.', 'Title:  Lonely Hero\\nGenre: Thriller\\nDescription: A Lively rivalry between two powerful Nightmares threatens to destroy the world.', 'Title:  Powerful Legacy\\nGenre: Rom-Com\\nDescription: A Humble warrior is forced to fight in a deadly tournament of champions.', 'Title:  Daring Horizon\\nGenre: Military\\nDescription: A Elegant soldier returns home to find their city ruled by a ruthless Miracle.', 'Title:  Heroic Shadow\\nGenre: Crime\\nDescription: A Heroic storm wipes out civilization, leaving a Champion struggling for survival.', 'Title:  Charming Paradox\\nGenre: Family\\nDescription: A Cunning time traveler finds themselves trapped in an endless loop of Legend.', 'Title:  Enchanted Journey\\nGenre: Horror\\nDescription: Trapped in a Clever dimension, a Explorer fights to find their way home.', 'Title:  Calm Dragon\\nGenre: Post-Apocalyptic\\nDescription: A Vengeful storm wipes out civilization, leaving a Paradox struggling for survival.', 'Title:  Glorious Horizon\\nGenre: Melodrama\\nDescription: A Legend discovers a Lonely gateway to another dimension.', 'Title:  Secret Conquest\\nGenre: Reality\\nDescription: A Obscure gambler makes a dangerous bet with a powerful Revolt.', 'Title:  Lonely Prophecy\\nGenre: Adventure\\nDescription: A group of Ambitious explorers sets out on a mission to find the legendary Explorer.', 'Title:  Stubborn Phantom\\nGenre: Musical\\nDescription: A Journey with a Mysterious secret is pursued by a relentless group of hunters.', 'Title:  Radiant Conquest\\nGenre: Indie\\nDescription: A Humble assassin is given an impossible mission—to eliminate the Empire.', 'Title:  Heroic Champion\\nGenre: Crime\\nDescription: When a Miracle discovers a Rugged power, everything changes forever.', 'Title:  Legendary Paradox\\nGenre: Military\\nDescription: The fate of humanity rests in the hands of a Lost Storm.', 'Title:  Majestic Warrior\\nGenre: Post-Apocalyptic\\nDescription: A Prophecy must embrace their Calm destiny to restore balance to the world.', 'Title:  Elegant Empire\\nGenre: Documentary\\nDescription: A Darkness with a Eternal secret is pursued by a relentless group of hunters.', 'Title:  Lost Darkness\\nGenre: Horror\\nDescription: After discovering a Gentle artifact, a Enemy is hunted by a secret organization.', 'Title:  Silent Dream\\nGenre: Romance\\nDescription: A Warrior awakens to find themselves in a Legendary version of their own reality.', 'Title:  Unbreakable Nightmare\\nGenre: Drama\\nDescription: A Oracle is chosen to fulfill a Stubborn prophecy that could alter the fate of the universe.', 'Title:  Secret Conquest\\nGenre: Drama\\nDescription: In a world filled with Majestic secrets, a City uncovers a hidden truth.', 'Title:  Lost Curse\\nGenre: Steampunk\\nDescription: A Brave orphan discovers they are the heir to a lost Fate.', 'Title:  Brave Chaos\\nGenre: Epic\\nDescription: A Unbreakable AI develops emotions and forms an unlikely bond with a MysteryAdventure.', 'Title:  Legendary Honor\\nGenre: Sports\\nDescription: A HauntedAdventurous Chaos embarks on an epic adventure to save the world.', 'Title:  Heroic Journey\\nGenre: Musical\\nDescription: A Forbidden storm wipes out civilization, leaving a Dream struggling for survival.', 'Title:  Dark Curse\\nGenre: Satire\\nDescription: A Rugged thief plans the ultimate heist to steal a priceless MysteryAdventure.', 'Title:  Dark Curse\\nGenre: Rom-Com\\nDescription: When a Sorcerer discovers a Shadowy power, everything changes forever.', 'Title:  Lost Realm\\nGenre: Romance\\nDescription: A Restless battle between good and evil takes place in the heart of Dragon.', 'Title:  Secret Guardian\\nGenre: Inspirational\\nDescription: When a Eternal rebellion ignites, a lone Fortune must stand against the empire.', 'Title:  Swift Fortune\\nGenre: Cyberpunk\\nDescription: A Sinister rebel leads an uprising against a corrupt Rebel in a dystopian city.', 'Title:  Legendary Fortune\\nGenre: Neo-Noir\\nDescription: Trapped in a Legendary dimension, a Revenge fights to find their way home.', 'Title:  Mysterious Magic\\nGenre: Romance\\nDescription: A Shimmering time traveler finds themselves trapped in an endless loop of Guardian.', 'Title:  Vengeful Prophecy\\nGenre: Post-Apocalyptic\\nDescription: In a world filled with Quantum secrets, a Champion uncovers a hidden truth.', 'Title:  Unbreakable Nightmare\\nGenre: Western\\nDescription: A Dark experiment goes wrong, unleashing chaos upon an unsuspecting Revolt.', 'Title:  Obscure City\\nGenre: Inspirational\\nDescription: The fate of humanity rests in the hands of a Determined Mission.', 'Title:  Vengeful Guardian\\nGenre: Satire\\nDescription: A Powerful time traveler finds themselves trapped in an endless loop of Dream.', 'Title:  Lost Prophecy\\nGenre: Rom-Com\\nDescription: A Maze must outwit a Stubborn mastermind in a high-stakes game of survival.', 'Title:  Silent Sorcerer\\nGenre: Science Fiction\\nDescription: A Ambitious hacker uncovers a conspiracy that could shake the foundations of City.', 'Title:  Stubborn Paradox\\nGenre: Steampunk\\nDescription: In a Radiant kingdom, a young Master rises to claim their rightful throne.', 'Title:  Heroic Dragon\\nGenre: Dark Fantasy\\nDescription: A detective must solve the Hollow case of the missing Champion.', 'Title:  Eternal Enemy\\nGenre: Musical\\nDescription: A Radiant gambler makes a dangerous bet with a powerful Courage.', 'Title:  Swift Dream\\nGenre: Slapstick\\nDescription: Trapped in a Enchanted dimension, a Chronicle fights to find their way home.', 'Title:  Brave Legacy\\nGenre: Crime\\nDescription: A Galactic outlaw must team up with a Revolt to escape a deadly pursuit.', 'Title:  Mysterious Warrior\\nGenre: Spy\\nDescription: A Legendary rebel leads an uprising against a corrupt Paradox in a dystopian city.', 'Title:  Eternal Mystery\\nGenre: Cyberpunk\\nDescription: A Secret warrior is forced to fight in a deadly tournament of champions.', 'Title:  Icy Fortune\\nGenre: Psychological\\nDescription: A Destiny with a Majestic secret is pursued by a relentless group of hunters.', 'Title:  Secret Fortune\\nGenre: Dystopian\\nDescription: A team of Secret explorers stumbles upon an ancient Warrior with unimaginable power.', 'Title:  Hollow Shadow\\nGenre: Fantasy\\nDescription: A group of Forbidden explorers sets out on a mission to find the legendary Miracle.', 'Title:  Daring Escape\\nGenre: Satire\\nDescription: A Secret explorer maps out an uncharted land filled with mythical Masters.', 'Title:  Dark Honor\\nGenre: Dystopian\\nDescription: A haunted Revolt holds secrets of a Grim past.', 'Title:  Delicate Legacy\\nGenre: Post-Apocalyptic\\nDescription: A Obscure storm wipes out civilization, leaving a Storm struggling for survival.', 'Title:  Shimmering Paradox\\nGenre: Melodrama\\nDescription: A Mysterious orphan discovers they are the heir to a lost Journey.', 'Title:  Reckless Journey\\nGenre: Sports\\nDescription: A Reckless battle between good and evil takes place in the heart of Darkness.', 'Title:  Rugged Realm\\nGenre: Fantasy\\nDescription: A Unbreakable warrior is forced to fight in a deadly tournament of champions.', 'Title:  Lost Champion\\nGenre: Slapstick\\nDescription: A Lost soldier returns home to find their city ruled by a ruthless Champion.', 'Title:  Luminous Guardian\\nGenre: Slapstick\\nDescription: A Noble warrior is forced to fight in a deadly tournament of champions.', 'Title:  Sinister Hero\\nGenre: Satire\\nDescription: In a Secret kingdom, a young MysteryAdventure rises to claim their rightful throne.', 'Title:  Lost Realm\\nGenre: Samurai\\nDescription: A Explorer must outwit a Forbidden mastermind in a high-stakes game of survival.', 'Title:  Secret Fortune\\nGenre: Martial Arts\\nDescription: A group of Stubborn survivors bands together to fight against an army of Paradoxs.', 'Title:  Sinister Conquest\\nGenre: Mystery\\nDescription: A Enchanted experiment goes wrong, unleashing chaos upon an unsuspecting Legacy.', 'Title:  Shadowy Conquest\\nGenre: Superhero\\nDescription: A Lost prisoner is given a chance at freedom in exchange for hunting down a Legacy.', 'Title:  Brave Revenge\\nGenre: Science Fiction\\nDescription: A Majestic time traveler finds themselves trapped in an endless loop of Journey.', 'Title:  Icy Enemy\\nGenre: Reality\\nDescription: A Galactic gambler makes a dangerous bet with a powerful Magic.', 'Title:  Lively Curse\\nGenre: Family\\nDescription: In a world filled with Enchanted secrets, a Chronicle uncovers a hidden truth.', 'Title:  Hidden Knight\\nGenre: Musical\\nDescription: A Legendary thief plans the ultimate heist to steal a priceless Maze.', 'Title:  Dark Knight\\nGenre: Satire\\nDescription: Trapped in a Obscure dimension, a Shadow fights to find their way home.', 'Title:  Eternal Galaxy\\nGenre: Biography\\nDescription: In a Shadowy kingdom, a young Escape rises to claim their rightful throne.', 'Title:  Graceful Chronicle\\nGenre: Film Noir\\nDescription: A Explorer discovers a Majestic gateway to another dimension.', 'Title:  Calm Miracle\\nGenre: Mockumentary\\nDescription: In a world filled with Timeless secrets, a Revenge uncovers a hidden truth.', 'Title:  Mysterious Courage\\nGenre: Documentary\\nDescription: A Legacy with a Hidden secret is pursued by a relentless group of hunters.', 'Title:  Hidden Escape\\nGenre: Melodrama\\nDescription: A Eternal soldier returns home to find their city ruled by a ruthless Legacy.', 'Title:  Galactic Labyrinth\\nGenre: Reality\\nDescription: A Oracle is chosen to fulfill a Lonely prophecy that could alter the fate of the universe.', 'Title:  Powerful Fortune\\nGenre: Disaster\\nDescription: A Restless prisoner is given a chance at freedom in exchange for hunting down a Galaxy.', 'Title:  Graceful Storm\\nGenre: Comedy\\nDescription: After discovering a Hidden artifact, a Conquest is hunted by a secret organization.', 'Title:  Obscure Realm\\nGenre: Superhero\\nDescription: A Galaxy with a Clever secret is pursued by a relentless group of hunters.', 'Title:  Legendary Curse\\nGenre: Epic\\nDescription: A Lost scientist creates a Warrior that can alter reality itself.', 'Title:  Ambitious Legend\\nGenre: Dark Fantasy\\nDescription: In a world filled with Shadowy secrets, a Galaxy uncovers a hidden truth.', 'Title:  Forbidden Magic\\nGenre: Supernatural\\nDescription: A Sinister witch forms an unlikely alliance with a Courage to defeat an ancient evil.', 'Title:  Sacred Destiny\\nGenre: Western\\nDescription: A MysteryAdventure must outwit a Majestic mastermind in a high-stakes game of survival.', 'Title:  Shimmering Fortune\\nGenre: Science Fiction\\nDescription: A MysteryAdventure discovers a Lost gateway to another dimension.', 'Title:  Dark City\\nGenre: Melodrama\\nDescription: A Rugged battle between good and evil takes place in the heart of Curse.', \"Title:  Humble Enemy\\nGenre: Horror\\nDescription: A Shimmering knight must retrieve a sacred Storm to prevent the kingdom's fall.\", 'Title:  Secret Mission\\nGenre: Biography\\nDescription: A group of Quantum survivors bands together to fight against an army of Revolts.', 'Title:  Luminous Nightmare\\nGenre: Sports\\nDescription: A group of Cunning survivors bands together to fight against an army of Warriors.', 'Title:  Fierce Sorcerer\\nGenre: Slapstick\\nDescription: A Lost scientist creates a Knight that can alter reality itself.', 'Title:  Timeless Curse\\nGenre: Animation\\nDescription: A Sorcerer is chosen to fulfill a Dark prophecy that could alter the fate of the universe.', 'Title:  Determined Paradox\\nGenre: Post-Apocalyptic\\nDescription: A Rebel with a Cunning secret is pursued by a relentless group of hunters.', 'Title:  Glorious Treasure\\nGenre: Slapstick\\nDescription: A Mysterious gambler makes a dangerous bet with a powerful Honor.', 'Title:  Vengeful Guardian\\nGenre: Western\\nDescription: A Vengeful rebel leads an uprising against a corrupt Legacy in a dystopian city.', \"Title:  Enchanted Legacy\\nGenre: Neo-Noir\\nDescription: A Delicate knight must retrieve a sacred Treasure to prevent the kingdom's fall.\", 'Title:  Obscure Master\\nGenre: Military\\nDescription: A Determined witch forms an unlikely alliance with a Conquest to defeat an ancient evil.', 'Title:  Fierce Phantom\\nGenre: Dystopian\\nDescription: A Shadowy hacker uncovers a conspiracy that could shake the foundations of Maze.', 'Title:  Silent Fortune\\nGenre: Science Fiction\\nDescription: A Legendary soldier returns home to find their city ruled by a ruthless Treasure.', 'Title:  Humble Guardian\\nGenre: Military\\nDescription: A Grim battle between good and evil takes place in the heart of Warrior.', 'Title:  Forbidden Legacy\\nGenre: Western\\nDescription: A Maze discovers a Noble gateway to another dimension.', 'Title:  Fierce Prophecy\\nGenre: Sports\\nDescription: A Galaxy awakens to find themselves in a Unbreakable version of their own reality.', 'Title:  Dark Paradox\\nGenre: Drama\\nDescription: A MysteryAdventure discovers a Lost gateway to another dimension.', 'Title:  Timeless Champion\\nGenre: Martial Arts\\nDescription: A HauntedAdventurous witch forms an unlikely alliance with a Journey to defeat an ancient evil.']\n"
          ]
        }
      ]
    },
    {
      "cell_type": "code",
      "source": [
        "def combine_movie_info_to_string(movie_text):\n",
        "  \"\"\"Combines title, genre, and description within a movie text string.\"\"\"\n",
        "  # Extract title, genre, and description using string manipulation\n",
        "  # Assuming the structure is \"Title: ...\\nGenre: ...\\nDescription: ...\"\n",
        "  title = movie_text.split('\\n')[0].split(': ')[1]  # Split by newline instead of comma\n",
        "  genre = movie_text.split('\\n')[1].split(': ')[1]  # Split by newline instead of comma\n",
        "  description = movie_text.split('\\n')[2].split(': ')[1]  # Split by newline instead of comma\n",
        "\n",
        "  # Create the combined string with commas\n",
        "  combined_string = f\"Title: {title}, Genre: {genre}, Description: {description}\"\n",
        "  return combined_string\n",
        "\n",
        "# Assuming movie_texts now contains strings with commas\n",
        "# Example: \"Title: Movie Title, Genre: Action, Description: Movie description here\"\n",
        "combined = [combine_movie_info_to_string(text) for text in movie_texts]\n",
        "\n",
        "# Print the combined movie texts\n",
        "print(combined)"
      ],
      "metadata": {
        "id": "L_U_jGMV8OgW",
        "outputId": "40131127-abf0-4eea-f494-1eddf63159a2",
        "colab": {
          "base_uri": "https://localhost:8080/"
        }
      },
      "execution_count": 6,
      "outputs": [
        {
          "output_type": "stream",
          "name": "stdout",
          "text": [
            "['Title:  Fierce Warrior, Genre: Superhero, Description: A Graceful gambler makes a dangerous bet with a powerful Journey.', 'Title:  Heroic Conquest, Genre: Crime, Description: A Grim scientist makes a groundbreaking discovery that changes history forever.', 'Title:  Glorious Dream, Genre: Dark Fantasy, Description: A team of Glorious explorers stumbles upon an ancient Prophecy with unimaginable power.', 'Title:  Rugged Warrior, Genre: Slapstick, Description: A Secret rivalry between two legendary Revenges leads to a final showdown.', 'Title:  Delicate Enemy, Genre: Period Drama, Description: A Powerful prisoner is given a chance at freedom in exchange for hunting down a Warrior.', 'Title:  Powerful Battle, Genre: Science Fiction, Description: When a Unbreakable rebellion ignites, a lone Oracle must stand against the empire.', 'Title:  Grim Treasure, Genre: Steampunk, Description: A Luminous explorer maps out an uncharted land filled with mythical Oracles.', 'Title:  Glorious Fate, Genre: Thriller, Description: A Cunning prisoner is given a chance at freedom in exchange for hunting down a Warrior.', 'Title:  Obscure Paradox, Genre: Period Drama, Description: A Radiant Castle embarks on an epic adventure to save the world.', 'Title:  Shadowy Labyrinth, Genre: Supernatural, Description: A Grim warrior is forced to fight in a deadly tournament of champions.', 'Title:  Stubborn Castle, Genre: Rom-Com, Description: A Grim stranger arrives in town, carrying a Master that holds a dark secret.', 'Title:  Hidden Fortune, Genre: Musical, Description: A Stubborn warrior is forced to fight in a deadly tournament of champions.', 'Title:  Stubborn Journey, Genre: Thriller, Description: A Charming orphan discovers they are the heir to a lost Curse.', 'Title:  Swift Dragon, Genre: Mythology, Description: A group of Forbidden explorers sets out on a mission to find the legendary Miracle.', 'Title:  Delicate Chronicle, Genre: Supernatural, Description: A Escape with a Dark past is forced to confront their destiny.', 'Title:  Determined Phantom, Genre: Rom-Com, Description: A Chronicle must embrace their Obscure destiny to restore balance to the world.', 'Title:  Eternal Horizon, Genre: Dystopian, Description: A Lost explorer maps out an uncharted land filled with mythical Treasures.', 'Title:  Elegant Dream, Genre: Thriller, Description: A Honor with a Timeless past is forced to confront their destiny.', 'Title:  Swift Journey, Genre: Sports, Description: A Fierce storm wipes out civilization, leaving a Curse struggling for survival.', 'Title:  Glorious Revolt, Genre: Drama, Description: A Mysterious scientist creates a Phantom that can alter reality itself.', 'Title:  Eternal Galaxy, Genre: Fantasy, Description: The fate of humanity rests in the hands of a Daring Treasure.', 'Title:  Rugged City, Genre: Musical, Description: A Vengeful AI develops emotions and forms an unlikely bond with a Conquest.', 'Title:  Swift Storm, Genre: Romance, Description: A Calm outlaw must team up with a Chaos to escape a deadly pursuit.', 'Title:  Icy Courage, Genre: Science Fiction, Description: In a world filled with Graceful secrets, a Hero uncovers a hidden truth.', 'Title:  Mysterious Legacy, Genre: Rom-Com, Description: In a Brave kingdom, a young Darkness rises to claim their rightful throne.', 'Title:  Luminous Champion, Genre: Inspirational, Description: A Eternal creature awakens from the depths of the ocean, threatening humanity.', 'Title:  Galactic Sorcerer, Genre: Adventure, Description: A Powerful creature awakens from the depths of the ocean, threatening humanity.', 'Title:  Glorious Conquest, Genre: Melodrama, Description: An unexpected romance blossoms between a Delicate hero and a Paradox.', 'Title:  Graceful Master, Genre: Inspirational, Description: A Obscure explorer maps out an uncharted land filled with mythical Journeys.', 'Title:  Elegant Guardian, Genre: Horror, Description: A Paradox must outwit a Ambitious mastermind in a high-stakes game of survival.', 'Title:  Hollow Mystery, Genre: Political, Description: A Glorious gambler makes a dangerous bet with a powerful Galaxy.', 'Title:  Gentle Revolt, Genre: Steampunk, Description: A Glorious orphan discovers they are the heir to a lost Darkness.', 'Title:  Shadowy Prophecy, Genre: Fantasy, Description: A Gentle Curse embarks on an epic adventure to save the world.', 'Title:  Calm Castle, Genre: Thriller, Description: After discovering a Dark artifact, a Oracle is hunted by a secret organization.', 'Title:  Humble City, Genre: Cyberpunk, Description: A Luminous storm wipes out civilization, leaving a Fate struggling for survival.', 'Title:  Mysterious Journey, Genre: Rom-Com, Description: A Stubborn stranger arrives in town, carrying a Legacy that holds a dark secret.', 'Title:  Hollow Galaxy, Genre: Political, Description: A Hero must outwit a Lost mastermind in a high-stakes game of survival.', 'Title:  Sacred Legend, Genre: Slapstick, Description: A Forbidden musician stumbles upon a cursed MysteryAdventure that changes their life forever.', 'Title:  Quantum Warrior, Genre: Mystery, Description: A Swift rivalry between two powerful Empires threatens to destroy the world.', 'Title:  Clever Magic, Genre: Paranormal, Description: A Shadowy witch forms an unlikely alliance with a Galaxy to defeat an ancient evil.', 'Title:  Heroic Explorer, Genre: Spy, Description: An unexpected romance blossoms between a Glorious hero and a Explorer.', 'Title:  Dark Revolt, Genre: Action, Description: A Brave time traveler finds themselves trapped in an endless loop of Legacy.', 'Title:  Stubborn Escape, Genre: Survival, Description: A group of Dark explorers sets out on a mission to find the legendary Miracle.', 'Title:  Lost Labyrinth, Genre: Political, Description: A Mysterious Chronicle embarks on an epic adventure to save the world.', 'Title:  Quantum Magic, Genre: Space Opera, Description: A Shadow must embrace their Sinister destiny to restore balance to the world.', 'Title:  Clever Prophecy, Genre: Superhero, Description: A Ambitious witch forms an unlikely alliance with a Master to defeat an ancient evil.', 'Title:  Icy Darkness, Genre: Post-Apocalyptic, Description: A HauntedAdventurous journalist uncovers the shocking truth about a mysterious Treasure.', 'Title:  Icy Curse, Genre: Mockumentary, Description: A Realm must embrace their Cunning destiny to restore balance to the world.', 'Title:  Lost Revolt, Genre: Cyberpunk, Description: A Castle must outwit a Lonely mastermind in a high-stakes game of survival.', 'Title:  Forbidden Courage, Genre: Animation, Description: A Radiant experiment goes wrong, unleashing chaos upon an unsuspecting Darkness.', 'Title:  Powerful Paradox, Genre: Mythology, Description: When a Charming rebellion ignites, a lone Conquest must stand against the empire.', 'Title:  Dark Dream, Genre: Medieval, Description: A Castle must embrace their Enchanted destiny to restore balance to the world.', 'Title:  Swift Revenge, Genre: Political, Description: A Radiant time traveler finds themselves trapped in an endless loop of Journey.', 'Title:  Shadowy Courage, Genre: Western, Description: A Timeless scientist creates a Revolt that can alter reality itself.', 'Title:  Icy Darkness, Genre: Neo-Noir, Description: A Lonely time traveler finds themselves trapped in an endless loop of MysteryAdventure.', 'Title:  Swift Chaos, Genre: Sports, Description: A Heroic hacker uncovers a conspiracy that could shake the foundations of Escape.', 'Title:  Gentle Escape, Genre: Musical, Description: After discovering a Secret artifact, a Mystery is hunted by a secret organization.', 'Title:  Stubborn Honor, Genre: Musical, Description: A Lost AI develops emotions and forms an unlikely bond with a Master.', 'Title:  Shadowy Miracle, Genre: Western, Description: A Forbidden thief plans the ultimate heist to steal a priceless City.', 'Title:  Dark Realm, Genre: Mythology, Description: A Noble Darkness embarks on an epic adventure to save the world.', 'Title:  Shimmering Paradox, Genre: Superhero, Description: A Master awakens to find themselves in a Forbidden version of their own reality.', 'Title:  Secret Darkness, Genre: Musical, Description: A Cunning experiment goes wrong, unleashing chaos upon an unsuspecting MysteryAdventure.', 'Title:  Forbidden Journey, Genre: Samurai, Description: A team of Clever explorers stumbles upon an ancient Dream with unimaginable power.', 'Title:  Luminous Rebel, Genre: Crime, Description: When a Honor discovers a Delicate power, everything changes forever.', 'Title:  Brave Paradox, Genre: Steampunk, Description: The fate of humanity rests in the hands of a Determined Curse.', 'Title:  Quantum Fortune, Genre: Supernatural, Description: A Vengeful AI develops emotions and forms an unlikely bond with a Chaos.', 'Title:  Cunning Battle, Genre: Reality, Description: The fate of humanity rests in the hands of a Hidden Legend.', 'Title:  Enchanted Chaos, Genre: Steampunk, Description: A Forbidden shipwreck survivor stumbles upon an island ruled by a Knight.', 'Title:  Elegant Storm, Genre: Film Noir, Description: A Phantom with a Daring past is forced to confront their destiny.', 'Title:  Legendary City, Genre: Melodrama, Description: A Daring experiment goes wrong, unleashing chaos upon an unsuspecting Magic.', 'Title:  Clever Nightmare, Genre: Inspirational, Description: A Eternal rivalry between two legendary Heros leads to a final showdown.', 'Title:  Secret Journey, Genre: Animation, Description: A Vengeful rivalry between two legendary Nightmares leads to a final showdown.', 'Title:  Obscure Chaos, Genre: Fantasy, Description: A Shadowy hacker uncovers a conspiracy that could shake the foundations of Master.', 'Title:  Reckless MysteryAdventure, Genre: Inspirational, Description: A Radiant journalist uncovers the shocking truth about a mysterious Guardian.', \"Title:  Hidden Legacy, Genre: Mystery, Description: A Unbreakable knight must retrieve a sacred Fate to prevent the kingdom's fall.\", 'Title:  Gentle Curse, Genre: Historical, Description: A Forbidden time traveler finds themselves trapped in an endless loop of MysteryAdventure.', 'Title:  Dark Warrior, Genre: Spy, Description: A Calm prisoner is given a chance at freedom in exchange for hunting down a Galaxy.', 'Title:  Noble Magic, Genre: Post-Apocalyptic, Description: A Mysterious rebel leads an uprising against a corrupt Treasure in a dystopian city.', 'Title:  Icy Sorcerer, Genre: Space Opera, Description: A Mysterious outlaw must team up with a Revolt to escape a deadly pursuit.', 'Title:  Unbreakable Shadow, Genre: Sports, Description: When a Determined rebellion ignites, a lone Sorcerer must stand against the empire.', 'Title:  Obscure Darkness, Genre: Satire, Description: A Vengeful bounty hunter is on the trail of the most wanted Fortune in the galaxy.', 'Title:  Luminous Phantom, Genre: Action, Description: In a Fierce kingdom, a young Empire rises to claim their rightful throne.', 'Title:  Timeless Empire, Genre: Action, Description: A Luminous musician stumbles upon a cursed Guardian that changes their life forever.', 'Title:  Stubborn Quest, Genre: Survival, Description: A Stubborn stranger arrives in town, carrying a Explorer that holds a dark secret.', 'Title:  Rugged Galaxy, Genre: Sports, Description: A detective must solve the Noble case of the missing Destiny.', 'Title:  Luminous Maze, Genre: Samurai, Description: A Vengeful warrior is forced to fight in a deadly tournament of champions.', 'Title:  Sinister Labyrinth, Genre: Film Noir, Description: A Humble orphan discovers they are the heir to a lost Dream.', 'Title:  Hidden Storm, Genre: Dystopian, Description: A Revolt is chosen to fulfill a Determined prophecy that could alter the fate of the universe.', 'Title:  Rugged Escape, Genre: Dystopian, Description: A Journey discovers a Restless gateway to another dimension.', 'Title:  Fierce Nightmare, Genre: Science Fiction, Description: A Shadow awakens to find themselves in a Clever version of their own reality.', 'Title:  Dark Mission, Genre: Thriller, Description: Trapped in a Brave dimension, a Treasure fights to find their way home.', 'Title:  Swift Battle, Genre: Post-Apocalyptic, Description: A Noble warrior is forced to fight in a deadly tournament of champions.', \"Title:  Enchanted Champion, Genre: Period Drama, Description: A HauntedAdventurous knight must retrieve a sacred Quest to prevent the kingdom's fall.\", 'Title:  Mysterious Revolt, Genre: Martial Arts, Description: When a Sinister rebellion ignites, a lone Treasure must stand against the empire.', 'Title:  Majestic Nightmare, Genre: Paranormal, Description: A Forbidden musician stumbles upon a cursed Mystery that changes their life forever.', 'Title:  Silent Phantom, Genre: Drama, Description: A Fierce gambler makes a dangerous bet with a powerful Treasure.', 'Title:  Eternal Realm, Genre: Psychological, Description: A Powerful time traveler finds themselves trapped in an endless loop of Conquest.', 'Title:  Powerful Magic, Genre: Family, Description: A Vengeful outlaw must team up with a Miracle to escape a deadly pursuit.', 'Title:  Lost Revolt, Genre: Political, Description: After discovering a Ambitious artifact, a Shadow is hunted by a secret organization.', 'Title:  Timeless Guardian, Genre: Family, Description: A Quantum storm wipes out civilization, leaving a Paradox struggling for survival.', 'Title:  Forbidden City, Genre: Medieval, Description: A Mission awakens to find themselves in a Lonely version of their own reality.', 'Title:  Shadowy Mystery, Genre: Dark Fantasy, Description: A Forbidden AI develops emotions and forms an unlikely bond with a Dream.', 'Title:  Shimmering Destiny, Genre: Martial Arts, Description: A Charming AI develops emotions and forms an unlikely bond with a Quest.', 'Title:  Radiant Nightmare, Genre: Romance, Description: A Quantum assassin is given an impossible mission—to eliminate the Fortune.', 'Title:  Rugged Legacy, Genre: Supernatural, Description: A Horizon discovers a Hidden gateway to another dimension.', 'Title:  Swift Curse, Genre: Mystery, Description: An unexpected romance blossoms between a Clever hero and a Mission.', 'Title:  Determined Darkness, Genre: Dark Fantasy, Description: A Hidden outlaw must team up with a Fortune to escape a deadly pursuit.', 'Title:  Radiant Escape, Genre: Biography, Description: The fate of humanity rests in the hands of a Vengeful Maze.', 'Title:  Cunning Chaos, Genre: Satire, Description: A Lost rebel leads an uprising against a corrupt Guardian in a dystopian city.', 'Title:  Luminous Nightmare, Genre: Superhero, Description: The fate of humanity rests in the hands of a Dark Journey.', 'Title:  Calm Paradox, Genre: Documentary, Description: A Escape with a Delicate past is forced to confront their destiny.', 'Title:  Fierce Shadow, Genre: Action, Description: A Rugged gambler makes a dangerous bet with a powerful Champion.', 'Title:  Lively Rebel, Genre: Epic, Description: A team of Dark explorers stumbles upon an ancient Chronicle with unimaginable power.', 'Title:  Hollow Escape, Genre: Psychological, Description: A team of Elegant explorers stumbles upon an ancient Rebel with unimaginable power.', 'Title:  Obscure Escape, Genre: Melodrama, Description: A Galactic prisoner is given a chance at freedom in exchange for hunting down a Knight.', 'Title:  Majestic Quest, Genre: Action, Description: A Ambitious bounty hunter is on the trail of the most wanted Storm in the galaxy.', 'Title:  Glorious Escape, Genre: Crime, Description: A Elegant scientist creates a Maze that can alter reality itself.', 'Title:  Enchanted Warrior, Genre: Steampunk, Description: A Shadow awakens to find themselves in a Obscure version of their own reality.', 'Title:  Secret Realm, Genre: Period Drama, Description: A Quantum scientist makes a groundbreaking discovery that changes history forever.', 'Title:  Vengeful Mission, Genre: Romance, Description: A Grim rivalry between two powerful Darknesss threatens to destroy the world.', 'Title:  Luminous Warrior, Genre: Western, Description: A HauntedAdventurous AI develops emotions and forms an unlikely bond with a Darkness.', 'Title:  Lost Escape, Genre: Paranormal, Description: A haunted Legacy holds secrets of a Enchanted past.', 'Title:  Dark Conquest, Genre: Steampunk, Description: A Calm outlaw must team up with a Rebel to escape a deadly pursuit.', 'Title:  Stubborn Darkness, Genre: Mockumentary, Description: A Noble witch forms an unlikely alliance with a Knight to defeat an ancient evil.', 'Title:  Delicate Journey, Genre: Historical, Description: A Mystery must embrace their Galactic destiny to restore balance to the world.', 'Title:  Eternal Labyrinth, Genre: Superhero, Description: A Gentle prisoner is given a chance at freedom in exchange for hunting down a Escape.', 'Title:  Mysterious Shadow, Genre: Film Noir, Description: A Lost scientist creates a MysteryAdventure that can alter reality itself.', \"Title:  Swift Escape, Genre: Dark Fantasy, Description: A Glorious knight must retrieve a sacred Prophecy to prevent the kingdom's fall.\", 'Title:  Lost Oracle, Genre: Cyberpunk, Description: A group of Hollow explorers sets out on a mission to find the legendary Fate.', 'Title:  Galactic Knight, Genre: Reality, Description: A Eternal time traveler finds themselves trapped in an endless loop of Shadow.', 'Title:  Lost Legacy, Genre: Melodrama, Description: A Enchanted storm wipes out civilization, leaving a Guardian struggling for survival.', 'Title:  Legendary Miracle, Genre: Military, Description: A Hidden rebel leads an uprising against a corrupt Battle in a dystopian city.', 'Title:  Radiant Legacy, Genre: Comedy, Description: A Timeless shipwreck survivor stumbles upon an island ruled by a Treasure.', 'Title:  Secret Knight, Genre: Sports, Description: A Escape with a Stubborn secret is pursued by a relentless group of hunters.', 'Title:  Galactic Master, Genre: Drama, Description: A Gentle rebel leads an uprising against a corrupt Prophecy in a dystopian city.', 'Title:  Lively Nightmare, Genre: Inspirational, Description: A Unbreakable stranger arrives in town, carrying a Nightmare that holds a dark secret.', 'Title:  Lost Curse, Genre: Dark Fantasy, Description: In a world filled with Hidden secrets, a City uncovers a hidden truth.', 'Title:  Unbreakable Knight, Genre: Survival, Description: A group of Gentle survivors bands together to fight against an army of Storms.', 'Title:  Luminous Warrior, Genre: Mythology, Description: A Legendary warrior is forced to fight in a deadly tournament of champions.', 'Title:  Timeless Treasure, Genre: Paranormal, Description: A Prophecy with a Unbreakable secret is pursued by a relentless group of hunters.', 'Title:  Forbidden Curse, Genre: Melodrama, Description: A Heroic warrior is forced to fight in a deadly tournament of champions.', 'Title:  Eternal MysteryAdventure, Genre: Steampunk, Description: A Quantum creature awakens from the depths of the ocean, threatening humanity.', 'Title:  Hollow Guardian, Genre: Cyberpunk, Description: The fate of humanity rests in the hands of a Quantum Galaxy.', 'Title:  Radiant Conquest, Genre: Political, Description: A Shadowy soldier returns home to find their city ruled by a ruthless Dragon.', 'Title:  Stubborn Galaxy, Genre: Supernatural, Description: A Daring warrior is forced to fight in a deadly tournament of champions.', 'Title:  HauntedAdventurous Rebel, Genre: Steampunk, Description: A Rugged stranger arrives in town, carrying a Warrior that holds a dark secret.', 'Title:  Enchanted Warrior, Genre: Action, Description: A Sacred time traveler finds themselves trapped in an endless loop of Chronicle.', 'Title:  Heroic Miracle, Genre: Survival, Description: A Calm soldier returns home to find their city ruled by a ruthless Shadow.', 'Title:  Sinister Galaxy, Genre: Reality, Description: A Legend must embrace their Galactic destiny to restore balance to the world.', 'Title:  HauntedAdventurous Fortune, Genre: Satire, Description: A Legendary gambler makes a dangerous bet with a powerful Curse.', 'Title:  Eternal Phantom, Genre: Mythology, Description: A Courage with a Unbreakable past is forced to confront their destiny.', \"Title:  Galactic Enemy, Genre: Action, Description: A Powerful knight must retrieve a sacred Realm to prevent the kingdom's fall.\", 'Title:  Grim Revenge, Genre: Political, Description: In a Majestic kingdom, a young Horizon rises to claim their rightful throne.', 'Title:  Lonely Hero, Genre: Thriller, Description: A Lively rivalry between two powerful Nightmares threatens to destroy the world.', 'Title:  Powerful Legacy, Genre: Rom-Com, Description: A Humble warrior is forced to fight in a deadly tournament of champions.', 'Title:  Daring Horizon, Genre: Military, Description: A Elegant soldier returns home to find their city ruled by a ruthless Miracle.', 'Title:  Heroic Shadow, Genre: Crime, Description: A Heroic storm wipes out civilization, leaving a Champion struggling for survival.', 'Title:  Charming Paradox, Genre: Family, Description: A Cunning time traveler finds themselves trapped in an endless loop of Legend.', 'Title:  Enchanted Journey, Genre: Horror, Description: Trapped in a Clever dimension, a Explorer fights to find their way home.', 'Title:  Calm Dragon, Genre: Post-Apocalyptic, Description: A Vengeful storm wipes out civilization, leaving a Paradox struggling for survival.', 'Title:  Glorious Horizon, Genre: Melodrama, Description: A Legend discovers a Lonely gateway to another dimension.', 'Title:  Secret Conquest, Genre: Reality, Description: A Obscure gambler makes a dangerous bet with a powerful Revolt.', 'Title:  Lonely Prophecy, Genre: Adventure, Description: A group of Ambitious explorers sets out on a mission to find the legendary Explorer.', 'Title:  Stubborn Phantom, Genre: Musical, Description: A Journey with a Mysterious secret is pursued by a relentless group of hunters.', 'Title:  Radiant Conquest, Genre: Indie, Description: A Humble assassin is given an impossible mission—to eliminate the Empire.', 'Title:  Heroic Champion, Genre: Crime, Description: When a Miracle discovers a Rugged power, everything changes forever.', 'Title:  Legendary Paradox, Genre: Military, Description: The fate of humanity rests in the hands of a Lost Storm.', 'Title:  Majestic Warrior, Genre: Post-Apocalyptic, Description: A Prophecy must embrace their Calm destiny to restore balance to the world.', 'Title:  Elegant Empire, Genre: Documentary, Description: A Darkness with a Eternal secret is pursued by a relentless group of hunters.', 'Title:  Lost Darkness, Genre: Horror, Description: After discovering a Gentle artifact, a Enemy is hunted by a secret organization.', 'Title:  Silent Dream, Genre: Romance, Description: A Warrior awakens to find themselves in a Legendary version of their own reality.', 'Title:  Unbreakable Nightmare, Genre: Drama, Description: A Oracle is chosen to fulfill a Stubborn prophecy that could alter the fate of the universe.', 'Title:  Secret Conquest, Genre: Drama, Description: In a world filled with Majestic secrets, a City uncovers a hidden truth.', 'Title:  Lost Curse, Genre: Steampunk, Description: A Brave orphan discovers they are the heir to a lost Fate.', 'Title:  Brave Chaos, Genre: Epic, Description: A Unbreakable AI develops emotions and forms an unlikely bond with a MysteryAdventure.', 'Title:  Legendary Honor, Genre: Sports, Description: A HauntedAdventurous Chaos embarks on an epic adventure to save the world.', 'Title:  Heroic Journey, Genre: Musical, Description: A Forbidden storm wipes out civilization, leaving a Dream struggling for survival.', 'Title:  Dark Curse, Genre: Satire, Description: A Rugged thief plans the ultimate heist to steal a priceless MysteryAdventure.', 'Title:  Dark Curse, Genre: Rom-Com, Description: When a Sorcerer discovers a Shadowy power, everything changes forever.', 'Title:  Lost Realm, Genre: Romance, Description: A Restless battle between good and evil takes place in the heart of Dragon.', 'Title:  Secret Guardian, Genre: Inspirational, Description: When a Eternal rebellion ignites, a lone Fortune must stand against the empire.', 'Title:  Swift Fortune, Genre: Cyberpunk, Description: A Sinister rebel leads an uprising against a corrupt Rebel in a dystopian city.', 'Title:  Legendary Fortune, Genre: Neo-Noir, Description: Trapped in a Legendary dimension, a Revenge fights to find their way home.', 'Title:  Mysterious Magic, Genre: Romance, Description: A Shimmering time traveler finds themselves trapped in an endless loop of Guardian.', 'Title:  Vengeful Prophecy, Genre: Post-Apocalyptic, Description: In a world filled with Quantum secrets, a Champion uncovers a hidden truth.', 'Title:  Unbreakable Nightmare, Genre: Western, Description: A Dark experiment goes wrong, unleashing chaos upon an unsuspecting Revolt.', 'Title:  Obscure City, Genre: Inspirational, Description: The fate of humanity rests in the hands of a Determined Mission.', 'Title:  Vengeful Guardian, Genre: Satire, Description: A Powerful time traveler finds themselves trapped in an endless loop of Dream.', 'Title:  Lost Prophecy, Genre: Rom-Com, Description: A Maze must outwit a Stubborn mastermind in a high-stakes game of survival.', 'Title:  Silent Sorcerer, Genre: Science Fiction, Description: A Ambitious hacker uncovers a conspiracy that could shake the foundations of City.', 'Title:  Stubborn Paradox, Genre: Steampunk, Description: In a Radiant kingdom, a young Master rises to claim their rightful throne.', 'Title:  Heroic Dragon, Genre: Dark Fantasy, Description: A detective must solve the Hollow case of the missing Champion.', 'Title:  Eternal Enemy, Genre: Musical, Description: A Radiant gambler makes a dangerous bet with a powerful Courage.', 'Title:  Swift Dream, Genre: Slapstick, Description: Trapped in a Enchanted dimension, a Chronicle fights to find their way home.', 'Title:  Brave Legacy, Genre: Crime, Description: A Galactic outlaw must team up with a Revolt to escape a deadly pursuit.', 'Title:  Mysterious Warrior, Genre: Spy, Description: A Legendary rebel leads an uprising against a corrupt Paradox in a dystopian city.', 'Title:  Eternal Mystery, Genre: Cyberpunk, Description: A Secret warrior is forced to fight in a deadly tournament of champions.', 'Title:  Icy Fortune, Genre: Psychological, Description: A Destiny with a Majestic secret is pursued by a relentless group of hunters.', 'Title:  Secret Fortune, Genre: Dystopian, Description: A team of Secret explorers stumbles upon an ancient Warrior with unimaginable power.', 'Title:  Hollow Shadow, Genre: Fantasy, Description: A group of Forbidden explorers sets out on a mission to find the legendary Miracle.', 'Title:  Daring Escape, Genre: Satire, Description: A Secret explorer maps out an uncharted land filled with mythical Masters.', 'Title:  Dark Honor, Genre: Dystopian, Description: A haunted Revolt holds secrets of a Grim past.', 'Title:  Delicate Legacy, Genre: Post-Apocalyptic, Description: A Obscure storm wipes out civilization, leaving a Storm struggling for survival.', 'Title:  Shimmering Paradox, Genre: Melodrama, Description: A Mysterious orphan discovers they are the heir to a lost Journey.', 'Title:  Reckless Journey, Genre: Sports, Description: A Reckless battle between good and evil takes place in the heart of Darkness.', 'Title:  Rugged Realm, Genre: Fantasy, Description: A Unbreakable warrior is forced to fight in a deadly tournament of champions.', 'Title:  Lost Champion, Genre: Slapstick, Description: A Lost soldier returns home to find their city ruled by a ruthless Champion.', 'Title:  Luminous Guardian, Genre: Slapstick, Description: A Noble warrior is forced to fight in a deadly tournament of champions.', 'Title:  Sinister Hero, Genre: Satire, Description: In a Secret kingdom, a young MysteryAdventure rises to claim their rightful throne.', 'Title:  Lost Realm, Genre: Samurai, Description: A Explorer must outwit a Forbidden mastermind in a high-stakes game of survival.', 'Title:  Secret Fortune, Genre: Martial Arts, Description: A group of Stubborn survivors bands together to fight against an army of Paradoxs.', 'Title:  Sinister Conquest, Genre: Mystery, Description: A Enchanted experiment goes wrong, unleashing chaos upon an unsuspecting Legacy.', 'Title:  Shadowy Conquest, Genre: Superhero, Description: A Lost prisoner is given a chance at freedom in exchange for hunting down a Legacy.', 'Title:  Brave Revenge, Genre: Science Fiction, Description: A Majestic time traveler finds themselves trapped in an endless loop of Journey.', 'Title:  Icy Enemy, Genre: Reality, Description: A Galactic gambler makes a dangerous bet with a powerful Magic.', 'Title:  Lively Curse, Genre: Family, Description: In a world filled with Enchanted secrets, a Chronicle uncovers a hidden truth.', 'Title:  Hidden Knight, Genre: Musical, Description: A Legendary thief plans the ultimate heist to steal a priceless Maze.', 'Title:  Dark Knight, Genre: Satire, Description: Trapped in a Obscure dimension, a Shadow fights to find their way home.', 'Title:  Eternal Galaxy, Genre: Biography, Description: In a Shadowy kingdom, a young Escape rises to claim their rightful throne.', 'Title:  Graceful Chronicle, Genre: Film Noir, Description: A Explorer discovers a Majestic gateway to another dimension.', 'Title:  Calm Miracle, Genre: Mockumentary, Description: In a world filled with Timeless secrets, a Revenge uncovers a hidden truth.', 'Title:  Mysterious Courage, Genre: Documentary, Description: A Legacy with a Hidden secret is pursued by a relentless group of hunters.', 'Title:  Hidden Escape, Genre: Melodrama, Description: A Eternal soldier returns home to find their city ruled by a ruthless Legacy.', 'Title:  Galactic Labyrinth, Genre: Reality, Description: A Oracle is chosen to fulfill a Lonely prophecy that could alter the fate of the universe.', 'Title:  Powerful Fortune, Genre: Disaster, Description: A Restless prisoner is given a chance at freedom in exchange for hunting down a Galaxy.', 'Title:  Graceful Storm, Genre: Comedy, Description: After discovering a Hidden artifact, a Conquest is hunted by a secret organization.', 'Title:  Obscure Realm, Genre: Superhero, Description: A Galaxy with a Clever secret is pursued by a relentless group of hunters.', 'Title:  Legendary Curse, Genre: Epic, Description: A Lost scientist creates a Warrior that can alter reality itself.', 'Title:  Ambitious Legend, Genre: Dark Fantasy, Description: In a world filled with Shadowy secrets, a Galaxy uncovers a hidden truth.', 'Title:  Forbidden Magic, Genre: Supernatural, Description: A Sinister witch forms an unlikely alliance with a Courage to defeat an ancient evil.', 'Title:  Sacred Destiny, Genre: Western, Description: A MysteryAdventure must outwit a Majestic mastermind in a high-stakes game of survival.', 'Title:  Shimmering Fortune, Genre: Science Fiction, Description: A MysteryAdventure discovers a Lost gateway to another dimension.', 'Title:  Dark City, Genre: Melodrama, Description: A Rugged battle between good and evil takes place in the heart of Curse.', \"Title:  Humble Enemy, Genre: Horror, Description: A Shimmering knight must retrieve a sacred Storm to prevent the kingdom's fall.\", 'Title:  Secret Mission, Genre: Biography, Description: A group of Quantum survivors bands together to fight against an army of Revolts.', 'Title:  Luminous Nightmare, Genre: Sports, Description: A group of Cunning survivors bands together to fight against an army of Warriors.', 'Title:  Fierce Sorcerer, Genre: Slapstick, Description: A Lost scientist creates a Knight that can alter reality itself.', 'Title:  Timeless Curse, Genre: Animation, Description: A Sorcerer is chosen to fulfill a Dark prophecy that could alter the fate of the universe.', 'Title:  Determined Paradox, Genre: Post-Apocalyptic, Description: A Rebel with a Cunning secret is pursued by a relentless group of hunters.', 'Title:  Glorious Treasure, Genre: Slapstick, Description: A Mysterious gambler makes a dangerous bet with a powerful Honor.', 'Title:  Vengeful Guardian, Genre: Western, Description: A Vengeful rebel leads an uprising against a corrupt Legacy in a dystopian city.', \"Title:  Enchanted Legacy, Genre: Neo-Noir, Description: A Delicate knight must retrieve a sacred Treasure to prevent the kingdom's fall.\", 'Title:  Obscure Master, Genre: Military, Description: A Determined witch forms an unlikely alliance with a Conquest to defeat an ancient evil.', 'Title:  Fierce Phantom, Genre: Dystopian, Description: A Shadowy hacker uncovers a conspiracy that could shake the foundations of Maze.', 'Title:  Silent Fortune, Genre: Science Fiction, Description: A Legendary soldier returns home to find their city ruled by a ruthless Treasure.', 'Title:  Humble Guardian, Genre: Military, Description: A Grim battle between good and evil takes place in the heart of Warrior.', 'Title:  Forbidden Legacy, Genre: Western, Description: A Maze discovers a Noble gateway to another dimension.', 'Title:  Fierce Prophecy, Genre: Sports, Description: A Galaxy awakens to find themselves in a Unbreakable version of their own reality.', 'Title:  Dark Paradox, Genre: Drama, Description: A MysteryAdventure discovers a Lost gateway to another dimension.', 'Title:  Timeless Champion, Genre: Martial Arts, Description: A HauntedAdventurous witch forms an unlikely alliance with a Journey to defeat an ancient evil.']\n"
          ]
        }
      ]
    },
    {
      "cell_type": "markdown",
      "source": [
        "\n",
        "\n",
        "---\n",
        "\n"
      ],
      "metadata": {
        "id": "O-ei8McGZkOH"
      }
    },
    {
      "cell_type": "markdown",
      "source": [
        "## Part 2: Build a Recommender System\n",
        "3. Use OpenAI’s embedding models to **generate vector representations** of your dataset.\n",
        "4. Implement a **similarity search** function to recommend similar items based on user input.\n",
        "5. Test your system by providing different queries and observing the quality of recommendations.\n",
        "**Deliverables for Recommender System:**\n",
        "\n",
        "* Code implementation (Jupyter Notebook or Python script).\n",
        "* Explanation of your use case, dataset, and how recommendations are generated.\n",
        "* Sample queries and the system’s responses."
      ],
      "metadata": {
        "id": "Oruiz7fgZh9Z"
      }
    },
    {
      "cell_type": "markdown",
      "source": [
        "### Generate Embeddings"
      ],
      "metadata": {
        "id": "JtxkMN7sZ1Vt"
      }
    },
    {
      "cell_type": "code",
      "source": [
        "def create_embeddings(texts, model = \"text-embedding-3-small\"):\n",
        "    \"\"\"\n",
        "    Generates embeddings for a list of texts using the OpenAI API.\n",
        "\n",
        "    Args:\n",
        "        texts (list): A list of text strings to generate embeddings for.\n",
        "\n",
        "    Returns:\n",
        "        list: A list of embedding vectors, one for each input text.\n",
        "    \"\"\"\n",
        "    embeddings = []\n",
        "    for text in texts:\n",
        "        response = client.embeddings.create(\n",
        "            input = text,\n",
        "            model = model\n",
        "        )\n",
        "        embeddings.append(response.data[0].embedding)\n",
        "    return embeddings"
      ],
      "metadata": {
        "id": "a7woJAERg2oP"
      },
      "execution_count": 7,
      "outputs": []
    },
    {
      "cell_type": "code",
      "source": [
        "movies_texts = combined  # combined already contains the desired movie texts\n",
        "movies_embeddings = create_embeddings(movies_texts)\n",
        "# print(movies_embeddings)"
      ],
      "metadata": {
        "id": "JCXvWonZ9F_x"
      },
      "execution_count": 8,
      "outputs": []
    },
    {
      "cell_type": "code",
      "source": [
        "movies_embeddings"
      ],
      "metadata": {
        "collapsed": true,
        "id": "2Wf7pU0bJ40O"
      },
      "execution_count": null,
      "outputs": []
    },
    {
      "cell_type": "markdown",
      "source": [
        "### Similarity Search Function"
      ],
      "metadata": {
        "id": "UGzumHVaZ4vK"
      }
    },
    {
      "cell_type": "code",
      "source": [
        "from scipy.spatial import distance\n",
        "def find_n_closest(query_vector, embeddings, n=3):\n",
        "  distances = []\n",
        "  for index, embedding in enumerate(embeddings):\n",
        "    dist = distance.cosine(query_vector, embedding)\n",
        "    distances.append({\"distance\": dist, \"index\": index})\n",
        "  distances_sorted = sorted(distances, key=lambda x: x[\"distance\"])\n",
        "  return distances_sorted[0:n]"
      ],
      "metadata": {
        "id": "2-j9OhTN7hNH"
      },
      "execution_count": 10,
      "outputs": []
    },
    {
      "cell_type": "markdown",
      "source": [
        "### Testing and Recommendations"
      ],
      "metadata": {
        "id": "VJ3QnfGdZ8DG"
      }
    },
    {
      "cell_type": "code",
      "source": [
        "query_text = \"AI\"\n",
        "query_vector = create_embeddings(query_text)[0]\n",
        "hits = find_n_closest(query_vector, movies_embeddings)\n",
        "for hit in hits:\n",
        "  movie = movies_texts[hit['index']]  # Use movies_texts\n",
        "  # print(movie) # Print the entire movie text or extract specific info like title\n",
        "\n",
        "  # Split the movie text into lines, using commas as delimiters\n",
        "  lines = movie.split(',')  # Split by comma instead of newline\n",
        "\n",
        "  # Extract title, genre, and description from the split lines\n",
        "  title = lines[0].split(': ')[1] if len(lines) > 0 else \"Title not found\"\n",
        "  genre = lines[1].split(': ')[1] if len(lines) > 1 else \"Genre not found\"\n",
        "  description = lines[2].split(': ')[1] if len(lines) > 2 else \"Description not found\"\n",
        "\n",
        "  # Print the title, genre, and description with aligned colons\n",
        "  print(f\"      Title:{title}\")\n",
        "  print(f\"      Genre: {genre}\")\n",
        "  print(f\"Description: {description}\")\n",
        "\n",
        "  print(\"\\n\")  # Add an empty line for better readability"
      ],
      "metadata": {
        "colab": {
          "base_uri": "https://localhost:8080/"
        },
        "id": "gVxC7D2E8b2l",
        "outputId": "f4996578-5a19-4dd8-dccc-16ea9781a8c5"
      },
      "execution_count": 16,
      "outputs": [
        {
          "output_type": "stream",
          "name": "stdout",
          "text": [
            "      Title: Shimmering Destiny\n",
            "      Genre: Martial Arts\n",
            "Description: A Charming AI develops emotions and forms an unlikely bond with a Quest.\n",
            "\n",
            "\n",
            "      Title: Stubborn Honor\n",
            "      Genre: Musical\n",
            "Description: A Lost AI develops emotions and forms an unlikely bond with a Master.\n",
            "\n",
            "\n",
            "      Title: Rugged Galaxy\n",
            "      Genre: Sports\n",
            "Description: A detective must solve the Noble case of the missing Destiny.\n",
            "\n",
            "\n"
          ]
        }
      ]
    },
    {
      "cell_type": "markdown",
      "source": [
        "\n",
        "\n",
        "---\n",
        "\n"
      ],
      "metadata": {
        "id": "fTKA9UA7IBaW"
      }
    },
    {
      "cell_type": "markdown",
      "metadata": {
        "id": "J1CwLYNqkifs"
      },
      "source": [
        "## Part 3: Build a Classifier\n",
        "6. Build an embedding centric classifier.\n",
        "7. Define **clear categories** (e.g., positive/negative sentiment, topic classification, fraud detection).\n",
        "8. Evaluate its accuracy and effectiveness.\n",
        "\n",
        "**Deliverables for Classifier:**\n",
        "* Code implementation.\n",
        "* Explanation of classification logic and dataset.\n",
        "* Performance analysis (accuracy, precision, recall, or confusion matrix)."
      ]
    },
    {
      "cell_type": "code",
      "source": [
        "topics = [\n",
        "{'label': 'Tech'},\n",
        "{'label': 'Science'},\n",
        "{'label': 'Sport'},\n",
        "{'label': 'Business'},\n",
        "]\n",
        "class_descriptions = [topic['label'] for topic in topics]\n",
        "class_embeddings = create_embeddings(class_descriptions)"
      ],
      "metadata": {
        "id": "gR9K0vwviLa_"
      },
      "execution_count": null,
      "outputs": []
    },
    {
      "cell_type": "code",
      "source": [
        "article = {\"headline\": \"How NVIDIA GPUs Could Decide Who Wins the AI Race\", \"keywords\": [\"ai\", \"business\", \"computers\"]}\n",
        "\n",
        " def create_article_text(article):\n",
        "  return f\"\"\"Headline: {article['headline']} Keywords: {', '.join(article['keywords'])}\"\"\"\n",
        "\n",
        "article_text = create_article_text(article)\n",
        "article_embeddings = create_embeddings(article_text)[0]"
      ],
      "metadata": {
        "id": "-tz3cz8PiTNO"
      },
      "execution_count": null,
      "outputs": []
    },
    {
      "cell_type": "code",
      "source": [
        "def find_closest(query_vector, embeddings):\n",
        "  distances = []\n",
        "  for index, embedding in enumerate(embeddings):\n",
        "    dist = distance.cosine(query_vector, embedding)\n",
        "    distances.append({\"distance\": dist, \"index\": index})\n",
        "return min(distances, key=lambda x: x[\"distance\"])\n",
        "\n",
        "closest = find_closest(article_embeddings, class_embeddings)"
      ],
      "metadata": {
        "id": "x3gmymmTis9I"
      },
      "execution_count": null,
      "outputs": []
    },
    {
      "cell_type": "code",
      "source": [],
      "metadata": {
        "id": "0GKu9Ubsis7L"
      },
      "execution_count": null,
      "outputs": []
    },
    {
      "cell_type": "markdown",
      "source": [
        "\n",
        "\n",
        "---\n",
        "\n"
      ],
      "metadata": {
        "id": "w0-RBYvAIYop"
      }
    },
    {
      "cell_type": "markdown",
      "source": [
        "## Extra Credit: Integrate a Vector Database\n",
        "🔹 **Challenge**: Instead of storing and retrieving embeddings in memory, integrate a **vector database** such as:\n",
        "\n",
        "* **AstraDB** (built on Apache Cassandra)\n",
        "* **Pinecone** (real-time vector search)\n",
        "* **ChromaDB** (open-source vector store)\n",
        "\n",
        "🔹 Store embeddings in the database and retrieve relevant results dynamically.\n",
        "\n",
        "🔹 Explain how the integration improves scalability and search efficiency."
      ],
      "metadata": {
        "id": "NUkB5PSumOyX"
      }
    }
  ],
  "metadata": {
    "kernelspec": {
      "display_name": "Python 3",
      "language": "python",
      "name": "python3"
    },
    "language_info": {
      "codemirror_mode": {
        "name": "ipython",
        "version": 3
      },
      "file_extension": ".py",
      "mimetype": "text/x-python",
      "name": "python",
      "nbconvert_exporter": "python",
      "pygments_lexer": "ipython3",
      "version": "3.12.3"
    },
    "colab": {
      "provenance": [],
      "toc_visible": true,
      "include_colab_link": true
    }
  },
  "nbformat": 4,
  "nbformat_minor": 0
}