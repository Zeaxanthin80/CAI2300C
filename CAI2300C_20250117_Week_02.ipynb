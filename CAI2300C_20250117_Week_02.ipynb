{
  "cells": [
    {
      "cell_type": "markdown",
      "metadata": {
        "id": "view-in-github",
        "colab_type": "text"
      },
      "source": [
        "<a href=\"https://colab.research.google.com/github/Zeaxanthin80/CAI2300C/blob/main/CAI2300C_20250117_Week_02.ipynb\" target=\"_parent\"><img src=\"https://colab.research.google.com/assets/colab-badge.svg\" alt=\"Open In Colab\"/></a>"
      ]
    },
    {
      "cell_type": "markdown",
      "metadata": {
        "id": "C6f0LbUczmIe"
      },
      "source": [
        "## No class tonight: 1/17/2025\n",
        "\n",
        "Hello Team,\n",
        "\n",
        "Sorry for the late notice but I wanted to make sure everyone is aware that the college is closed (as of 5PM EST) so there will NOT be class tonight.\n",
        "\n",
        "Please read this article:\n",
        "\n",
        "https://drlee.io/understanding-bag-of-words-and-tf-idf-a-beginner-friendly-guide-17934295835a\n",
        "\n",
        "and read Chapter 2 in your textbook to prepare for the next class. We will be covering Bag of Words and TF/IDF Vectorization... the foundation of most NLP techniques.\n",
        "\n",
        "Enjoy your break!\n",
        "\n",
        "Kind Regards,\n",
        "\n",
        "Dr. Lee"
      ]
    }
  ],
  "metadata": {
    "language_info": {
      "name": "python"
    },
    "colab": {
      "provenance": [],
      "include_colab_link": true
    }
  },
  "nbformat": 4,
  "nbformat_minor": 0
}