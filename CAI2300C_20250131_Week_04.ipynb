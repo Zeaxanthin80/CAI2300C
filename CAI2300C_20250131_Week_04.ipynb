{
  "nbformat": 4,
  "nbformat_minor": 0,
  "metadata": {
    "colab": {
      "provenance": [],
      "toc_visible": true,
      "include_colab_link": true
    },
    "kernelspec": {
      "name": "python3",
      "display_name": "Python 3"
    },
    "language_info": {
      "name": "python"
    }
  },
  "cells": [
    {
      "cell_type": "markdown",
      "metadata": {
        "id": "view-in-github",
        "colab_type": "text"
      },
      "source": [
        "<a href=\"https://colab.research.google.com/github/Zeaxanthin80/CAI2300C/blob/main/CAI2300C_20250131_Week_04.ipynb\" target=\"_parent\"><img src=\"https://colab.research.google.com/assets/colab-badge.svg\" alt=\"Open In Colab\"/></a>"
      ]
    },
    {
      "cell_type": "code",
      "execution_count": null,
      "metadata": {
        "id": "gI4PMRLJFsiO"
      },
      "outputs": [],
      "source": [
        "from openai import OpenAI\n",
        "from scipy.spatial import distance\n",
        "import numpy as np\n",
        "\n",
        "# Initialize OpenAI client with your API key\n",
        "client = OpenAI(api_key=\"API_KEY\")  # Replace \"your-api-key\" with your actual OpenAI API key\n",
        "\n",
        "# Define the embedding function using the OpenAI client\n",
        "def create_embeddings(texts, model=\"text-embedding-3-small\"):\n",
        "    embeddings = []\n",
        "    for text in texts:\n",
        "        response = client.embeddings.create(\n",
        "            input=text,\n",
        "            model=model\n",
        "        )\n",
        "        embeddings.append(response.data[0].embedding)\n",
        "    return embeddings"
      ]
    },
    {
      "cell_type": "code",
      "source": [
        "# Example customer complaints\n",
        "customer_complaints = [\n",
        "    \"The delivery of my order was delayed by 3 days, and I had to constantly check the tracking system for updates. This caused inconvenience as it was a gift that I needed urgently.\",\n",
        "    \"I received a damaged product in the package, and the box itself was torn. It seems there was no care taken during the shipping process.\",\n",
        "    \"The refund process is incredibly slow. I submitted my request weeks ago and still haven't received any confirmation or updates on the status of my refund.\",\n",
        "    \"The customer service representative I spoke to was extremely rude and unhelpful, refusing to listen to my concerns or provide a proper resolution.\",\n",
        "    \"I never received the order I placed two weeks ago, even though the system marked it as delivered. I feel like my money has been wasted.\",\n",
        "    \"The packaging was torn and damaged when my order arrived, making it look like the contents could have been tampered with or mishandled during shipping.\",\n",
        "    \"The product I received doesn’t match the description on the website at all. It feels misleading, and I now have to go through the hassle of returning it.\",\n",
        "    \"The website is confusing and difficult to navigate, making it hard to find what I was looking for. The search feature also doesn’t provide accurate results.\",\n",
        "    \"I was incorrectly charged an extra amount for my order, and I can't figure out why. The customer support hasn't resolved this issue yet.\",\n",
        "    \"The warranty claim process is unclear, and I couldn’t find any detailed instructions on the website. I’ve been stuck without a resolution for weeks.\",\n",
        "    \"The size I ordered doesn’t fit, even though I followed the size chart on your website. It seems the chart is inaccurate and misleading.\",\n",
        "    \"I tried canceling my order before it was shipped, but the system wouldn't let me. Now, I’m stuck with something I don’t need.\",\n",
        "    \"The product quality is far below what I expected based on the reviews and description. It feels like I’ve been scammed.\",\n",
        "    \"The live chat feature on the website never connects me to an agent. I’ve tried multiple times, and the automated replies aren’t helpful at all.\",\n",
        "    \"I’ve been charged for a subscription that I never signed up for. It’s unfair, and I haven’t received any explanation or solution yet.\",\n",
        "    \"The instructions for assembling the product were incomplete and confusing. I had to search online to figure out how to put it together.\",\n",
        "    \"My account was locked for no reason, and I wasn’t able to make a purchase. Customer support didn’t resolve this issue quickly.\",\n",
        "    \"The item was marked as 'in stock,' but after I placed the order, I was informed that it’s on backorder and won’t arrive for weeks.\",\n",
        "    \"I received the wrong item in my order, and now I have to go through the hassle of returning it and waiting for a replacement.\",\n",
        "    \"The checkout process on the website is frustratingly slow, and my payment failed multiple times before finally going through.\",\n",
        "    \"My promotional discount code didn’t work at checkout, and I ended up paying the full price. I contacted support but haven’t heard back yet.\",\n",
        "    \"The delivery person left my package outside in the rain, ruining the contents inside. There should be better handling of deliveries.\",\n",
        "    \"I had to pay additional customs fees that weren’t disclosed when I placed the order. This hidden charge is unacceptable.\",\n",
        "    \"The automated phone system doesn’t connect me to a real person, and I’ve been stuck waiting for a resolution for over a week.\",\n",
        "    \"The color of the product I received is completely different from what was shown on the website. It’s not what I ordered at all.\",\n",
        "    \"The mobile app keeps crashing whenever I try to add items to my cart. It’s been impossible to complete my purchase.\",\n",
        "    \"The tracking information for my shipment hasn’t been updated in days, and I have no idea where my package is.\",\n",
        "    \"The item I purchased doesn’t work as advertised. It’s defective and should have been properly tested before being sold.\",\n",
        "    \"I paid for expedited shipping, but my order still arrived late. I feel like I wasted money on a service that wasn’t delivered.\",\n",
        "    \"I’ve been trying to return a product for over two weeks, but the return label hasn’t been sent to me yet. This delay is unacceptable.\"\n",
        "]"
      ],
      "metadata": {
        "id": "cjB6S0QUG8fF"
      },
      "execution_count": null,
      "outputs": []
    },
    {
      "cell_type": "code",
      "source": [
        "# Generate embeddings for the complaints\n",
        "complaints = []\n",
        "embeddings = create_embeddings(customer_complaints, model=\"text-embedding-3-small\")\n",
        "\n",
        "for complaint, embedding in zip(customer_complaints, embeddings):\n",
        "    complaints.append({\"complaint\": complaint, \"embedding\": embedding})"
      ],
      "metadata": {
        "id": "en1X05IRHMMt"
      },
      "execution_count": null,
      "outputs": []
    },
    {
      "cell_type": "code",
      "source": [
        "# Search query\n",
        "search_text = \"Why is my delivery late?\"\n",
        "\n",
        "# Generate the embedding for the query\n",
        "search_embedding = create_embeddings([search_text])[0]\n",
        "\n",
        "# Calculate cosine distances between the query and complaints\n",
        "distances = []\n",
        "for complaint in complaints:\n",
        "    dist = distance.cosine(search_embedding, complaint[\"embedding\"])\n",
        "    distances.append(dist)\n",
        "\n",
        "# Find the closest complaint\n",
        "min_dist_ind = np.argmin(distances)\n",
        "closest_complaint = complaints[min_dist_ind]\n",
        "\n",
        "print(f\"Search Query: {search_text}\")\n",
        "print(f\"Closest Complaint: {closest_complaint['complaint']}\")"
      ],
      "metadata": {
        "colab": {
          "base_uri": "https://localhost:8080/"
        },
        "id": "-eWMCIBNHmLh",
        "outputId": "6dcec3b7-8497-4689-8cee-1b615dc27e6e"
      },
      "execution_count": null,
      "outputs": [
        {
          "output_type": "stream",
          "name": "stdout",
          "text": [
            "Search Query: Why is my delivery late?\n",
            "Closest Complaint: The delivery of my order was delayed by 3 days, and I had to constantly check the tracking system for updates. This caused inconvenience as it was a gift that I needed urgently.\n"
          ]
        }
      ]
    },
    {
      "cell_type": "code",
      "source": [
        "!pip install gradio -qqq\n",
        "import gradio as gr\n",
        "\n",
        "# Define the search function\n",
        "def find_similar_complaint(query):\n",
        "    search_embedding = create_embeddings([query])[0]\n",
        "    distances = [distance.cosine(search_embedding, c[\"embedding\"]) for c in complaints]\n",
        "    min_dist_ind = np.argmin(distances)\n",
        "    closest_complaint = complaints[min_dist_ind]\n",
        "    return f\"Query: {query}\\n\\nMost Similar Complaint: {closest_complaint['complaint']}\"\n",
        "\n",
        "# Create the Gradio interface\n",
        "interface = gr.Interface(\n",
        "    fn=find_similar_complaint,\n",
        "    inputs=\"text\",\n",
        "    outputs=\"text\",\n",
        "    title=\"Semantic Search for Customer Complaints\",\n",
        "    description=\"Enter a customer query to find similar complaints in the database.\"\n",
        ")\n",
        "\n",
        "# Launch the app\n",
        "interface.launch()"
      ],
      "metadata": {
        "colab": {
          "base_uri": "https://localhost:8080/",
          "height": 921
        },
        "id": "cvlE9UJbJA5z",
        "outputId": "07f625a9-de94-47ed-ea19-bcb41db0a1be"
      },
      "execution_count": null,
      "outputs": [
        {
          "output_type": "stream",
          "name": "stdout",
          "text": [
            "\u001b[2K   \u001b[90m━━━━━━━━━━━━━━━━━━━━━━━━━━━━━━━━━━━━━━━━\u001b[0m \u001b[32m57.7/57.7 MB\u001b[0m \u001b[31m8.8 MB/s\u001b[0m eta \u001b[36m0:00:00\u001b[0m\n",
            "\u001b[2K   \u001b[90m━━━━━━━━━━━━━━━━━━━━━━━━━━━━━━━━━━━━━━━━\u001b[0m \u001b[32m321.9/321.9 kB\u001b[0m \u001b[31m16.1 MB/s\u001b[0m eta \u001b[36m0:00:00\u001b[0m\n",
            "\u001b[2K   \u001b[90m━━━━━━━━━━━━━━━━━━━━━━━━━━━━━━━━━━━━━━━━\u001b[0m \u001b[32m94.8/94.8 kB\u001b[0m \u001b[31m6.7 MB/s\u001b[0m eta \u001b[36m0:00:00\u001b[0m\n",
            "\u001b[2K   \u001b[90m━━━━━━━━━━━━━━━━━━━━━━━━━━━━━━━━━━━━━━━━\u001b[0m \u001b[32m12.4/12.4 MB\u001b[0m \u001b[31m86.3 MB/s\u001b[0m eta \u001b[36m0:00:00\u001b[0m\n",
            "\u001b[2K   \u001b[90m━━━━━━━━━━━━━━━━━━━━━━━━━━━━━━━━━━━━━━━━\u001b[0m \u001b[32m71.5/71.5 kB\u001b[0m \u001b[31m5.3 MB/s\u001b[0m eta \u001b[36m0:00:00\u001b[0m\n",
            "\u001b[2K   \u001b[90m━━━━━━━━━━━━━━━━━━━━━━━━━━━━━━━━━━━━━━━━\u001b[0m \u001b[32m62.3/62.3 kB\u001b[0m \u001b[31m4.6 MB/s\u001b[0m eta \u001b[36m0:00:00\u001b[0m\n",
            "\u001b[?25h\u001b[31mERROR: pip's dependency resolver does not currently take into account all the packages that are installed. This behaviour is the source of the following dependency conflicts.\n",
            "torch 2.5.1+cu124 requires nvidia-cublas-cu12==12.4.5.8; platform_system == \"Linux\" and platform_machine == \"x86_64\", but you have nvidia-cublas-cu12 12.5.3.2 which is incompatible.\n",
            "torch 2.5.1+cu124 requires nvidia-cuda-cupti-cu12==12.4.127; platform_system == \"Linux\" and platform_machine == \"x86_64\", but you have nvidia-cuda-cupti-cu12 12.5.82 which is incompatible.\n",
            "torch 2.5.1+cu124 requires nvidia-cuda-nvrtc-cu12==12.4.127; platform_system == \"Linux\" and platform_machine == \"x86_64\", but you have nvidia-cuda-nvrtc-cu12 12.5.82 which is incompatible.\n",
            "torch 2.5.1+cu124 requires nvidia-cuda-runtime-cu12==12.4.127; platform_system == \"Linux\" and platform_machine == \"x86_64\", but you have nvidia-cuda-runtime-cu12 12.5.82 which is incompatible.\n",
            "torch 2.5.1+cu124 requires nvidia-cudnn-cu12==9.1.0.70; platform_system == \"Linux\" and platform_machine == \"x86_64\", but you have nvidia-cudnn-cu12 9.3.0.75 which is incompatible.\n",
            "torch 2.5.1+cu124 requires nvidia-cufft-cu12==11.2.1.3; platform_system == \"Linux\" and platform_machine == \"x86_64\", but you have nvidia-cufft-cu12 11.2.3.61 which is incompatible.\n",
            "torch 2.5.1+cu124 requires nvidia-curand-cu12==10.3.5.147; platform_system == \"Linux\" and platform_machine == \"x86_64\", but you have nvidia-curand-cu12 10.3.6.82 which is incompatible.\n",
            "torch 2.5.1+cu124 requires nvidia-cusolver-cu12==11.6.1.9; platform_system == \"Linux\" and platform_machine == \"x86_64\", but you have nvidia-cusolver-cu12 11.6.3.83 which is incompatible.\n",
            "torch 2.5.1+cu124 requires nvidia-cusparse-cu12==12.3.1.170; platform_system == \"Linux\" and platform_machine == \"x86_64\", but you have nvidia-cusparse-cu12 12.5.1.3 which is incompatible.\n",
            "torch 2.5.1+cu124 requires nvidia-nvjitlink-cu12==12.4.127; platform_system == \"Linux\" and platform_machine == \"x86_64\", but you have nvidia-nvjitlink-cu12 12.5.82 which is incompatible.\u001b[0m\u001b[31m\n",
            "\u001b[0mRunning Gradio in a Colab notebook requires sharing enabled. Automatically setting `share=True` (you can turn this off by setting `share=False` in `launch()` explicitly).\n",
            "\n",
            "Colab notebook detected. To show errors in colab notebook, set debug=True in launch()\n",
            "* Running on public URL: https://95d9f8076f17b7c7cd.gradio.live\n",
            "\n",
            "This share link expires in 72 hours. For free permanent hosting and GPU upgrades, run `gradio deploy` from the terminal in the working directory to deploy to Hugging Face Spaces (https://huggingface.co/spaces)\n"
          ]
        },
        {
          "output_type": "display_data",
          "data": {
            "text/plain": [
              "<IPython.core.display.HTML object>"
            ],
            "text/html": [
              "<div><iframe src=\"https://95d9f8076f17b7c7cd.gradio.live\" width=\"100%\" height=\"500\" allow=\"autoplay; camera; microphone; clipboard-read; clipboard-write;\" frameborder=\"0\" allowfullscreen></iframe></div>"
            ]
          },
          "metadata": {}
        },
        {
          "output_type": "execute_result",
          "data": {
            "text/plain": []
          },
          "metadata": {},
          "execution_count": 5
        }
      ]
    },
    {
      "cell_type": "code",
      "source": [
        "legal_summaries = [\n",
        "    {\n",
        "        \"summary\": \"The Supreme Court ruled in favor of the plaintiff regarding environmental regulations, emphasizing the need for stricter enforcement to protect endangered species in industrial zones.\",\n",
        "        \"topic\": \"Environmental Law\",\n",
        "        \"keywords\": [\"Supreme Court\", \"plaintiff\", \"environmental regulations\", \"endangered species\", \"industrial zones\"]\n",
        "    },\n",
        "    {\n",
        "        \"summary\": \"A new policy on data privacy was enacted to protect user information, requiring companies to implement stricter encryption standards for all stored data.\",\n",
        "        \"topic\": \"Privacy Law\",\n",
        "        \"keywords\": [\"data privacy\", \"policy\", \"user information\", \"encryption standards\", \"data storage\"]\n",
        "    },\n",
        "    {\n",
        "        \"summary\": \"The landmark case addressed intellectual property rights for AI-generated content, establishing that such creations could not yet qualify for traditional copyright protections.\",\n",
        "        \"topic\": \"Intellectual Property\",\n",
        "        \"keywords\": [\"intellectual property\", \"AI\", \"landmark case\", \"copyright\", \"AI-generated content\"]\n",
        "    },\n",
        "    {\n",
        "        \"summary\": \"Antitrust concerns were raised in a merger between two major tech companies, with regulators questioning the potential for monopolistic practices in the digital advertising sector.\",\n",
        "        \"topic\": \"Antitrust Law\",\n",
        "        \"keywords\": [\"antitrust\", \"merger\", \"tech companies\", \"monopoly\", \"digital advertising\"]\n",
        "    },\n",
        "    {\n",
        "        \"summary\": \"The court dismissed charges of negligence against the pharmaceutical company, citing insufficient evidence to prove a breach of safety protocols during the manufacturing process.\",\n",
        "        \"topic\": \"Healthcare Law\",\n",
        "        \"keywords\": [\"negligence\", \"pharmaceutical company\", \"court dismissal\", \"safety protocols\", \"manufacturing process\"]\n",
        "    },\n",
        "    {\n",
        "        \"summary\": \"The court ruled that a major energy company was liable for damages caused by an oil spill that affected coastal communities and wildlife habitats.\",\n",
        "        \"topic\": \"Environmental Law\",\n",
        "        \"keywords\": [\"oil spill\", \"energy company\", \"liability\", \"coastal communities\", \"wildlife habitats\"]\n",
        "    },\n",
        "    {\n",
        "        \"summary\": \"A federal ruling mandated that companies must disclose all data breaches affecting more than 10,000 users within 48 hours of detection.\",\n",
        "        \"topic\": \"Privacy Law\",\n",
        "        \"keywords\": [\"data breaches\", \"federal ruling\", \"disclosure\", \"user protection\", \"48-hour rule\"]\n",
        "    },\n",
        "    {\n",
        "        \"summary\": \"The court upheld the trademark infringement claim, ruling that the defendant's branding created consumer confusion with an established company's product line.\",\n",
        "        \"topic\": \"Intellectual Property\",\n",
        "        \"keywords\": [\"trademark infringement\", \"branding\", \"consumer confusion\", \"product line\", \"court ruling\"]\n",
        "    },\n",
        "    {\n",
        "        \"summary\": \"An antitrust lawsuit was filed against a leading e-commerce platform for allegedly using its market dominance to suppress smaller competitors.\",\n",
        "        \"topic\": \"Antitrust Law\",\n",
        "        \"keywords\": [\"antitrust lawsuit\", \"e-commerce\", \"market dominance\", \"smaller competitors\", \"suppression\"]\n",
        "    },\n",
        "    {\n",
        "        \"summary\": \"A healthcare company was fined for failing to comply with federal health data privacy regulations, resulting in unauthorized access to patient records.\",\n",
        "        \"topic\": \"Healthcare Law\",\n",
        "        \"keywords\": [\"healthcare company\", \"fines\", \"data privacy\", \"patient records\", \"non-compliance\"]\n",
        "    },\n",
        "    {\n",
        "        \"summary\": \"Environmental advocates sued a chemical manufacturer over illegal waste disposal practices that contaminated local water supplies.\",\n",
        "        \"topic\": \"Environmental Law\",\n",
        "        \"keywords\": [\"illegal waste disposal\", \"chemical manufacturer\", \"water contamination\", \"lawsuit\", \"environmental advocates\"]\n",
        "    },\n",
        "    {\n",
        "        \"summary\": \"New legislation on biometric data collection requires businesses to obtain explicit consent before capturing or storing fingerprints or facial recognition data.\",\n",
        "        \"topic\": \"Privacy Law\",\n",
        "        \"keywords\": [\"biometric data\", \"explicit consent\", \"facial recognition\", \"fingerprints\", \"data collection\"]\n",
        "    },\n",
        "    {\n",
        "        \"summary\": \"The court ruled that a software developer retained ownership of the source code created during a freelance project, reinforcing independent contractor rights.\",\n",
        "        \"topic\": \"Intellectual Property\",\n",
        "        \"keywords\": [\"source code\", \"software developer\", \"freelance project\", \"ownership\", \"contractor rights\"]\n",
        "    },\n",
        "    {\n",
        "        \"summary\": \"Regulators imposed fines on a major telecom company for collusion in price-fixing agreements with its regional partners.\",\n",
        "        \"topic\": \"Antitrust Law\",\n",
        "        \"keywords\": [\"collusion\", \"price-fixing\", \"telecom company\", \"regional partners\", \"regulators\"]\n",
        "    },\n",
        "    {\n",
        "        \"summary\": \"The court held a healthcare provider liable for medical malpractice after failing to diagnose a patient’s life-threatening condition in a timely manner.\",\n",
        "        \"topic\": \"Healthcare Law\",\n",
        "        \"keywords\": [\"medical malpractice\", \"healthcare provider\", \"liability\", \"misdiagnosis\", \"timely care\"]\n",
        "    }\n",
        "]"
      ],
      "metadata": {
        "id": "QYPOeZo3NE4X"
      },
      "execution_count": null,
      "outputs": []
    },
    {
      "cell_type": "code",
      "source": [
        "for summary in legal_summaries:\n",
        "    embedding = create_embeddings([summary[\"summary\"]], model=\"text-embedding-3-small\")[0]\n",
        "    summary[\"embedding\"] = embedding"
      ],
      "metadata": {
        "id": "GYPjyTS1NRlV"
      },
      "execution_count": null,
      "outputs": []
    },
    {
      "cell_type": "code",
      "source": [
        "# Search text (legal query)\n",
        "search_text = \"biometric data\"\n",
        "search_embedding = create_embeddings([search_text])[0]\n",
        "\n",
        "# Calculate cosine distances\n",
        "distances = []\n",
        "for summary in legal_summaries:\n",
        "    dist = distance.cosine(search_embedding, summary[\"embedding\"])\n",
        "    distances.append(dist)\n",
        "\n",
        "# Find the legal summary with the smallest distance\n",
        "min_dist_ind = np.argmin(distances)\n",
        "closest_summary = legal_summaries[min_dist_ind]\n",
        "\n",
        "print(f\"Closest Legal Summary: {closest_summary['summary']}\")\n",
        "print(f\"Topic: {closest_summary['topic']}\")\n",
        "print(f\"Keywords: {', '.join(closest_summary['keywords'])}\")"
      ],
      "metadata": {
        "colab": {
          "base_uri": "https://localhost:8080/"
        },
        "id": "QjEbnhXYNZYl",
        "outputId": "a334c786-a72c-4c05-aab1-aba5ae960824"
      },
      "execution_count": null,
      "outputs": [
        {
          "output_type": "stream",
          "name": "stdout",
          "text": [
            "Closest Legal Summary: New legislation on biometric data collection requires businesses to obtain explicit consent before capturing or storing fingerprints or facial recognition data.\n",
            "Topic: Privacy Law\n",
            "Keywords: biometric data, explicit consent, facial recognition, fingerprints, data collection\n"
          ]
        }
      ]
    },
    {
      "cell_type": "code",
      "source": [
        "import gradio as gr\n",
        "\n",
        "# Define the Gradio search function\n",
        "def find_similar_summary(query):\n",
        "    search_embedding = create_embeddings([query])[0]\n",
        "    distances = [distance.cosine(search_embedding, s[\"embedding\"]) for s in legal_summaries]\n",
        "    min_dist_ind = np.argmin(distances)\n",
        "    closest_summary = legal_summaries[min_dist_ind]\n",
        "    return (\n",
        "        f\"Query: {query}\\n\\n\"\n",
        "        f\"Closest Legal Summary: {closest_summary['summary']}\\n\\n\"\n",
        "        f\"Topic: {closest_summary['topic']}\\n\"\n",
        "        f\"Keywords: {', '.join(closest_summary['keywords'])}\"\n",
        "    )\n",
        "\n",
        "# Create the Gradio interface\n",
        "interface = gr.Interface(\n",
        "    fn=find_similar_summary,\n",
        "    inputs=\"text\",\n",
        "    outputs=\"text\",\n",
        "    title=\"Semantic Search for Legal Summaries\",\n",
        "    description=\"Enter a legal query to find the most relevant legal summary.\"\n",
        ")\n",
        "\n",
        "# Launch the app\n",
        "interface.launch()"
      ],
      "metadata": {
        "colab": {
          "base_uri": "https://localhost:8080/",
          "height": 626
        },
        "id": "o_wEEAmNPghj",
        "outputId": "05486b97-2fb8-4536-a879-3951fa949e6c"
      },
      "execution_count": null,
      "outputs": [
        {
          "output_type": "stream",
          "name": "stdout",
          "text": [
            "Running Gradio in a Colab notebook requires sharing enabled. Automatically setting `share=True` (you can turn this off by setting `share=False` in `launch()` explicitly).\n",
            "\n",
            "Colab notebook detected. To show errors in colab notebook, set debug=True in launch()\n",
            "* Running on public URL: https://11a4123af05a6325ea.gradio.live\n",
            "\n",
            "This share link expires in 72 hours. For free permanent hosting and GPU upgrades, run `gradio deploy` from the terminal in the working directory to deploy to Hugging Face Spaces (https://huggingface.co/spaces)\n"
          ]
        },
        {
          "output_type": "display_data",
          "data": {
            "text/plain": [
              "<IPython.core.display.HTML object>"
            ],
            "text/html": [
              "<div><iframe src=\"https://11a4123af05a6325ea.gradio.live\" width=\"100%\" height=\"500\" allow=\"autoplay; camera; microphone; clipboard-read; clipboard-write;\" frameborder=\"0\" allowfullscreen></iframe></div>"
            ]
          },
          "metadata": {}
        },
        {
          "output_type": "execute_result",
          "data": {
            "text/plain": []
          },
          "metadata": {},
          "execution_count": 9
        }
      ]
    },
    {
      "cell_type": "code",
      "source": [
        "products = [\n",
        "    {\n",
        "        \"title\": \"Smartphone X1\",\n",
        "        \"short_description\": \"The latest flagship smartphone featuring advanced AI-powered capabilities, exceptional performance, and a sleek design for modern users.\",\n",
        "        \"price\": 799.99,\n",
        "        \"category\": \"Electronics\",\n",
        "        \"features\": [\"6.5-inch AMOLED display\", \"Fast wireless charging\", \"Triple rear camera system\"]\n",
        "    },\n",
        "    {\n",
        "        \"title\": \"Laptop Pro 15\",\n",
        "        \"short_description\": \"A high-performance laptop crafted for professionals, equipped with top-tier specifications for seamless multitasking and creativity.\",\n",
        "        \"price\": 1299.99,\n",
        "        \"category\": \"Electronics\",\n",
        "        \"features\": [\"15.6-inch 4K display\", \"Intel Core i7 processor\", \"16GB RAM, 512GB SSD\"]\n",
        "    },\n",
        "    {\n",
        "        \"title\": \"Wireless Headphones Z9\",\n",
        "        \"short_description\": \"Noise-canceling wireless headphones offering unparalleled sound quality and comfort, designed for long listening sessions and productivity.\",\n",
        "        \"price\": 249.99,\n",
        "        \"category\": \"Electronics\",\n",
        "        \"features\": [\"Active noise cancellation\", \"40-hour battery life\", \"Bluetooth 5.0 connectivity\"]\n",
        "    },\n",
        "    {\n",
        "        \"title\": \"Smart Watch S3\",\n",
        "        \"short_description\": \"An advanced fitness-focused smartwatch providing detailed health tracking, durable design, and integrated activity monitoring features.\",\n",
        "        \"price\": 199.99,\n",
        "        \"category\": \"Wearables\",\n",
        "        \"features\": [\"Heart rate and sleep tracking\", \"Water-resistant design\", \"GPS and activity tracking\"]\n",
        "    },\n",
        "    {\n",
        "        \"title\": \"Bluetooth Speaker Max\",\n",
        "        \"short_description\": \"A compact and portable Bluetooth speaker delivering deep bass, 360° sound, and a waterproof design for outdoor and indoor use.\",\n",
        "        \"price\": 99.99,\n",
        "        \"category\": \"Audio\",\n",
        "        \"features\": [\"20-hour battery life\", \"IPX7 waterproof\", \"Rich bass and 360° sound\"]\n",
        "    },\n",
        "    {\n",
        "        \"title\": \"Robot Vacuum X5\",\n",
        "        \"short_description\": \"A next-generation smart robot vacuum with automatic room mapping, voice assistant integration, and powerful cleaning capabilities.\",\n",
        "        \"price\": 399.99,\n",
        "        \"category\": \"Smart Home\",\n",
        "        \"features\": [\"Automatic mapping\", \"Voice assistant compatibility\", \"Powerful suction for all surfaces\"]\n",
        "    },\n",
        "    {\n",
        "        \"title\": \"Electric Kettle Pro\",\n",
        "        \"short_description\": \"A sleek and stylish electric kettle offering variable temperature controls, a 1.7L capacity, and an auto shut-off feature for safety.\",\n",
        "        \"price\": 79.99,\n",
        "        \"category\": \"Kitchen Appliances\",\n",
        "        \"features\": [\"Variable temperature control\", \"1.7L capacity\", \"Auto shut-off\"]\n",
        "    },\n",
        "    {\n",
        "        \"title\": \"Smart Doorbell Cam\",\n",
        "        \"short_description\": \"A modern smart doorbell with HD video recording, motion detection alerts, and two-way audio for enhanced home security.\",\n",
        "        \"price\": 149.99,\n",
        "        \"category\": \"Smart Home\",\n",
        "        \"features\": [\"1080p HD video\", \"Motion detection alerts\", \"Two-way audio\"]\n",
        "    },\n",
        "    {\n",
        "        \"title\": \"Gaming Console 360\",\n",
        "        \"short_description\": \"A powerful next-gen gaming console offering 8K support, advanced ray tracing technology, and immersive gameplay for serious gamers.\",\n",
        "        \"price\": 499.99,\n",
        "        \"category\": \"Gaming\",\n",
        "        \"features\": [\"8K gaming support\", \"1TB storage\", \"Ray tracing technology\"]\n",
        "    },\n",
        "    {\n",
        "        \"title\": \"Drone Explorer 200\",\n",
        "        \"short_description\": \"A professional-grade drone with 4K ultra-HD recording, GPS navigation, and long-lasting battery life for aerial photography enthusiasts.\",\n",
        "        \"price\": 899.99,\n",
        "        \"category\": \"Electronics\",\n",
        "        \"features\": [\"4K ultra-HD camera\", \"GPS navigation\", \"30-minute flight time\"]\n",
        "    },\n",
        "    {\n",
        "        \"title\": \"Ergonomic Office Chair\",\n",
        "        \"short_description\": \"An adjustable ergonomic office chair designed for optimal lumbar support and all-day comfort during long work sessions.\",\n",
        "        \"price\": 299.99,\n",
        "        \"category\": \"Furniture\",\n",
        "        \"features\": [\"Lumbar support\", \"Adjustable height and tilt\", \"Breathable mesh material\"]\n",
        "    },\n",
        "    {\n",
        "        \"title\": \"Air Purifier Plus\",\n",
        "        \"short_description\": \"An advanced air purifier with multi-layer HEPA filtration, smart controls, and whisper-quiet operation for a healthier home environment.\",\n",
        "        \"price\": 179.99,\n",
        "        \"category\": \"Home Appliances\",\n",
        "        \"features\": [\"HEPA filtration\", \"Smartphone app control\", \"Silent operation\"]\n",
        "    },\n",
        "    {\n",
        "        \"title\": \"4K Action Camera\",\n",
        "        \"short_description\": \"A rugged action camera offering 4K video recording, waterproof capabilities, and image stabilization for adventure seekers.\",\n",
        "        \"price\": 299.99,\n",
        "        \"category\": \"Cameras\",\n",
        "        \"features\": [\"4K video recording\", \"Waterproof up to 30m\", \"Image stabilization\"]\n",
        "    },\n",
        "    {\n",
        "        \"title\": \"High-Performance Blender\",\n",
        "        \"short_description\": \"A powerful blender with durable blades and variable speed settings, ideal for smoothies, soups, and frozen treats.\",\n",
        "        \"price\": 249.99,\n",
        "        \"category\": \"Kitchen Appliances\",\n",
        "        \"features\": [\"1000W motor\", \"Durable stainless-steel blades\", \"Variable speed settings\"]\n",
        "    },\n",
        "    {\n",
        "        \"title\": \"Electric Standing Desk\",\n",
        "        \"short_description\": \"A height-adjustable standing desk with memory presets and a sturdy frame for an ergonomic work setup.\",\n",
        "        \"price\": 499.99,\n",
        "        \"category\": \"Furniture\",\n",
        "        \"features\": [\"Electric height adjustment\", \"Memory presets\", \"Sturdy metal frame\"]\n",
        "    },\n",
        "    {\n",
        "        \"title\": \"Portable Power Bank\",\n",
        "        \"short_description\": \"A compact high-capacity power bank capable of charging multiple devices simultaneously, designed for users on the go.\",\n",
        "        \"price\": 49.99,\n",
        "        \"category\": \"Accessories\",\n",
        "        \"features\": [\"20,000mAh capacity\", \"Fast charging ports\", \"Lightweight design\"]\n",
        "    },\n",
        "    {\n",
        "        \"title\": \"Smart Thermostat T1\",\n",
        "        \"short_description\": \"A smart thermostat offering energy efficiency, remote control via app, and voice assistant compatibility for modern homes.\",\n",
        "        \"price\": 199.99,\n",
        "        \"category\": \"Smart Home\",\n",
        "        \"features\": [\"Remote temperature control\", \"Energy monitoring\", \"Voice assistant integration\"]\n",
        "    },\n",
        "    {\n",
        "        \"title\": \"Noise-Canceling Earbuds\",\n",
        "        \"short_description\": \"Compact and lightweight earbuds with premium noise-canceling features and high-quality audio for uninterrupted listening.\",\n",
        "        \"price\": 149.99,\n",
        "        \"category\": \"Audio\",\n",
        "        \"features\": [\"Active noise cancellation\", \"Wireless charging case\", \"12-hour playback time\"]\n",
        "    },\n",
        "    {\n",
        "        \"title\": \"Smart Home Assistant\",\n",
        "        \"short_description\": \"A smart home hub equipped with advanced AI-powered voice control to manage all connected devices seamlessly.\",\n",
        "        \"price\": 129.99,\n",
        "        \"category\": \"Smart Home\",\n",
        "        \"features\": [\"Voice assistant integration\", \"Device compatibility\", \"Built-in speakers\"]\n",
        "    },\n",
        "    {\n",
        "        \"title\": \"Smart Coffee Maker\",\n",
        "        \"short_description\": \"An intelligent coffee maker with customizable brew settings, app controls, and a programmable timer for busy mornings.\",\n",
        "        \"price\": 199.99,\n",
        "        \"category\": \"Kitchen Appliances\",\n",
        "        \"features\": [\"Customizable brew settings\", \"App control\", \"Programmable timer\"]\n",
        "    },\n",
        "    {\n",
        "        \"title\": \"Smart Fitness Scale\",\n",
        "        \"short_description\": \"A smart scale offering body composition analysis, app tracking, and wireless connectivity to monitor fitness progress.\",\n",
        "        \"price\": 89.99,\n",
        "        \"category\": \"Fitness\",\n",
        "        \"features\": [\"Body composition analysis\", \"Wireless connectivity\", \"App integration\"]\n",
        "    },\n",
        "    {\n",
        "        \"title\": \"Wireless Charging Pad\",\n",
        "        \"short_description\": \"A sleek wireless charging pad capable of fast charging multiple devices simultaneously for convenient use.\",\n",
        "        \"price\": 39.99,\n",
        "        \"category\": \"Accessories\",\n",
        "        \"features\": [\"Fast wireless charging\", \"Multi-device support\", \"Compact design\"]\n",
        "    },\n",
        "    {\n",
        "        \"title\": \"Smart Refrigerator Pro\",\n",
        "        \"short_description\": \"A cutting-edge smart refrigerator with touch controls, energy-saving features, and built-in food inventory management.\",\n",
        "        \"price\": 2299.99,\n",
        "        \"category\": \"Home Appliances\",\n",
        "        \"features\": [\"Touchscreen controls\", \"Energy-efficient\", \"Food inventory management\"]\n",
        "    },\n",
        "    {\n",
        "        \"title\": \"Gaming Headset X200\",\n",
        "        \"short_description\": \"A premium gaming headset with immersive 3D sound, noise isolation, and a comfortable lightweight design.\",\n",
        "        \"price\": 129.99,\n",
        "        \"category\": \"Gaming\",\n",
        "        \"features\": [\"3D sound\", \"Noise isolation\", \"Lightweight design\"]\n",
        "    },\n",
        "    {\n",
        "        \"title\": \"Smart Light Bulb Kit\",\n",
        "        \"short_description\": \"A set of smart light bulbs with adjustable brightness, color-changing features, and app control for customizable ambiance.\",\n",
        "        \"price\": 49.99,\n",
        "        \"category\": \"Smart Home\",\n",
        "        \"features\": [\"Adjustable brightness\", \"Color changing\", \"App control\"]\n",
        "    },\n",
        "    {\n",
        "        \"title\": \"Advanced DSLR Camera\",\n",
        "        \"short_description\": \"A high-resolution DSLR camera with interchangeable lenses, 4K video recording, and advanced autofocus capabilities.\",\n",
        "        \"price\": 1599.99,\n",
        "        \"category\": \"Cameras\",\n",
        "        \"features\": [\"Interchangeable lenses\", \"4K video recording\", \"Advanced autofocus\"]\n",
        "    },\n",
        "    {\n",
        "        \"title\": \"Pet Monitoring Camera\",\n",
        "        \"short_description\": \"A pet-friendly camera with HD recording, two-way audio, and treat dispensing to keep your pet engaged and safe.\",\n",
        "        \"price\": 199.99,\n",
        "        \"category\": \"Smart Home\",\n",
        "        \"features\": [\"HD recording\", \"Two-way audio\", \"Treat dispensing\"]\n",
        "    },\n",
        "    {\n",
        "        \"title\": \"VR Headset Pro\",\n",
        "        \"short_description\": \"A next-generation VR headset offering immersive gaming, 4K visuals, and advanced motion tracking technology.\",\n",
        "        \"price\": 499.99,\n",
        "        \"category\": \"Gaming\",\n",
        "        \"features\": [\"4K visuals\", \"Advanced motion tracking\", \"Comfortable design\"]\n",
        "    },\n",
        "    {\n",
        "        \"title\": \"Electric Bike Explorer\",\n",
        "        \"short_description\": \"An eco-friendly electric bike with a powerful motor, long battery range, and durable build for outdoor adventures.\",\n",
        "        \"price\": 1599.99,\n",
        "        \"category\": \"Fitness\",\n",
        "        \"features\": [\"Powerful motor\", \"Long battery range\", \"Durable build\"]\n",
        "    },\n",
        "    {\n",
        "        \"title\": \"Home Security System\",\n",
        "        \"short_description\": \"A comprehensive smart home security system with HD cameras, motion sensors, and real-time alerts for peace of mind.\",\n",
        "        \"price\": 499.99,\n",
        "        \"category\": \"Smart Home\",\n",
        "        \"features\": [\"HD cameras\", \"Motion sensors\", \"Real-time alerts\"]\n",
        "    }\n",
        "]\n"
      ],
      "metadata": {
        "id": "HfIA9tEaSndC"
      },
      "execution_count": null,
      "outputs": []
    },
    {
      "cell_type": "code",
      "source": [
        "# Define a function to combine product features into a single string\n",
        "def create_product_text(product):\n",
        "    return f\"{product['title']} - {product['short_description']}. Features: {', '.join(product['features'])}. Category: {product['category']}.\"\n"
      ],
      "metadata": {
        "id": "FzwvvyizSxZG"
      },
      "execution_count": null,
      "outputs": []
    },
    {
      "cell_type": "code",
      "source": [
        "# User's purchase history\n",
        "user_history = [\n",
        "    {\n",
        "        \"title\": \"Smartphone X1\",\n",
        "        \"short_description\": \"The latest flagship smartphone with AI-powered features.\",\n",
        "        \"price\": 799.99,\n",
        "        \"category\": \"Electronics\",\n",
        "        \"features\": [\"6.5-inch AMOLED display\", \"Fast wireless charging\", \"Triple rear camera system\"]\n",
        "    },\n",
        "    {\n",
        "        \"title\": \"Wireless Headphones Z9\",\n",
        "        \"short_description\": \"Noise-canceling wireless headphones with superior sound quality.\",\n",
        "        \"price\": 249.99,\n",
        "        \"category\": \"Electronics\",\n",
        "        \"features\": [\"Active noise cancellation\", \"40-hour battery life\", \"Bluetooth 5.0 connectivity\"]\n",
        "    }\n",
        "]"
      ],
      "metadata": {
        "id": "wx6VqoV1S0e5"
      },
      "execution_count": null,
      "outputs": []
    },
    {
      "cell_type": "code",
      "source": [
        "# Combine features for all products and user history\n",
        "product_texts = [create_product_text(product) for product in products]\n",
        "user_history_texts = [create_product_text(product) for product in user_history]"
      ],
      "metadata": {
        "id": "SJ1q2Ox6S_Bb"
      },
      "execution_count": null,
      "outputs": []
    },
    {
      "cell_type": "code",
      "source": [
        "# Create embeddings\n",
        "product_embeddings = create_embeddings(product_texts)\n",
        "user_history_embeddings = create_embeddings(user_history_texts)"
      ],
      "metadata": {
        "id": "kypspm1wTBqd"
      },
      "execution_count": null,
      "outputs": []
    },
    {
      "cell_type": "code",
      "source": [
        "# Compute the mean of user history embeddings\n",
        "user_history_mean = np.mean(user_history_embeddings, axis=0)"
      ],
      "metadata": {
        "id": "HKp5cDunTEXw"
      },
      "execution_count": null,
      "outputs": []
    },
    {
      "cell_type": "code",
      "source": [
        "# Filter out products already in user history\n",
        "filtered_products = [\n",
        "    product for product in products if create_product_text(product) not in user_history_texts\n",
        "]\n",
        "filtered_embeddings = [\n",
        "    embedding for product, embedding in zip(products, product_embeddings)\n",
        "    if create_product_text(product) not in user_history_texts\n",
        "]\n",
        "# Find the closest products using cosine similarity\n",
        "def find_n_closest(target_embedding, embeddings, n=5):\n",
        "    distances = [distance.cosine(target_embedding, emb) for emb in embeddings]\n",
        "    closest_indices = np.argsort(distances)[:n]\n",
        "    return closest_indices"
      ],
      "metadata": {
        "id": "mSVGwneNTLE-"
      },
      "execution_count": null,
      "outputs": []
    },
    {
      "cell_type": "code",
      "source": [
        "# Get top 5 recommendations\n",
        "recommendation_indices = find_n_closest(user_history_mean, filtered_embeddings, n=5)\n",
        "recommendations = [filtered_products[i] for i in recommendation_indices]\n",
        "# Display recommendations\n",
        "print(\"Top product recommendations for the user:\")\n",
        "for rec in recommendations:\n",
        "    print(f\"- {rec['title']}: {rec['short_description']} (${rec['price']})\")"
      ],
      "metadata": {
        "colab": {
          "base_uri": "https://localhost:8080/"
        },
        "id": "FpkEW0ilTQGh",
        "outputId": "f9dabe27-e371-4cdb-c7ac-549028c8e0d4"
      },
      "execution_count": null,
      "outputs": [
        {
          "output_type": "stream",
          "name": "stdout",
          "text": [
            "Top product recommendations for the user:\n",
            "- Smartphone X1: The latest flagship smartphone featuring advanced AI-powered capabilities, exceptional performance, and a sleek design for modern users. ($799.99)\n",
            "- Wireless Headphones Z9: Noise-canceling wireless headphones offering unparalleled sound quality and comfort, designed for long listening sessions and productivity. ($249.99)\n",
            "- Noise-Canceling Earbuds: Compact and lightweight earbuds with premium noise-canceling features and high-quality audio for uninterrupted listening. ($149.99)\n",
            "- Gaming Headset X200: A premium gaming headset with immersive 3D sound, noise isolation, and a comfortable lightweight design. ($129.99)\n",
            "- Bluetooth Speaker Max: A compact and portable Bluetooth speaker delivering deep bass, 360° sound, and a waterproof design for outdoor and indoor use. ($99.99)\n"
          ]
        }
      ]
    },
    {
      "cell_type": "code",
      "source": [
        "import gradio as gr\n",
        "\n",
        "# Define Gradio function\n",
        "def recommend_products(user_history_titles):\n",
        "    # Filter user history based on titles provided\n",
        "    user_history = [\n",
        "        product for product in products if product[\"title\"] in user_history_titles\n",
        "    ]\n",
        "    user_history_texts = [create_product_text(product) for product in user_history]\n",
        "    user_history_embeddings = create_embeddings(user_history_texts)\n",
        "    user_history_mean = np.mean(user_history_embeddings, axis=0)\n",
        "\n",
        "    # Filter products not in user history\n",
        "    filtered_products = [\n",
        "        product for product in products if product[\"title\"] not in user_history_titles\n",
        "    ]\n",
        "    filtered_embeddings = [\n",
        "        embedding for product, embedding in zip(products, product_embeddings)\n",
        "        if product[\"title\"] not in user_history_titles\n",
        "    ]\n",
        "\n",
        "    # Get top 3 recommendations\n",
        "    recommendation_indices = find_n_closest(user_history_mean, filtered_embeddings, n=5)\n",
        "    recommendations = [filtered_products[i] for i in recommendation_indices]\n",
        "\n",
        "    # Format recommendations for display\n",
        "    output = \"Top Product Recommendations:\\n\"\n",
        "    for rec in recommendations:\n",
        "        output += f\"- {rec['title']}: {rec['short_description']} (${rec['price']})\\n\"\n",
        "    return output\n",
        "\n",
        "# Define Gradio inputs and outputs\n",
        "product_titles = [product[\"title\"] for product in products]\n",
        "interface = gr.Interface(\n",
        "    fn=recommend_products,\n",
        "    inputs=gr.CheckboxGroup(choices=product_titles, label=\"Select Products in Your History\"),\n",
        "    outputs=\"text\",\n",
        "    title=\"Product Recommender\",\n",
        "    description=\"Select products you already own to receive new recommendations.\"\n",
        ")\n",
        "\n",
        "# Launch the interface\n",
        "interface.launch()"
      ],
      "metadata": {
        "id": "LI1tzrN0TZGW",
        "outputId": "9bd250b8-9caf-4950-cd43-b67a9b329a50",
        "colab": {
          "base_uri": "https://localhost:8080/",
          "height": 626
        }
      },
      "execution_count": null,
      "outputs": [
        {
          "output_type": "stream",
          "name": "stdout",
          "text": [
            "Running Gradio in a Colab notebook requires sharing enabled. Automatically setting `share=True` (you can turn this off by setting `share=False` in `launch()` explicitly).\n",
            "\n",
            "Colab notebook detected. To show errors in colab notebook, set debug=True in launch()\n",
            "* Running on public URL: https://7ea232ec344b6081e3.gradio.live\n",
            "\n",
            "This share link expires in 72 hours. For free permanent hosting and GPU upgrades, run `gradio deploy` from the terminal in the working directory to deploy to Hugging Face Spaces (https://huggingface.co/spaces)\n"
          ]
        },
        {
          "output_type": "display_data",
          "data": {
            "text/plain": [
              "<IPython.core.display.HTML object>"
            ],
            "text/html": [
              "<div><iframe src=\"https://7ea232ec344b6081e3.gradio.live\" width=\"100%\" height=\"500\" allow=\"autoplay; camera; microphone; clipboard-read; clipboard-write;\" frameborder=\"0\" allowfullscreen></iframe></div>"
            ]
          },
          "metadata": {}
        },
        {
          "output_type": "execute_result",
          "data": {
            "text/plain": []
          },
          "metadata": {},
          "execution_count": 18
        }
      ]
    }
  ]
}